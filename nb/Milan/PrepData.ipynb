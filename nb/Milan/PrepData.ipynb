{
 "cells": [
  {
   "cell_type": "markdown",
   "id": "af71b5bc-072e-4353-ab31-054e901efe22",
   "metadata": {},
   "source": [
    "# Prep Data"
   ]
  },
  {
   "cell_type": "code",
   "execution_count": 1,
   "id": "660952fa-321f-4b5f-9953-f67f50e8edfc",
   "metadata": {},
   "outputs": [],
   "source": [
    "import os\n",
    "\n",
    "import numpy as np\n",
    "import h5py\n",
    "\n",
    "from ulmo.plotting import plotting"
   ]
  },
  {
   "cell_type": "markdown",
   "id": "2c854670-cbed-4bc5-bfdb-177e5b795e51",
   "metadata": {},
   "source": [
    "# Load up the file"
   ]
  },
  {
   "cell_type": "code",
   "execution_count": 2,
   "id": "5ceebd6c-ff85-49a2-8243-f12ea1193bd1",
   "metadata": {},
   "outputs": [],
   "source": [
    "dfile = '/media/xavier/crucial/Oceanography/OGCM/LLC/Gallmeier2023/PreProc/LLC_uniform144_nonoise_preproc.h5'\n",
    "f = h5py.File(dfile, 'r')"
   ]
  },
  {
   "cell_type": "code",
   "execution_count": 3,
   "id": "191f7c51-14ce-49e8-b8ee-81268fa03068",
   "metadata": {},
   "outputs": [
    {
     "data": {
      "text/plain": [
       "<KeysViewHDF5 ['valid', 'valid_metadata']>"
      ]
     },
     "execution_count": 3,
     "metadata": {},
     "output_type": "execute_result"
    }
   ],
   "source": [
    "f.keys()"
   ]
  },
  {
   "cell_type": "code",
   "execution_count": 4,
   "id": "2943e0cb-0fef-4677-a3de-bae193109b32",
   "metadata": {},
   "outputs": [
    {
     "data": {
      "text/plain": [
       "(2623152, 1, 64, 64)"
      ]
     },
     "execution_count": 4,
     "metadata": {},
     "output_type": "execute_result"
    }
   ],
   "source": [
    "f['valid'].shape"
   ]
  },
  {
   "cell_type": "markdown",
   "id": "7d53c738-b858-48e8-9065-0f782542627a",
   "metadata": {},
   "source": [
    "## First 10000"
   ]
  },
  {
   "cell_type": "code",
   "execution_count": 5,
   "id": "81126abf-f994-44e1-ac37-c776e854cfa3",
   "metadata": {},
   "outputs": [],
   "source": [
    "i10000 = f['valid'][:10000,0,...]"
   ]
  },
  {
   "cell_type": "code",
   "execution_count": 6,
   "id": "5c477544-4301-4ed2-8a41-19f9a3e5157b",
   "metadata": {},
   "outputs": [
    {
     "data": {
      "text/plain": [
       "(10000, 64, 64)"
      ]
     },
     "execution_count": 6,
     "metadata": {},
     "output_type": "execute_result"
    }
   ],
   "source": [
    "i10000.shape"
   ]
  },
  {
   "cell_type": "markdown",
   "id": "d65ad524-c9e7-4ac8-bb63-be3d423999d2",
   "metadata": {},
   "source": [
    "# Examine one"
   ]
  },
  {
   "cell_type": "code",
   "execution_count": 7,
   "id": "def0c400-6131-42e9-bd2f-026f7c15cb33",
   "metadata": {},
   "outputs": [
    {
     "data": {
      "text/plain": [
       "<Axes: >"
      ]
     },
     "execution_count": 7,
     "metadata": {},
     "output_type": "execute_result"
    },
    {
     "data": {
      "image/png": "[encoded data removed]",
      "text/plain": [
       "<Figure size 640x480 with 2 Axes>"
      ]
     },
     "metadata": {},
     "output_type": "display_data"
    }
   ],
   "source": [
    "plotting.show_image(i10000[1000,...])"
   ]
  },
  {
   "cell_type": "markdown",
   "id": "6fdcb615-7d1d-45d0-8bc8-9c5ea07a5c5a",
   "metadata": {},
   "source": [
    "# Save"
   ]
  },
  {
   "cell_type": "code",
   "execution_count": 11,
   "id": "38555cf8-b572-4398-9f82-f63fb416f72d",
   "metadata": {},
   "outputs": [],
   "source": [
    "np.save('SST_data', i10000)"
   ]
  },
  {
   "cell_type": "code",
   "execution_count": 12,
   "id": "b8eea3ea-70cc-4c2c-93f8-308f578cd6a1",
   "metadata": {},
   "outputs": [],
   "source": [
    "f.close()"
   ]
  },
  {
   "cell_type": "markdown",
   "id": "a3bd9551-f742-4f90-b89d-950ebbbbf225",
   "metadata": {},
   "source": [
    "# Train\n",
    "\n"
   ]
  },
  {
   "cell_type": "code",
   "execution_count": 12,
   "id": "a428ca10-0b05-4aff-b284-22ff4b633771",
   "metadata": {},
   "outputs": [],
   "source": [
    "i20000 = f['valid'][10000:20000,0,...]"
   ]
  },
  {
   "cell_type": "code",
   "execution_count": 13,
   "id": "e14020e2-788e-44a4-b50e-2e2030d6a966",
   "metadata": {},
   "outputs": [],
   "source": [
    "np.save('SST_test', i20000)"
   ]
  },
  {
   "cell_type": "code",
   "execution_count": null,
   "id": "d530830b-af7d-4eac-9ddf-923e9fea4c50",
   "metadata": {},
   "outputs": [],
   "source": []
  }
 ],
 "metadata": {
  "kernelspec": {
   "display_name": "Python 3 (ipykernel)",
   "language": "python",
   "name": "python3"
  },
  "language_info": {
   "codemirror_mode": {
    "name": "ipython",
    "version": 3
   },
   "file_extension": ".py",
   "mimetype": "text/x-python",
   "name": "python",
   "nbconvert_exporter": "python",
   "pygments_lexer": "ipython3",
   "version": "3.10.10"
  }
 },
 "nbformat": 4,
 "nbformat_minor": 5
}
