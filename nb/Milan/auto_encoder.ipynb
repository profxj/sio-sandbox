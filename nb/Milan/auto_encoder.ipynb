{
 "cells": [
  {
   "cell_type": "markdown",
   "id": "86e48ab5-25a5-44ee-a40a-d51665e6ec51",
   "metadata": {},
   "source": [
    "# Auto-Encoder"
   ]
  },
  {
   "cell_type": "code",
   "execution_count": 28,
   "id": "41067a1d-ec9a-48ea-93a1-d6e951aa5595",
   "metadata": {},
   "outputs": [],
   "source": [
    "# imports\n",
    "\n",
    "import numpy as np\n",
    "\n",
    "from matplotlib import pyplot as plt\n",
    "\n",
    "from torch import nn\n",
    "import torch\n",
    "from torch.utils.data import Dataset, DataLoader\n"
   ]
  },
  {
   "cell_type": "markdown",
   "id": "1ea6c052-7eb1-4387-8f58-6e88efd8a15a",
   "metadata": {},
   "source": [
    "# defs"
   ]
  },
  {
   "cell_type": "code",
   "execution_count": 36,
   "id": "df47b1be-4bd7-4a63-9fc3-20e9e924d2ee",
   "metadata": {},
   "outputs": [],
   "source": [
    "def show_image(img):\n",
    "    plt.clf()\n",
    "    im = plt.imshow(img, cmap='jet', origin='lower')\n",
    "    plt.colorbar(im)\n",
    "    plt.show()"
   ]
  },
  {
   "cell_type": "markdown",
   "id": "43511de8-592c-4dad-8fae-8571432ad774",
   "metadata": {},
   "source": [
    "# Load up the data"
   ]
  },
  {
   "cell_type": "code",
   "execution_count": 4,
   "id": "c87110f1-fd15-4582-8f25-eb531237609b",
   "metadata": {},
   "outputs": [],
   "source": [
    "images = np.load('SST_data.npy')"
   ]
  },
  {
   "cell_type": "code",
   "execution_count": 5,
   "id": "15a573ba-66de-4939-97ef-24a15bc6b1e4",
   "metadata": {},
   "outputs": [
    {
     "data": {
      "text/plain": [
       "(10000, 64, 64)"
      ]
     },
     "execution_count": 5,
     "metadata": {},
     "output_type": "execute_result"
    }
   ],
   "source": [
    "images.shape"
   ]
  },
  {
   "cell_type": "markdown",
   "id": "c93b2987-cadb-4edb-9557-6dfc7fd71dcb",
   "metadata": {},
   "source": [
    "## Examine one"
   ]
  },
  {
   "cell_type": "code",
   "execution_count": 37,
   "id": "400ba53a-53da-4b7f-ac0b-5991844d61b7",
   "metadata": {},
   "outputs": [
    {
     "data": {
      "image/png": "[encoded data removed]",
      "text/plain": [
       "<Figure size 640x480 with 2 Axes>"
      ]
     },
     "metadata": {},
     "output_type": "display_data"
    }
   ],
   "source": [
    "show_image(images[1000,...])"
   ]
  },
  {
   "cell_type": "markdown",
   "id": "b9aa1a6b-e4ba-4314-beda-886a3963482e",
   "metadata": {},
   "source": [
    "## Re-package"
   ]
  },
  {
   "cell_type": "markdown",
   "id": "42a61e35-c6cc-46c6-9d50-2212fd61d997",
   "metadata": {},
   "source": [
    "# DataSet and DataLoader"
   ]
  },
  {
   "cell_type": "code",
   "execution_count": 29,
   "id": "e7b05dd7-460e-45ab-8d77-711fa1db72f6",
   "metadata": {},
   "outputs": [],
   "source": [
    "class MyDataset(Dataset):\n",
    "    def __init__(self, data, transform=None):\n",
    "        self.data = data\n",
    "        self.transform = transform\n",
    "        \n",
    "    def __getitem__(self, index):\n",
    "        x = self.data[index]\n",
    "        \n",
    "        if self.transform:\n",
    "            x = Image.fromarray(self.data[index].astype(np.uint8).transpose(1,2,0))\n",
    "            x = self.transform(x)\n",
    "        \n",
    "        return x\n",
    "    \n",
    "    def __len__(self):\n",
    "        return len(self.data)"
   ]
  },
  {
   "cell_type": "code",
   "execution_count": 32,
   "id": "aae0585c-6d64-4e03-aa82-8ec99c5611c7",
   "metadata": {},
   "outputs": [],
   "source": [
    "dataset = MyDataset(images)\n",
    "train_loader = DataLoader(dataset, batch_size=32, shuffle=False, num_workers=4)"
   ]
  },
  {
   "cell_type": "markdown",
   "id": "a8081bde-cdfa-41ff-8142-9aa923a872f0",
   "metadata": {},
   "source": [
    "# AE Class"
   ]
  },
  {
   "cell_type": "code",
   "execution_count": 15,
   "id": "a4a2e489-40e7-4a71-8758-f058bddb5a64",
   "metadata": {},
   "outputs": [],
   "source": [
    "class AE(nn.Module):\n",
    "    def __init__(self, **kwargs):\n",
    "        super().__init__()\n",
    "        self.encoder_hidden_layer = nn.Linear(\n",
    "            in_features=kwargs[\"input_shape\"], out_features=128\n",
    "        )\n",
    "        self.encoder_output_layer = nn.Linear(\n",
    "            in_features=128, out_features=128\n",
    "        )\n",
    "        self.decoder_hidden_layer = nn.Linear(\n",
    "            in_features=128, out_features=128\n",
    "        )\n",
    "        self.decoder_output_layer = nn.Linear(\n",
    "            in_features=128, out_features=kwargs[\"input_shape\"]\n",
    "        )\n",
    "\n",
    "    def forward(self, features):\n",
    "        activation = self.encoder_hidden_layer(features)\n",
    "        activation = torch.relu(activation)\n",
    "        code = self.encoder_output_layer(activation)\n",
    "        code = torch.relu(code)\n",
    "        activation = self.decoder_hidden_layer(code)\n",
    "        activation = torch.relu(activation)\n",
    "        activation = self.decoder_output_layer(activation)\n",
    "        reconstructed = torch.relu(activation)\n",
    "        return reconstructed"
   ]
  },
  {
   "cell_type": "markdown",
   "id": "9036953e-a949-4104-a51f-bfc835132cec",
   "metadata": {},
   "source": [
    "# Prep"
   ]
  },
  {
   "cell_type": "code",
   "execution_count": 18,
   "id": "5612d1f0-5de8-49b4-9079-d7a5458e9055",
   "metadata": {},
   "outputs": [
    {
     "data": {
      "text/plain": [
       "4096"
      ]
     },
     "execution_count": 18,
     "metadata": {},
     "output_type": "execute_result"
    }
   ],
   "source": [
    "ishape = 64**2\n",
    "ishape"
   ]
  },
  {
   "cell_type": "code",
   "execution_count": 22,
   "id": "a079d150-bcbd-4934-86a1-e4edf67b412a",
   "metadata": {},
   "outputs": [],
   "source": [
    "#  use gpu if available\n",
    "device = torch.device(\"cuda\" if torch.cuda.is_available() else \"cpu\")\n",
    "\n",
    "# create a model from `AE` autoencoder class\n",
    "# load it to the specified device, either gpu or cpu\n",
    "model = AE(input_shape=ishape).to(device)\n",
    "\n",
    "# create an optimizer object\n",
    "# Adam optimizer with learning rate 1e-3\n",
    "optimizer = torch.optim.Adam(model.parameters(), lr=1e-3)\n",
    "\n",
    "# mean-squared error loss\n",
    "criterion = nn.MSELoss()"
   ]
  },
  {
   "cell_type": "markdown",
   "id": "e8af9bb9-7178-4cbf-b79b-d2212a97f30e",
   "metadata": {},
   "source": [
    "# Train"
   ]
  },
  {
   "cell_type": "code",
   "execution_count": 35,
   "id": "b9394ea5-06ef-4c5b-90b7-87f39e159205",
   "metadata": {},
   "outputs": [
    {
     "name": "stdout",
     "output_type": "stream",
     "text": [
      "epoch : 1/10, loss = 0.170041\n",
      "epoch : 2/10, loss = 0.154009\n",
      "epoch : 3/10, loss = 0.149308\n",
      "epoch : 4/10, loss = 0.146620\n",
      "epoch : 5/10, loss = 0.144666\n",
      "epoch : 6/10, loss = 0.142980\n",
      "epoch : 7/10, loss = 0.143764\n",
      "epoch : 8/10, loss = 0.141639\n",
      "epoch : 9/10, loss = 0.140218\n",
      "epoch : 10/10, loss = 0.139709\n"
     ]
    }
   ],
   "source": [
    "epochs=10\n",
    "for epoch in range(epochs):\n",
    "    loss = 0\n",
    "    for batch_features in train_loader:\n",
    "        # reshape mini-batch data to [N, 784] matrix\n",
    "        # load it to the active device\n",
    "        batch_features = batch_features.view(-1, ishape).to(device)\n",
    "        \n",
    "        # reset the gradients back to zero\n",
    "        # PyTorch accumulates gradients on subsequent backward passes\n",
    "        optimizer.zero_grad()\n",
    "        \n",
    "        # compute reconstructions\n",
    "        outputs = model(batch_features)\n",
    "        \n",
    "        # compute training reconstruction loss\n",
    "        train_loss = criterion(outputs, batch_features)\n",
    "        \n",
    "        # compute accumulated gradients\n",
    "        train_loss.backward()\n",
    "        \n",
    "        # perform parameter update based on current gradients\n",
    "        optimizer.step()\n",
    "        \n",
    "        # add the mini-batch training loss to epoch loss\n",
    "        loss += train_loss.item()\n",
    "    \n",
    "    # compute the epoch training loss\n",
    "    loss = loss / len(train_loader)\n",
    "    \n",
    "    # display the epoch training loss\n",
    "    print(\"epoch : {}/{}, loss = {:.6f}\".format(epoch + 1, epochs, loss))"
   ]
  },
  {
   "cell_type": "markdown",
   "id": "1c1577f3-c317-4f82-bc1c-103768cf7683",
   "metadata": {},
   "source": [
    "# Examine"
   ]
  },
  {
   "cell_type": "code",
   "execution_count": 38,
   "id": "bec1979a-ab41-43b1-9838-e7343847e481",
   "metadata": {},
   "outputs": [],
   "source": [
    "idx = 1000"
   ]
  },
  {
   "cell_type": "markdown",
   "id": "9acb8f7d-79be-41d5-98fb-37a3d3ba4f71",
   "metadata": {},
   "source": [
    "## Original"
   ]
  },
  {
   "cell_type": "code",
   "execution_count": 39,
   "id": "3e5d4755-01d4-4f27-9153-773fe8f3a5b2",
   "metadata": {},
   "outputs": [
    {
     "data": {
      "image/png": "[encoded data removed]",
      "text/plain": [
       "<Figure size 640x480 with 2 Axes>"
      ]
     },
     "metadata": {},
     "output_type": "display_data"
    }
   ],
   "source": [
    "show_image(images[idx,...])"
   ]
  },
  {
   "cell_type": "markdown",
   "id": "b823b94d-a176-41f4-91b1-1057dfa1725d",
   "metadata": {},
   "source": [
    "## Model it"
   ]
  },
  {
   "cell_type": "code",
   "execution_count": null,
   "id": "dc9241a8-c13a-4fd8-95c1-c85184efead5",
   "metadata": {},
   "outputs": [],
   "source": []
  },
  {
   "cell_type": "markdown",
   "id": "2a08b472-d7b6-4454-bb13-e2ac45990d99",
   "metadata": {},
   "source": [
    "----"
   ]
  },
  {
   "cell_type": "code",
   "execution_count": 23,
   "id": "d5dd0b73-0677-48ac-9371-ac793b5ecefd",
   "metadata": {},
   "outputs": [],
   "source": [
    "my_x = [np.array([[1.0,2],[3,4]]),np.array([[5.,6],[7,8]])]"
   ]
  },
  {
   "cell_type": "code",
   "execution_count": 26,
   "id": "9b826111-8aaf-47a8-ae77-e8864af63e72",
   "metadata": {},
   "outputs": [
    {
     "data": {
      "text/plain": [
       "(2, 2)"
      ]
     },
     "execution_count": 26,
     "metadata": {},
     "output_type": "execute_result"
    }
   ],
   "source": [
    "my_x[0].shape"
   ]
  },
  {
   "cell_type": "code",
   "execution_count": null,
   "id": "d6600d03-c3ae-4686-b3ff-1245ed2b9c9e",
   "metadata": {},
   "outputs": [],
   "source": []
  }
 ],
 "metadata": {
  "kernelspec": {
   "display_name": "Python 3 (ipykernel)",
   "language": "python",
   "name": "python3"
  },
  "language_info": {
   "codemirror_mode": {
    "name": "ipython",
    "version": 3
   },
   "file_extension": ".py",
   "mimetype": "text/x-python",
   "name": "python",
   "nbconvert_exporter": "python",
   "pygments_lexer": "ipython3",
   "version": "3.10.10"
  }
 },
 "nbformat": 4,
 "nbformat_minor": 5
}
