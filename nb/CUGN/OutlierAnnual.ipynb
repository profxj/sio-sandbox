{
 "cells": [
  {
   "cell_type": "markdown",
   "id": "9d22631c-da17-4d95-8de9-f270adfa52e6",
   "metadata": {},
   "source": [
    "# Too Warm?\n",
    "\n",
    "## Compare the outliers with the Annual Cycle"
   ]
  },
  {
   "cell_type": "code",
   "execution_count": 1,
   "id": "c8a5e725-348b-4b36-94cd-af6e05c05e58",
   "metadata": {
    "tags": []
   },
   "outputs": [],
   "source": [
    "# imports\n",
    "from importlib import reload\n",
    "import os\n",
    "\n",
    "import numpy as np\n",
    "from scipy.interpolate import interp1d\n",
    "from scipy.io import loadmat\n",
    "\n",
    "import pandas\n",
    "\n",
    "from matplotlib import pyplot as plt\n",
    "import matplotlib as mpl\n",
    "import matplotlib.gridspec as gridspec\n",
    "\n",
    "import seaborn as sns\n",
    "\n",
    "from siosandbox.cugn import clusters\n",
    "from siosandbox.cugn import grid_utils\n",
    "from siosandbox.cugn import io as cugn_io\n",
    "from siosandbox import plot_utils\n",
    "from siosandbox.cugn import annualcycle\n",
    "from siosandbox.cugn import utils as cugn_utils\n",
    "\n",
    "from gsw import conversions, density\n",
    "import gsw"
   ]
  },
  {
   "cell_type": "markdown",
   "id": "466453ae-4432-404e-8edc-cfba5fb193b5",
   "metadata": {},
   "source": [
    "# Load"
   ]
  },
  {
   "cell_type": "markdown",
   "id": "97f13e44-3f2a-4e5a-aa32-3c86ff1aee00",
   "metadata": {},
   "source": [
    "## Outliers"
   ]
  },
  {
   "cell_type": "code",
   "execution_count": 2,
   "id": "1635347c-1803-4689-a4bb-786e47d09b89",
   "metadata": {
    "tags": []
   },
   "outputs": [],
   "source": [
    "line = '90'\n",
    "\n",
    "# Load\n",
    "items = cugn_io.load_line(line)\n",
    "grid_tbl = items['grid_tbl']\n",
    "ds = items['ds']\n",
    "\n",
    "# Fill\n",
    "grid_utils.fill_in_grid(grid_tbl, ds)"
   ]
  },
  {
   "cell_type": "code",
   "execution_count": 3,
   "id": "705b2878-df7e-4223-a9de-0ac78a045a05",
   "metadata": {
    "tags": []
   },
   "outputs": [],
   "source": [
    "perc = 80.\n",
    "grid_outliers, _, _ = grid_utils.gen_outliers(line, perc)"
   ]
  },
  {
   "cell_type": "code",
   "execution_count": 4,
   "id": "46737b23-0633-4a3d-9118-9f2ee47e322a",
   "metadata": {
    "tags": []
   },
   "outputs": [],
   "source": [
    "extrem = grid_outliers.SO > 1.1\n",
    "grid_extrem = grid_outliers[extrem].copy()"
   ]
  },
  {
   "cell_type": "code",
   "execution_count": 5,
   "id": "9f6e5618-7b21-4c3a-b11e-8a7bd5caf11b",
   "metadata": {
    "tags": []
   },
   "outputs": [
    {
     "data": {
      "text/html": [
       "<div>\n",
       "<style scoped>\n",
       "    .dataframe tbody tr th:only-of-type {\n",
       "        vertical-align: middle;\n",
       "    }\n",
       "\n",
       "    .dataframe tbody tr th {\n",
       "        vertical-align: top;\n",
       "    }\n",
       "\n",
       "    .dataframe thead th {\n",
       "        text-align: right;\n",
       "    }\n",
       "</style>\n",
       "<table border=\"1\" class=\"dataframe\">\n",
       "  <thead>\n",
       "    <tr style=\"text-align: right;\">\n",
       "      <th></th>\n",
       "      <th>depth</th>\n",
       "      <th>profile</th>\n",
       "      <th>row</th>\n",
       "      <th>col</th>\n",
       "      <th>doxy</th>\n",
       "      <th>doxy_p</th>\n",
       "      <th>time</th>\n",
       "      <th>lon</th>\n",
       "      <th>lat</th>\n",
       "      <th>z</th>\n",
       "      <th>CT</th>\n",
       "      <th>SA</th>\n",
       "      <th>sigma0</th>\n",
       "      <th>SO</th>\n",
       "      <th>N</th>\n",
       "      <th>chla</th>\n",
       "      <th>T</th>\n",
       "    </tr>\n",
       "  </thead>\n",
       "  <tbody>\n",
       "    <tr>\n",
       "      <th>782</th>\n",
       "      <td>0</td>\n",
       "      <td>32958</td>\n",
       "      <td>15</td>\n",
       "      <td>18</td>\n",
       "      <td>277.438868</td>\n",
       "      <td>99.488491</td>\n",
       "      <td>2017-03-14 02:17:03</td>\n",
       "      <td>-118.227115</td>\n",
       "      <td>33.265208</td>\n",
       "      <td>10</td>\n",
       "      <td>15.488374</td>\n",
       "      <td>33.434623</td>\n",
       "      <td>24.549290</td>\n",
       "      <td>1.116404</td>\n",
       "      <td>7.360446</td>\n",
       "      <td>0.285907</td>\n",
       "      <td>15.456250</td>\n",
       "    </tr>\n",
       "    <tr>\n",
       "      <th>783</th>\n",
       "      <td>0</td>\n",
       "      <td>32959</td>\n",
       "      <td>15</td>\n",
       "      <td>18</td>\n",
       "      <td>276.052619</td>\n",
       "      <td>98.976982</td>\n",
       "      <td>2017-03-14 03:41:20</td>\n",
       "      <td>-118.217615</td>\n",
       "      <td>33.270125</td>\n",
       "      <td>10</td>\n",
       "      <td>15.243413</td>\n",
       "      <td>33.434927</td>\n",
       "      <td>24.603163</td>\n",
       "      <td>1.105516</td>\n",
       "      <td>6.704290</td>\n",
       "      <td>0.271055</td>\n",
       "      <td>15.211909</td>\n",
       "    </tr>\n",
       "    <tr>\n",
       "      <th>788</th>\n",
       "      <td>0</td>\n",
       "      <td>32964</td>\n",
       "      <td>15</td>\n",
       "      <td>19</td>\n",
       "      <td>298.647665</td>\n",
       "      <td>99.616858</td>\n",
       "      <td>2017-03-14 15:53:33</td>\n",
       "      <td>-118.129770</td>\n",
       "      <td>33.313952</td>\n",
       "      <td>10</td>\n",
       "      <td>14.946715</td>\n",
       "      <td>33.443485</td>\n",
       "      <td>24.673905</td>\n",
       "      <td>1.189120</td>\n",
       "      <td>7.679979</td>\n",
       "      <td>0.324720</td>\n",
       "      <td>14.916154</td>\n",
       "    </tr>\n",
       "    <tr>\n",
       "      <th>789</th>\n",
       "      <td>0</td>\n",
       "      <td>32965</td>\n",
       "      <td>13</td>\n",
       "      <td>19</td>\n",
       "      <td>292.036344</td>\n",
       "      <td>99.696970</td>\n",
       "      <td>2017-03-14 18:54:13</td>\n",
       "      <td>-118.106223</td>\n",
       "      <td>33.320505</td>\n",
       "      <td>10</td>\n",
       "      <td>14.787911</td>\n",
       "      <td>33.351972</td>\n",
       "      <td>24.638233</td>\n",
       "      <td>1.158375</td>\n",
       "      <td>13.925959</td>\n",
       "      <td>0.397494</td>\n",
       "      <td>14.755500</td>\n",
       "    </tr>\n",
       "    <tr>\n",
       "      <th>790</th>\n",
       "      <td>0</td>\n",
       "      <td>32966</td>\n",
       "      <td>13</td>\n",
       "      <td>17</td>\n",
       "      <td>309.040496</td>\n",
       "      <td>99.794239</td>\n",
       "      <td>2017-03-14 21:51:29</td>\n",
       "      <td>-118.080510</td>\n",
       "      <td>33.323907</td>\n",
       "      <td>10</td>\n",
       "      <td>15.265308</td>\n",
       "      <td>33.331187</td>\n",
       "      <td>24.519477</td>\n",
       "      <td>1.237211</td>\n",
       "      <td>13.226413</td>\n",
       "      <td>0.369575</td>\n",
       "      <td>15.231154</td>\n",
       "    </tr>\n",
       "  </tbody>\n",
       "</table>\n",
       "</div>"
      ],
      "text/plain": [
       "     depth  profile  row  col        doxy     doxy_p                time  \\\n",
       "782      0    32958   15   18  277.438868  99.488491 2017-03-14 02:17:03   \n",
       "783      0    32959   15   18  276.052619  98.976982 2017-03-14 03:41:20   \n",
       "788      0    32964   15   19  298.647665  99.616858 2017-03-14 15:53:33   \n",
       "789      0    32965   13   19  292.036344  99.696970 2017-03-14 18:54:13   \n",
       "790      0    32966   13   17  309.040496  99.794239 2017-03-14 21:51:29   \n",
       "\n",
       "            lon        lat   z         CT         SA     sigma0        SO  \\\n",
       "782 -118.227115  33.265208  10  15.488374  33.434623  24.549290  1.116404   \n",
       "783 -118.217615  33.270125  10  15.243413  33.434927  24.603163  1.105516   \n",
       "788 -118.129770  33.313952  10  14.946715  33.443485  24.673905  1.189120   \n",
       "789 -118.106223  33.320505  10  14.787911  33.351972  24.638233  1.158375   \n",
       "790 -118.080510  33.323907  10  15.265308  33.331187  24.519477  1.237211   \n",
       "\n",
       "             N      chla          T  \n",
       "782   7.360446  0.285907  15.456250  \n",
       "783   6.704290  0.271055  15.211909  \n",
       "788   7.679979  0.324720  14.916154  \n",
       "789  13.925959  0.397494  14.755500  \n",
       "790  13.226413  0.369575  15.231154  "
      ]
     },
     "execution_count": 5,
     "metadata": {},
     "output_type": "execute_result"
    }
   ],
   "source": [
    "grid_extrem.head()"
   ]
  },
  {
   "cell_type": "markdown",
   "id": "ecd18307-b0d3-4d59-8a87-711606de6b7a",
   "metadata": {},
   "source": [
    "## Annual cycle"
   ]
  },
  {
   "cell_type": "code",
   "execution_count": 6,
   "id": "5fe71575-32ee-4ae0-85c3-0d7098237751",
   "metadata": {
    "tags": []
   },
   "outputs": [],
   "source": [
    "anncyc90_file = os.path.join(os.getenv('CUGN'), 'anncyc90.mat')\n",
    "A = anncyc90 = loadmat(anncyc90_file, variable_names=['A'])['A']"
   ]
  },
  {
   "cell_type": "markdown",
   "id": "b68e9daa-80af-4b17-8ff7-9abde3cde2b1",
   "metadata": {},
   "source": [
    "# Evaluate Annual Cycle"
   ]
  },
  {
   "cell_type": "markdown",
   "id": "7730a003-10ff-4179-804e-0de39df5a047",
   "metadata": {},
   "source": [
    "## Distance"
   ]
  },
  {
   "cell_type": "code",
   "execution_count": 64,
   "id": "9c87274c-a587-4911-84e1-1a218b425c5a",
   "metadata": {
    "tags": []
   },
   "outputs": [],
   "source": [
    "dist, offset = cugn_utils.calc_dist_offset(line, grid_extrem.lon.values, grid_extrem.lat.values)"
   ]
  },
  {
   "cell_type": "code",
   "execution_count": 65,
   "id": "5b7d17ac-f282-4ab1-9c68-0d1e9101e2b0",
   "metadata": {
    "tags": []
   },
   "outputs": [],
   "source": [
    "grid_extrem['dist'] = dist"
   ]
  },
  {
   "cell_type": "code",
   "execution_count": 22,
   "id": "c9afb6b7-50df-46b7-8c0e-e9dd9d4d39bb",
   "metadata": {
    "tags": []
   },
   "outputs": [
    {
     "data": {
      "text/plain": [
       "173"
      ]
     },
     "execution_count": 22,
     "metadata": {},
     "output_type": "execute_result"
    }
   ],
   "source": [
    "dist.min()\n",
    "np.sum(dist < 0.)"
   ]
  },
  {
   "cell_type": "markdown",
   "id": "1e49fa30-4daa-4cca-b42f-d54dfda3ef76",
   "metadata": {},
   "source": [
    "## Times"
   ]
  },
  {
   "cell_type": "code",
   "execution_count": 15,
   "id": "5ea8ef4a-993f-4cc9-b9f0-9eee580c67dc",
   "metadata": {
    "tags": []
   },
   "outputs": [
    {
     "data": {
      "text/plain": [
       "array([1.48945782e+09, 1.48946288e+09, 1.48950681e+09, ...,\n",
       "       1.53384183e+09, 1.53541358e+09, 1.53558417e+09])"
      ]
     },
     "execution_count": 15,
     "metadata": {},
     "output_type": "execute_result"
    }
   ],
   "source": [
    "unix_time = (grid_extrem.time - pandas.Timestamp(\"1970-01-01\")) / pandas.Timedelta('1s')\n",
    "unix_time.values"
   ]
  },
  {
   "cell_type": "markdown",
   "id": "d88b316b-032f-4c96-ad5e-4cda6eab70c2",
   "metadata": {},
   "source": [
    "## DOY"
   ]
  },
  {
   "cell_type": "code",
   "execution_count": 33,
   "id": "b548432d-0d12-4e8d-a6fb-f8c3edc7aaf1",
   "metadata": {
    "tags": []
   },
   "outputs": [
    {
     "data": {
      "text/plain": [
       "Int64Index([ 2,  3, 15, 18, 21,  0,  3,  6,  9, 12,\n",
       "            ...\n",
       "            17, 20, 14,  6,  9, 14, 17, 19, 23, 23],\n",
       "           dtype='int64', length=1179)"
      ]
     },
     "execution_count": 33,
     "metadata": {},
     "output_type": "execute_result"
    }
   ],
   "source": [
    "dtime = pandas.to_datetime(grid_extrem.time.values)\n",
    "dtime.hour"
   ]
  },
  {
   "cell_type": "code",
   "execution_count": 39,
   "id": "e8d3a6e5-7401-492b-acff-a4aaf1796563",
   "metadata": {
    "tags": []
   },
   "outputs": [
    {
     "data": {
      "text/plain": [
       "array([ 73.08333333,  73.125     ,  73.625     , ..., 221.79166667,\n",
       "       239.95833333, 241.95833333])"
      ]
     },
     "execution_count": 39,
     "metadata": {},
     "output_type": "execute_result"
    }
   ],
   "source": [
    "doy_d = dtime.dayofyear + dtime.hour/24. \n",
    "doy_d = doy_d.values\n",
    "doy_d"
   ]
  },
  {
   "cell_type": "markdown",
   "id": "1d88c96a-7c56-4dac-bcea-328c9197d13d",
   "metadata": {},
   "source": [
    "## T Annual"
   ]
  },
  {
   "cell_type": "code",
   "execution_count": 80,
   "id": "f67014e3-ebc2-48a4-bfc0-8bfefdddf217",
   "metadata": {
    "tags": []
   },
   "outputs": [
    {
     "name": "stdout",
     "output_type": "stream",
     "text": [
      "Level: 0\n",
      "Level: 1\n",
      "Level: 2\n",
      "Level: 3\n",
      "Level: 4\n"
     ]
    }
   ],
   "source": [
    "# Loop on levels\n",
    "reload(annualcycle)\n",
    "uni_depth = np.unique(grid_extrem.depth.values)\n",
    "T_Annual = np.zeros(unix_time.size)\n",
    "#\n",
    "for level in uni_depth:\n",
    "    in_depth = grid_extrem.depth == level\n",
    "    print(f\"Level: {level}\")\n",
    "    # \n",
    "    T_Annual[in_depth] = annualcycle.evaluate(A, 't', level, unix_time[in_depth], dist[in_depth])"
   ]
  },
  {
   "cell_type": "code",
   "execution_count": 29,
   "id": "3b4e4b29-43e0-4f2d-82ab-a5484381f63f",
   "metadata": {
    "tags": []
   },
   "outputs": [
    {
     "data": {
      "text/plain": [
       "array([15.29172197, 15.29357776, 15.29763967, ..., 20.60821379,\n",
       "       19.16341767, 19.25628033])"
      ]
     },
     "execution_count": 29,
     "metadata": {},
     "output_type": "execute_result"
    }
   ],
   "source": [
    "T_Annual"
   ]
  },
  {
   "cell_type": "markdown",
   "id": "942cd413-3331-4db5-bfaf-ce3c401cd989",
   "metadata": {},
   "source": [
    "## 2020 too"
   ]
  },
  {
   "cell_type": "code",
   "execution_count": 67,
   "id": "514dfbb5-8ae8-4e4d-9646-9763b7ebb49e",
   "metadata": {
    "tags": []
   },
   "outputs": [],
   "source": [
    "dti = pandas.date_range('2020-01-01', periods=365, freq='1D')\n",
    "time = (dti - pandas.Timestamp(\"1970-01-01\")) // pandas.Timedelta('1s')\n",
    "ddist = 100.\n",
    "\n",
    "T_2021_10 = annualcycle.evaluate(A, 't', 0, time, np.ones_like(time)*ddist)\n",
    "T_2021_20 = annualcycle.evaluate(A, 't', 1, time, np.ones_like(time)*ddist)\n",
    "T_2021_30 = annualcycle.evaluate(A, 't', 2, time, np.ones_like(time)*ddist)"
   ]
  },
  {
   "cell_type": "markdown",
   "id": "fa5108a4-45e7-4bf5-9b56-3348fab4ea36",
   "metadata": {},
   "source": [
    "# DT"
   ]
  },
  {
   "cell_type": "code",
   "execution_count": 81,
   "id": "2655c996-cd9e-46aa-9b71-e4a2ab765789",
   "metadata": {
    "tags": []
   },
   "outputs": [],
   "source": [
    "DT = grid_extrem['T'] - T_Annual\n",
    "grid_extrem['DT'] = DT"
   ]
  },
  {
   "cell_type": "markdown",
   "id": "5b09e579-b735-4986-87ca-9314d04d5bac",
   "metadata": {},
   "source": [
    "# Plots"
   ]
  },
  {
   "cell_type": "markdown",
   "id": "411593ae-8c78-42e4-9252-371f708f5388",
   "metadata": {},
   "source": [
    "## Absolute"
   ]
  },
  {
   "cell_type": "code",
   "execution_count": 82,
   "id": "e10d5a17-0fb4-4eba-8b61-7f60171c660f",
   "metadata": {
    "tags": []
   },
   "outputs": [
    {
     "data": {
      "image/png": "[encoded data removed]",
      "text/plain": [
       "<Figure size 640x480 with 1 Axes>"
      ]
     },
     "metadata": {},
     "output_type": "display_data"
    }
   ],
   "source": [
    "plt.clf()\n",
    "ax = plt.gca()\n",
    "\n",
    "# Data\n",
    "ax.scatter(doy_d, grid_extrem['T'], s=0.1)\n",
    "\n",
    "# 2021\n",
    "ax.plot(np.arange(365)+0.5, T_2021_10, 'g-', label='2021 10m')\n",
    "ax.plot(np.arange(365)+0.5, T_2021_20, 'g--', label='2021 20m')\n",
    "ax.plot(np.arange(365)+0.5, T_2021_30, 'g:', label='2021 30m')\n",
    "ax.legend()\n",
    "\n",
    "ax.set_xlabel('DOY')\n",
    "ax.set_ylabel('T (C)')\n",
    "\n",
    "plt.show()"
   ]
  },
  {
   "cell_type": "markdown",
   "id": "ccffec65-40a2-48b3-9ee5-4f0f5f7c295e",
   "metadata": {},
   "source": [
    "## Relative"
   ]
  },
  {
   "cell_type": "code",
   "execution_count": 98,
   "id": "32103ec3-b60c-49ba-b773-133c0d67a78e",
   "metadata": {
    "tags": []
   },
   "outputs": [
    {
     "data": {
      "image/png": "[encoded data removed]",
      "text/plain": [
       "<Figure size 1200x800 with 1 Axes>"
      ]
     },
     "metadata": {},
     "output_type": "display_data"
    }
   ],
   "source": [
    "fig = plt.figure(figsize=(12,8))\n",
    "plt.clf()\n",
    "ax = plt.gca()\n",
    "\n",
    "# Data\n",
    "for depth in [0,1,2,3,4]:\n",
    "    in_depth = grid_extrem.depth == depth\n",
    "    sc = ax.scatter(doy_d[in_depth], DT[in_depth], s=1., label=f'Depth: {10+depth*10}') \n",
    "#plt.colorbar(sc)\n",
    "\n",
    "# 2021\n",
    "ax.legend()\n",
    "\n",
    "ax.axhline(0., color='g', linestyle='--')\n",
    "\n",
    "ax.set_xlabel('DOY')\n",
    "ax.set_ylabel('T - <T> (C)')\n",
    "\n",
    "# \n",
    "plot_utils.set_fontsize(ax, 15.)\n",
    "\n",
    "plt.show()"
   ]
  },
  {
   "cell_type": "markdown",
   "id": "568a2020-1cfd-4e08-bfd1-08826c1381bd",
   "metadata": {},
   "source": [
    "# Dig in"
   ]
  },
  {
   "cell_type": "code",
   "execution_count": 59,
   "id": "798b5b26-1e73-4328-af36-c19b20920d78",
   "metadata": {
    "tags": []
   },
   "outputs": [
    {
     "data": {
      "text/html": [
       "<div>\n",
       "<style scoped>\n",
       "    .dataframe tbody tr th:only-of-type {\n",
       "        vertical-align: middle;\n",
       "    }\n",
       "\n",
       "    .dataframe tbody tr th {\n",
       "        vertical-align: top;\n",
       "    }\n",
       "\n",
       "    .dataframe thead th {\n",
       "        text-align: right;\n",
       "    }\n",
       "</style>\n",
       "<table border=\"1\" class=\"dataframe\">\n",
       "  <thead>\n",
       "    <tr style=\"text-align: right;\">\n",
       "      <th></th>\n",
       "      <th>depth</th>\n",
       "      <th>profile</th>\n",
       "      <th>row</th>\n",
       "      <th>col</th>\n",
       "      <th>doxy</th>\n",
       "      <th>doxy_p</th>\n",
       "      <th>time</th>\n",
       "      <th>lon</th>\n",
       "      <th>lat</th>\n",
       "      <th>z</th>\n",
       "      <th>CT</th>\n",
       "      <th>SA</th>\n",
       "      <th>sigma0</th>\n",
       "      <th>SO</th>\n",
       "      <th>N</th>\n",
       "      <th>chla</th>\n",
       "      <th>T</th>\n",
       "      <th>DT</th>\n",
       "    </tr>\n",
       "  </thead>\n",
       "  <tbody>\n",
       "    <tr>\n",
       "      <th>22599</th>\n",
       "      <td>1</td>\n",
       "      <td>38396</td>\n",
       "      <td>22</td>\n",
       "      <td>24</td>\n",
       "      <td>282.154424</td>\n",
       "      <td>99.318956</td>\n",
       "      <td>2018-06-26 01:24:31</td>\n",
       "      <td>-118.412868</td>\n",
       "      <td>33.200052</td>\n",
       "      <td>20</td>\n",
       "      <td>14.103035</td>\n",
       "      <td>33.713352</td>\n",
       "      <td>25.058093</td>\n",
       "      <td>1.106984</td>\n",
       "      <td>13.069949</td>\n",
       "      <td>0.553384</td>\n",
       "      <td>14.082273</td>\n",
       "      <td>-4.149183</td>\n",
       "    </tr>\n",
       "    <tr>\n",
       "      <th>28797</th>\n",
       "      <td>1</td>\n",
       "      <td>44957</td>\n",
       "      <td>23</td>\n",
       "      <td>16</td>\n",
       "      <td>273.556054</td>\n",
       "      <td>98.393574</td>\n",
       "      <td>2020-08-26 19:52:47</td>\n",
       "      <td>-118.221423</td>\n",
       "      <td>33.275428</td>\n",
       "      <td>20</td>\n",
       "      <td>17.091714</td>\n",
       "      <td>33.746142</td>\n",
       "      <td>24.420343</td>\n",
       "      <td>1.137879</td>\n",
       "      <td>15.644876</td>\n",
       "      <td>NaN</td>\n",
       "      <td>17.065545</td>\n",
       "      <td>-4.177228</td>\n",
       "    </tr>\n",
       "    <tr>\n",
       "      <th>28806</th>\n",
       "      <td>1</td>\n",
       "      <td>44966</td>\n",
       "      <td>21</td>\n",
       "      <td>18</td>\n",
       "      <td>279.635642</td>\n",
       "      <td>99.354839</td>\n",
       "      <td>2020-08-27 18:38:08</td>\n",
       "      <td>-118.036630</td>\n",
       "      <td>33.336285</td>\n",
       "      <td>20</td>\n",
       "      <td>16.142291</td>\n",
       "      <td>33.683567</td>\n",
       "      <td>24.592270</td>\n",
       "      <td>1.141701</td>\n",
       "      <td>16.402131</td>\n",
       "      <td>NaN</td>\n",
       "      <td>16.116583</td>\n",
       "      <td>-4.472003</td>\n",
       "    </tr>\n",
       "    <tr>\n",
       "      <th>28879</th>\n",
       "      <td>1</td>\n",
       "      <td>45039</td>\n",
       "      <td>17</td>\n",
       "      <td>18</td>\n",
       "      <td>277.241163</td>\n",
       "      <td>99.201597</td>\n",
       "      <td>2020-09-04 18:47:27</td>\n",
       "      <td>-117.677868</td>\n",
       "      <td>33.204988</td>\n",
       "      <td>20</td>\n",
       "      <td>15.537487</td>\n",
       "      <td>33.522392</td>\n",
       "      <td>24.605181</td>\n",
       "      <td>1.117398</td>\n",
       "      <td>16.085474</td>\n",
       "      <td>1.665333</td>\n",
       "      <td>15.509000</td>\n",
       "      <td>-4.088198</td>\n",
       "    </tr>\n",
       "    <tr>\n",
       "      <th>28881</th>\n",
       "      <td>1</td>\n",
       "      <td>45041</td>\n",
       "      <td>17</td>\n",
       "      <td>18</td>\n",
       "      <td>282.391349</td>\n",
       "      <td>99.600798</td>\n",
       "      <td>2020-09-05 00:42:12</td>\n",
       "      <td>-117.721672</td>\n",
       "      <td>33.222485</td>\n",
       "      <td>20</td>\n",
       "      <td>15.511228</td>\n",
       "      <td>33.523001</td>\n",
       "      <td>24.611437</td>\n",
       "      <td>1.137577</td>\n",
       "      <td>15.040181</td>\n",
       "      <td>2.049000</td>\n",
       "      <td>15.482818</td>\n",
       "      <td>-4.244812</td>\n",
       "    </tr>\n",
       "  </tbody>\n",
       "</table>\n",
       "</div>"
      ],
      "text/plain": [
       "       depth  profile  row  col        doxy     doxy_p                time  \\\n",
       "22599      1    38396   22   24  282.154424  99.318956 2018-06-26 01:24:31   \n",
       "28797      1    44957   23   16  273.556054  98.393574 2020-08-26 19:52:47   \n",
       "28806      1    44966   21   18  279.635642  99.354839 2020-08-27 18:38:08   \n",
       "28879      1    45039   17   18  277.241163  99.201597 2020-09-04 18:47:27   \n",
       "28881      1    45041   17   18  282.391349  99.600798 2020-09-05 00:42:12   \n",
       "\n",
       "              lon        lat   z         CT         SA     sigma0        SO  \\\n",
       "22599 -118.412868  33.200052  20  14.103035  33.713352  25.058093  1.106984   \n",
       "28797 -118.221423  33.275428  20  17.091714  33.746142  24.420343  1.137879   \n",
       "28806 -118.036630  33.336285  20  16.142291  33.683567  24.592270  1.141701   \n",
       "28879 -117.677868  33.204988  20  15.537487  33.522392  24.605181  1.117398   \n",
       "28881 -117.721672  33.222485  20  15.511228  33.523001  24.611437  1.137577   \n",
       "\n",
       "               N      chla          T        DT  \n",
       "22599  13.069949  0.553384  14.082273 -4.149183  \n",
       "28797  15.644876       NaN  17.065545 -4.177228  \n",
       "28806  16.402131       NaN  16.116583 -4.472003  \n",
       "28879  16.085474  1.665333  15.509000 -4.088198  \n",
       "28881  15.040181  2.049000  15.482818 -4.244812  "
      ]
     },
     "execution_count": 59,
     "metadata": {},
     "output_type": "execute_result"
    }
   ],
   "source": [
    "too_cold = grid_extrem.DT < -4.\n",
    "grid_extrem[too_cold].head()"
   ]
  },
  {
   "cell_type": "code",
   "execution_count": 68,
   "id": "d91d0da4-b898-49ed-906f-f7189c9b17d3",
   "metadata": {
    "tags": []
   },
   "outputs": [
    {
     "data": {
      "text/plain": [
       "depth                        1\n",
       "profile                  38396\n",
       "row                         22\n",
       "col                         24\n",
       "doxy                282.154424\n",
       "doxy_p               99.318956\n",
       "time       2018-06-26 01:24:31\n",
       "lon                -118.412868\n",
       "lat                  33.200052\n",
       "z                           20\n",
       "CT                   14.103035\n",
       "SA                   33.713352\n",
       "sigma0               25.058093\n",
       "SO                    1.106984\n",
       "N                    13.069949\n",
       "chla                  0.553384\n",
       "T                    14.082273\n",
       "DT                   -4.149183\n",
       "dist                 71.032691\n",
       "Name: 22599, dtype: object"
      ]
     },
     "execution_count": 68,
     "metadata": {},
     "output_type": "execute_result"
    }
   ],
   "source": [
    "grid_extrem[too_cold].iloc[0]"
   ]
  },
  {
   "cell_type": "code",
   "execution_count": 62,
   "id": "81ead627-9788-4858-ac25-47390b0aaecb",
   "metadata": {
    "tags": []
   },
   "outputs": [
    {
     "data": {
      "text/plain": [
       "100.0"
      ]
     },
     "execution_count": 62,
     "metadata": {},
     "output_type": "execute_result"
    }
   ],
   "source": [
    "grid_extrem[too_cold].iloc[0].dist"
   ]
  },
  {
   "cell_type": "markdown",
   "id": "21faec9b-51bc-4bb1-997d-b02ffd8c4eb4",
   "metadata": {
    "tags": []
   },
   "source": [
    "----"
   ]
  },
  {
   "cell_type": "code",
   "execution_count": null,
   "id": "e5ad5625-e66e-4ef5-8ed7-3b9c53d0fda9",
   "metadata": {},
   "outputs": [],
   "source": []
  }
 ],
 "metadata": {
  "kernelspec": {
   "display_name": "Python 3 (ipykernel)",
   "language": "python",
   "name": "python3"
  },
  "language_info": {
   "codemirror_mode": {
    "name": "ipython",
    "version": 3
   },
   "file_extension": ".py",
   "mimetype": "text/x-python",
   "name": "python",
   "nbconvert_exporter": "python",
   "pygments_lexer": "ipython3",
   "version": "3.10.9"
  }
 },
 "nbformat": 4,
 "nbformat_minor": 5
}
