{
 "cells": [
  {
   "cell_type": "markdown",
   "id": "9242f0a8-07c1-4f87-94ea-6a6e5562892c",
   "metadata": {},
   "source": [
    "# Cluster SO/DO Extrema"
   ]
  },
  {
   "cell_type": "code",
   "execution_count": 1,
   "id": "49bdc6c0-2919-4e63-8b26-153589f72ff9",
   "metadata": {},
   "outputs": [],
   "source": [
    "# imports\n",
    "from importlib import reload\n",
    "\n",
    "import numpy as np\n",
    "from scipy.interpolate import interp1d\n",
    "\n",
    "import pandas\n",
    "\n",
    "from matplotlib import pyplot as plt\n",
    "import matplotlib as mpl\n",
    "import matplotlib.gridspec as gridspec\n",
    "\n",
    "import seaborn as sns\n",
    "\n",
    "from siosandbox.cugn import clusters\n",
    "from siosandbox.cugn import grid_utils\n",
    "from siosandbox.cugn import io as cugn_io\n",
    "from siosandbox import plot_utils"
   ]
  },
  {
   "cell_type": "markdown",
   "id": "607b19cd-b8c6-4b1f-b241-7e74aa852ab2",
   "metadata": {},
   "source": [
    "# Load up"
   ]
  },
  {
   "cell_type": "code",
   "execution_count": 2,
   "id": "477b2ce3-750c-427a-bc67-1c85b4818d2e",
   "metadata": {},
   "outputs": [],
   "source": [
    "line = '90'\n",
    "\n",
    "# Load\n",
    "items = cugn_io.load_line(line)\n",
    "grid_tbl = items['grid_tbl']\n",
    "ds = items['ds']\n",
    "\n",
    "# Fill\n",
    "grid_utils.fill_in_grid(grid_tbl, ds)"
   ]
  },
  {
   "cell_type": "code",
   "execution_count": 3,
   "id": "9e001e57-d642-407d-8fa4-d69a834c7849",
   "metadata": {},
   "outputs": [],
   "source": [
    "perc = 80.\n",
    "grid_outliers, _, _ = grid_utils.gen_outliers(line, perc)"
   ]
  },
  {
   "cell_type": "code",
   "execution_count": 4,
   "id": "eb19dea8-b411-4cf6-8add-94891cb3621d",
   "metadata": {},
   "outputs": [
    {
     "data": {
      "text/html": [
       "<div>\n",
       "<style scoped>\n",
       "    .dataframe tbody tr th:only-of-type {\n",
       "        vertical-align: middle;\n",
       "    }\n",
       "\n",
       "    .dataframe tbody tr th {\n",
       "        vertical-align: top;\n",
       "    }\n",
       "\n",
       "    .dataframe thead th {\n",
       "        text-align: right;\n",
       "    }\n",
       "</style>\n",
       "<table border=\"1\" class=\"dataframe\">\n",
       "  <thead>\n",
       "    <tr style=\"text-align: right;\">\n",
       "      <th></th>\n",
       "      <th>depth</th>\n",
       "      <th>profile</th>\n",
       "      <th>row</th>\n",
       "      <th>col</th>\n",
       "      <th>doxy</th>\n",
       "      <th>doxy_p</th>\n",
       "      <th>time</th>\n",
       "      <th>lon</th>\n",
       "      <th>lat</th>\n",
       "      <th>z</th>\n",
       "      <th>CT</th>\n",
       "      <th>SA</th>\n",
       "      <th>sigma0</th>\n",
       "      <th>SO</th>\n",
       "      <th>N</th>\n",
       "      <th>chla</th>\n",
       "      <th>T</th>\n",
       "    </tr>\n",
       "  </thead>\n",
       "  <tbody>\n",
       "    <tr>\n",
       "      <th>782</th>\n",
       "      <td>0</td>\n",
       "      <td>32958</td>\n",
       "      <td>15</td>\n",
       "      <td>18</td>\n",
       "      <td>277.438868</td>\n",
       "      <td>99.488491</td>\n",
       "      <td>2017-03-14 02:17:03</td>\n",
       "      <td>-118.227115</td>\n",
       "      <td>33.265208</td>\n",
       "      <td>10</td>\n",
       "      <td>15.488374</td>\n",
       "      <td>33.434623</td>\n",
       "      <td>24.549290</td>\n",
       "      <td>1.116404</td>\n",
       "      <td>7.360446</td>\n",
       "      <td>0.285907</td>\n",
       "      <td>15.456250</td>\n",
       "    </tr>\n",
       "    <tr>\n",
       "      <th>783</th>\n",
       "      <td>0</td>\n",
       "      <td>32959</td>\n",
       "      <td>15</td>\n",
       "      <td>18</td>\n",
       "      <td>276.052619</td>\n",
       "      <td>98.976982</td>\n",
       "      <td>2017-03-14 03:41:20</td>\n",
       "      <td>-118.217615</td>\n",
       "      <td>33.270125</td>\n",
       "      <td>10</td>\n",
       "      <td>15.243413</td>\n",
       "      <td>33.434927</td>\n",
       "      <td>24.603163</td>\n",
       "      <td>1.105516</td>\n",
       "      <td>6.704290</td>\n",
       "      <td>0.271055</td>\n",
       "      <td>15.211909</td>\n",
       "    </tr>\n",
       "    <tr>\n",
       "      <th>788</th>\n",
       "      <td>0</td>\n",
       "      <td>32964</td>\n",
       "      <td>15</td>\n",
       "      <td>19</td>\n",
       "      <td>298.647665</td>\n",
       "      <td>99.616858</td>\n",
       "      <td>2017-03-14 15:53:33</td>\n",
       "      <td>-118.129770</td>\n",
       "      <td>33.313952</td>\n",
       "      <td>10</td>\n",
       "      <td>14.946715</td>\n",
       "      <td>33.443485</td>\n",
       "      <td>24.673905</td>\n",
       "      <td>1.189120</td>\n",
       "      <td>7.679979</td>\n",
       "      <td>0.324720</td>\n",
       "      <td>14.916154</td>\n",
       "    </tr>\n",
       "    <tr>\n",
       "      <th>789</th>\n",
       "      <td>0</td>\n",
       "      <td>32965</td>\n",
       "      <td>13</td>\n",
       "      <td>19</td>\n",
       "      <td>292.036344</td>\n",
       "      <td>99.696970</td>\n",
       "      <td>2017-03-14 18:54:13</td>\n",
       "      <td>-118.106223</td>\n",
       "      <td>33.320505</td>\n",
       "      <td>10</td>\n",
       "      <td>14.787911</td>\n",
       "      <td>33.351972</td>\n",
       "      <td>24.638233</td>\n",
       "      <td>1.158375</td>\n",
       "      <td>13.925959</td>\n",
       "      <td>0.397494</td>\n",
       "      <td>14.755500</td>\n",
       "    </tr>\n",
       "    <tr>\n",
       "      <th>790</th>\n",
       "      <td>0</td>\n",
       "      <td>32966</td>\n",
       "      <td>13</td>\n",
       "      <td>17</td>\n",
       "      <td>309.040496</td>\n",
       "      <td>99.794239</td>\n",
       "      <td>2017-03-14 21:51:29</td>\n",
       "      <td>-118.080510</td>\n",
       "      <td>33.323907</td>\n",
       "      <td>10</td>\n",
       "      <td>15.265308</td>\n",
       "      <td>33.331187</td>\n",
       "      <td>24.519477</td>\n",
       "      <td>1.237211</td>\n",
       "      <td>13.226413</td>\n",
       "      <td>0.369575</td>\n",
       "      <td>15.231154</td>\n",
       "    </tr>\n",
       "  </tbody>\n",
       "</table>\n",
       "</div>"
      ],
      "text/plain": [
       "     depth  profile  row  col        doxy     doxy_p                time   \n",
       "782      0    32958   15   18  277.438868  99.488491 2017-03-14 02:17:03  \\\n",
       "783      0    32959   15   18  276.052619  98.976982 2017-03-14 03:41:20   \n",
       "788      0    32964   15   19  298.647665  99.616858 2017-03-14 15:53:33   \n",
       "789      0    32965   13   19  292.036344  99.696970 2017-03-14 18:54:13   \n",
       "790      0    32966   13   17  309.040496  99.794239 2017-03-14 21:51:29   \n",
       "\n",
       "            lon        lat   z         CT         SA     sigma0        SO   \n",
       "782 -118.227115  33.265208  10  15.488374  33.434623  24.549290  1.116404  \\\n",
       "783 -118.217615  33.270125  10  15.243413  33.434927  24.603163  1.105516   \n",
       "788 -118.129770  33.313952  10  14.946715  33.443485  24.673905  1.189120   \n",
       "789 -118.106223  33.320505  10  14.787911  33.351972  24.638233  1.158375   \n",
       "790 -118.080510  33.323907  10  15.265308  33.331187  24.519477  1.237211   \n",
       "\n",
       "             N      chla          T  \n",
       "782   7.360446  0.285907  15.456250  \n",
       "783   6.704290  0.271055  15.211909  \n",
       "788   7.679979  0.324720  14.916154  \n",
       "789  13.925959  0.397494  14.755500  \n",
       "790  13.226413  0.369575  15.231154  "
      ]
     },
     "execution_count": 4,
     "metadata": {},
     "output_type": "execute_result"
    }
   ],
   "source": [
    "extrem = grid_outliers.SO > 1.1\n",
    "grid_extrem = grid_outliers[extrem].copy()\n",
    "grid_extrem.head()"
   ]
  },
  {
   "cell_type": "markdown",
   "id": "3ba2b679-cbe6-4728-9c9c-c4ca70be7345",
   "metadata": {},
   "source": [
    "# Cluster"
   ]
  },
  {
   "cell_type": "code",
   "execution_count": 5,
   "id": "bc278111-eaa9-4865-bb65-7cc0f13ca171",
   "metadata": {},
   "outputs": [
    {
     "name": "stdout",
     "output_type": "stream",
     "text": [
      "Found 38 unique clusters\n"
     ]
    }
   ],
   "source": [
    "clusters.generate_clusters(grid_extrem)"
   ]
  },
  {
   "cell_type": "code",
   "execution_count": 6,
   "id": "579572ba-f614-4cbb-a467-a1b37807cc9e",
   "metadata": {},
   "outputs": [],
   "source": [
    "cluster_stats = clusters.cluster_stats(grid_extrem)"
   ]
  },
  {
   "cell_type": "markdown",
   "id": "3a478bed-5755-49da-91a2-6c797866c47f",
   "metadata": {},
   "source": [
    "# Plot a few"
   ]
  },
  {
   "cell_type": "code",
   "execution_count": 7,
   "id": "3d757233-df9d-4a94-8dfc-182fcc125499",
   "metadata": {},
   "outputs": [],
   "source": [
    "uni_cidx, cnt_cidx = np.unique(grid_extrem.cluster, return_counts=True)"
   ]
  },
  {
   "cell_type": "code",
   "execution_count": 10,
   "id": "ccb4bd65-35aa-4c5e-afc0-3522987478b4",
   "metadata": {},
   "outputs": [
    {
     "data": {
      "text/plain": [
       "(array([-1,  0,  1]),\n",
       " array([ 62,  44,  56,  40, 106,  19,  29,  26,   9,  44,  20,  31,   6,\n",
       "         12,  21,  43,   9,  19,  31,   8,   5, 103,  15,   5,  10,  20,\n",
       "          7, 119,  11,  59,   5,   7,  71,  26,  12,  21,  30,  18]))"
      ]
     },
     "execution_count": 10,
     "metadata": {},
     "output_type": "execute_result"
    }
   ],
   "source": [
    "uni_cidx[0:3], cnt_cidx"
   ]
  },
  {
   "cell_type": "markdown",
   "id": "b4148bb4-7d66-41c2-b21a-e59b24addf05",
   "metadata": {},
   "source": [
    "## SO"
   ]
  },
  {
   "cell_type": "code",
   "execution_count": 197,
   "id": "13d4784e-d091-4bb3-87e9-d6abadf99511",
   "metadata": {},
   "outputs": [
    {
     "data": {
      "text/plain": [
       "(Timestamp('2018-07-25 21:57:31'), Timestamp('2018-08-24 06:44:14'))"
      ]
     },
     "execution_count": 197,
     "metadata": {},
     "output_type": "execute_result"
    }
   ],
   "source": [
    "cidx = 0 # DO leads; close to coast, N is elevated\n",
    "cidx = 1 # DO leads; chla very elevated; on-shore; T is uninteresting; mainly sub-surface; doxy, chla turned off??\n",
    "cidx = 2 # Odd gap in measurements; N very elevated; T uninteresting\n",
    "cidx = 3 # Huge DO rise; T uninteresting; N very elevated  [2018 June, July; a bit off-shore]\n",
    "cidx = 4 # Offshore, chlA + DO; N only slightly elevated\n",
    "cidx = 5 # Hugh N; diunrnal signal; GOOFY-CHECK WITH DAN [2018, August]\n",
    "cidx = 6 # N, DO, Chla;  T uninteresting; nearshore [2019 Feb/Mar]\n",
    "cidx = 7 # Separate, weak cluster from [2019 Feb/Mar]\n",
    "cidx = 8 # Strong diurnal; very elevated N; stationary glider?; mainly surface [2019 April]\n",
    "cidx = 9 # Spike in doxy, N, chla [2019 June]\n",
    "cidx = 10 # Possible diurnal; on-shore; elevated T, N [2019 August]\n",
    "cidx = 11 # Very weak [2019 Nov]\n",
    "cidx = 12 # Also weak; N elevated [2020 May]\n",
    "cidx = 13 # On shore spike in N, doxy, low T?! [2020 April]\n",
    "cidx = 14 # CHECK-WITH-DAN; Elevated everything! [2020 May]\n",
    "cidx = 15 # Weak, onshore cluster; high N; diurnal? [2020 July/Aug]\n",
    "cidx = 16 # Off-shore; elevated N but not special; high Chla [2020 August]\n",
    "cidx = 17 # Highest N; mainly sub-surface; colder water? [2020 Sep]\n",
    "cidx = 18 # Weak on-shore cluster; high chla (or erroneous) [2021 Mar]\n",
    "cidx = 19 # Very weak episode [2021 Apr]\n",
    "cidx = 20 # Onshore, high N, cold? [2021 Aug]\n",
    "cidx = 21 # Brief, sub-surface spike off-shore; lower N! [2021 Sep]\n",
    "cidx = 22 # Weak episode; near shore, high N [2021 Oct]\n",
    "cidx = 23 # Weak, onshore episode; higher N [2021 Oct]\n",
    "cidx = 24 # CHECK-WITH-DAN; at shore, high doxy, low N [2022 Feb]\n",
    "cidx = 25 # Weak, erroneous? [2022 Mar]\n",
    "cidx = 26 # CHECK-WITH-DAN; Large episode but odd data?? high N [2022 May]\n",
    "cidx = 27 # Onshore, sub-surface episode; high N [2022 June]\n",
    "cidx = 28 # Onshore, high doxy, high N episode [2022 Aug]\n",
    "cidx = 29 # Weak onshore; elevated N [2022 Oct]\n",
    "cidx = 30 # Weak onshore, high N [2022 Oct]\n",
    "cidx = 31 # Onshore, elevated N, doxy boost [2023 Mar]\n",
    "cidx = 32 # Subsurface; offshore, high N; bounching around?? CHECK-WITH-DAN [2018 Aug]\n",
    "cidx = 33 # Weak episode; subsurface, onshore; high N; elevated doxy [2020 Aug]\n",
    "cidx = 34 # Subsurface, high N, near shore [2022 June]\n",
    "cidx = 35 # Onshore, subsurface, high doxy, high N [2022 Aug]\n",
    "cidx = 36 # Subsurface, high N, near shore [2018 Aug]\n",
    "\n",
    "in_cluster = grid_extrem.cluster == cidx\n",
    "\n",
    "tmin = grid_extrem.time[in_cluster].min() - pandas.Timedelta('2W')\n",
    "tmax = grid_extrem.time[in_cluster].max() + pandas.Timedelta('2W')\n",
    "tmin, tmax"
   ]
  },
  {
   "cell_type": "code",
   "execution_count": 195,
   "id": "1176ee9a-381e-4b67-a878-f435ebc270dd",
   "metadata": {},
   "outputs": [
    {
     "data": {
      "text/plain": [
       "0"
      ]
     },
     "execution_count": 195,
     "metadata": {},
     "output_type": "execute_result"
    }
   ],
   "source": [
    "ds_in_tcluster = (ds.time >= tmin) & (ds.time <= tmax)\n",
    "np.sum(ds_in_tcluster.values)"
   ]
  },
  {
   "cell_type": "code",
   "execution_count": 196,
   "id": "8dd8a9b9-622d-4f90-b344-99515729c6c1",
   "metadata": {},
   "outputs": [
    {
     "data": {
      "image/png": "[encoded data removed]",
      "text/plain": [
       "<Figure size 1200x1200 with 6 Axes>"
      ]
     },
     "metadata": {},
     "output_type": "display_data"
    }
   ],
   "source": [
    "#\n",
    "fig = plt.figure(figsize=(12,12))\n",
    "plt.clf()\n",
    "\n",
    "gs = gridspec.GridSpec(2,3)\n",
    "\n",
    "for ss, metric in enumerate(['SO', 'doxy', 'N', 'T', 'chla', 'lon']):\n",
    "    ax = plt.subplot(gs[ss])\n",
    "\n",
    "    if metric == 'T':\n",
    "        ds_metric = 'temperature'\n",
    "    elif metric == 'chla':\n",
    "        ds_metric = 'chlorophyll_a'\n",
    "    else:\n",
    "        ds_metric = metric\n",
    "\n",
    "    # Plot all\n",
    "    srt = np.argsort(ds.time[ds_in_tcluster].values)\n",
    "    if metric in ['lon']:\n",
    "        ax.plot(ds.time[ds_in_tcluster][srt], ds[ds_metric][ds_in_tcluster][srt], 'k-')\n",
    "    else:\n",
    "        ax.plot(ds.time[ds_in_tcluster][srt], ds[ds_metric][1,ds_in_tcluster][srt], 'k-')\n",
    "\n",
    "    for depth, clr in zip(np.arange(3), ['b', 'g', 'r']):\n",
    "        at_d = grid_extrem.depth[in_cluster] == depth\n",
    "        ax.scatter(grid_extrem.time[in_cluster][at_d], grid_extrem[metric][in_cluster][at_d], color=clr)\n",
    "        \n",
    "    ax.set_ylabel(metric)\n",
    "\n",
    "    plot_utils.set_fontsize(ax, 13.)\n",
    "\n",
    "plt.show()"
   ]
  },
  {
   "cell_type": "code",
   "execution_count": null,
   "id": "ff3c23f3-5882-4f56-b1bf-94903166ee9c",
   "metadata": {},
   "outputs": [],
   "source": []
  },
  {
   "cell_type": "code",
   "execution_count": null,
   "id": "bb66bc36-a0e3-40c4-9970-b1472a6b028f",
   "metadata": {},
   "outputs": [],
   "source": []
  }
 ],
 "metadata": {
  "kernelspec": {
   "display_name": "Python 3 (ipykernel)",
   "language": "python",
   "name": "python3"
  },
  "language_info": {
   "codemirror_mode": {
    "name": "ipython",
    "version": 3
   },
   "file_extension": ".py",
   "mimetype": "text/x-python",
   "name": "python",
   "nbconvert_exporter": "python",
   "pygments_lexer": "ipython3",
   "version": "3.10.10"
  }
 },
 "nbformat": 4,
 "nbformat_minor": 5
}
