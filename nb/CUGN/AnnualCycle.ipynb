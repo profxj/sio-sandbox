{
 "cells": [
  {
   "cell_type": "markdown",
   "id": "aa0c55e1-072a-4960-8b7c-4fb2db4045d1",
   "metadata": {},
   "source": [
    "# AnnualCycle"
   ]
  },
  {
   "cell_type": "code",
   "execution_count": 13,
   "id": "35e739dc-c728-40a5-8412-392923e38788",
   "metadata": {
    "tags": []
   },
   "outputs": [],
   "source": [
    "# imports\n",
    "from importlib import reload\n",
    "import os\n",
    "\n",
    "import numpy as np\n",
    "from scipy.interpolate import interp1d\n",
    "from scipy.io import loadmat\n",
    "\n",
    "import pandas\n",
    "\n",
    "from matplotlib import pyplot as plt\n",
    "import matplotlib as mpl\n",
    "import matplotlib.gridspec as gridspec\n",
    "\n",
    "import seaborn as sns\n",
    "\n",
    "from siosandbox.cugn import clusters\n",
    "from siosandbox.cugn import grid_utils\n",
    "from siosandbox.cugn import io as cugn_io\n",
    "from siosandbox import plot_utils\n",
    "from siosandbox.cugn import annualcycle\n",
    "\n",
    "from gsw import conversions, density\n",
    "import gsw"
   ]
  },
  {
   "cell_type": "markdown",
   "id": "239e7da4-9389-483c-9376-d273a4246048",
   "metadata": {},
   "source": [
    "# Load the .mat file"
   ]
  },
  {
   "cell_type": "code",
   "execution_count": 3,
   "id": "4623af35-2324-4b22-b6c1-f2b2a2abff75",
   "metadata": {
    "tags": []
   },
   "outputs": [],
   "source": [
    "anncyc90_file = os.path.join(os.getenv('CUGN'), 'anncyc90.mat')"
   ]
  },
  {
   "cell_type": "code",
   "execution_count": 4,
   "id": "20198fe9-68bb-44be-9190-65254b4b8491",
   "metadata": {
    "tags": []
   },
   "outputs": [],
   "source": [
    "anncyc90 = loadmat(anncyc90_file)"
   ]
  },
  {
   "cell_type": "code",
   "execution_count": 12,
   "id": "1c9d2d75-2262-4189-adef-36286de25f92",
   "metadata": {
    "tags": []
   },
   "outputs": [
    {
     "data": {
      "text/plain": [
       "numpy.ndarray"
      ]
     },
     "execution_count": 12,
     "metadata": {},
     "output_type": "execute_result"
    }
   ],
   "source": [
    "type(Adict['A'])"
   ]
  },
  {
   "cell_type": "code",
   "execution_count": 6,
   "id": "b829c240-59d8-4e7c-a4fc-8341d29d7ffe",
   "metadata": {},
   "outputs": [
    {
     "data": {
      "text/plain": [
       "dict_keys(['__header__', '__version__', '__globals__', 'A', 'avmap', 'avmapnomean', 'avmapnomeantm', 'avmapsig', 'avmapsignomean', 'avmaptm', 'ctd', 'meanmap', 'meanmapsig', 'meanmaptm'])"
      ]
     },
     "execution_count": 6,
     "metadata": {},
     "output_type": "execute_result"
    }
   ],
   "source": [
    "anncyc90.keys()"
   ]
  },
  {
   "cell_type": "code",
   "execution_count": 50,
   "id": "d1103341-8dca-4680-902a-cacbc347e41a",
   "metadata": {},
   "outputs": [
    {
     "data": {
      "text/plain": [
       "(107, 3)"
      ]
     },
     "execution_count": 50,
     "metadata": {},
     "output_type": "execute_result"
    }
   ],
   "source": [
    "# 5: xcenter [107]\n",
    "# 6: Gaussian\n",
    "# 7: Depth [50]\n",
    "# 8: lon\n",
    "# 9: salinity?\n",
    "# 10: coeff for one of the variables\n",
    "# anncyc90['A'][0][0][10][0][0][0] -- constant 107\n",
    "# anncyc90['A'][0][0][10][0][0][1] -- 107,3  (sin?)\n",
    "# anncyc90['A'][0][0][12]['constant'][0][0] -- 50,107   (Almost certainly t)\n",
    "\n",
    "anncyc90['A'][0][0][10][0][0][2].shape"
   ]
  },
  {
   "cell_type": "code",
   "execution_count": 63,
   "id": "8e56f66f-883c-4d31-a6a0-9a772f92191e",
   "metadata": {},
   "outputs": [],
   "source": [
    "#anncyc90['A'][0][0][10]['constant'][0][0] # sin, cos"
   ]
  },
  {
   "cell_type": "code",
   "execution_count": 74,
   "id": "45e4ccb9-daf8-4ab1-b81b-8d726fc6999b",
   "metadata": {},
   "outputs": [
    {
     "data": {
      "text/plain": [
       "16.997300827492516"
      ]
     },
     "execution_count": 74,
     "metadata": {},
     "output_type": "execute_result"
    }
   ],
   "source": [
    "anncyc90['A'][0][0][12]['constant'][0][0][0,0]"
   ]
  },
  {
   "cell_type": "code",
   "execution_count": 76,
   "id": "3741e32f-b088-45c2-8da8-58c6bd616eb8",
   "metadata": {},
   "outputs": [
    {
     "data": {
      "text/plain": [
       "(50, 107, 3)"
      ]
     },
     "execution_count": 76,
     "metadata": {},
     "output_type": "execute_result"
    }
   ],
   "source": [
    "anncyc90['A'][0][0][12]['sin'][0][0].shape"
   ]
  },
  {
   "cell_type": "markdown",
   "id": "41f5a56b-c28c-4380-83e1-9fbdd8765ab2",
   "metadata": {},
   "source": [
    "## Unpack for convenience"
   ]
  },
  {
   "cell_type": "code",
   "execution_count": 160,
   "id": "1ea8bf66-6ad9-4c67-a408-121a8bc9a8c6",
   "metadata": {},
   "outputs": [],
   "source": [
    "A = {}\n",
    "A['t'] = {}\n",
    "for key in ['constant', 'sin', 'cos']:\n",
    "    A['t'][key] = anncyc90['A'][0][0][12][key][0][0]\n",
    "A['xcenter'] = anncyc90['A'][0][0][5][:,0].astype(float)"
   ]
  },
  {
   "cell_type": "markdown",
   "id": "64b0ba10-5450-4ebf-87b1-7dfd1f181a72",
   "metadata": {},
   "source": [
    "# Try one"
   ]
  },
  {
   "cell_type": "code",
   "execution_count": 108,
   "id": "f37a78f0-1894-4cbc-ad31-f4dbea21b006",
   "metadata": {},
   "outputs": [],
   "source": [
    "time = np.array([180., 200])\n",
    "dist = np.array([14., 79.])\n",
    "level = 2\n",
    "timebin=2*np.pi*time/86400/365.25\n",
    "\n",
    "variable = 't'\n",
    "maxharmonic = A[variable]['sin'].shape[2]\n",
    "#G = np.vstack([np.ones(len(timebin)), \n",
    "#               np.sin(timebin * (np.arange(maxharmonic) + 1)), \n",
    "#               np.cos(timebin * (np.arange(maxharmonic) + 1))]).T"
   ]
  },
  {
   "cell_type": "code",
   "execution_count": 92,
   "id": "4e9db726-7717-4ec4-b765-7c7eff04cd5b",
   "metadata": {},
   "outputs": [
    {
     "data": {
      "text/plain": [
       "(2, 7)"
      ]
     },
     "execution_count": 92,
     "metadata": {},
     "output_type": "execute_result"
    }
   ],
   "source": [
    "G = np.ones((time.size, 1 + 2*maxharmonic))\n",
    "G.shape"
   ]
  },
  {
   "cell_type": "code",
   "execution_count": 94,
   "id": "eb9ed555-268d-43d1-9143-a9a38300109b",
   "metadata": {},
   "outputs": [],
   "source": [
    "for kk in range(maxharmonic):\n",
    "    G[:,kk+1] = np.sin(timebin * (kk+1))\n",
    "    G[:,kk+4] = np.cos(timebin * (kk+1))"
   ]
  },
  {
   "cell_type": "code",
   "execution_count": 103,
   "id": "514865bd-558d-46f2-b8e3-6895b8212fb3",
   "metadata": {},
   "outputs": [
    {
     "data": {
      "text/plain": [
       "array([False, False])"
      ]
     },
     "execution_count": 103,
     "metadata": {},
     "output_type": "execute_result"
    }
   ],
   "source": [
    "ii = dist <= np.min(A['xcenter'])\n",
    "ii"
   ]
  },
  {
   "cell_type": "code",
   "execution_count": 161,
   "id": "600fd77b-a9a4-4268-ad96-b34c8259c5d6",
   "metadata": {},
   "outputs": [
    {
     "data": {
      "text/plain": [
       "2"
      ]
     },
     "execution_count": 161,
     "metadata": {},
     "output_type": "execute_result"
    }
   ],
   "source": [
    "n=0\n",
    "xx = A['xcenter'] - dist[n]\n",
    "ip = np.where(xx[:-1] * xx[1:] <= 0)[0][0]\n",
    "ip"
   ]
  },
  {
   "cell_type": "code",
   "execution_count": 162,
   "id": "cd4e0dd2-7706-4a05-ac34-bcd9a1e1589e",
   "metadata": {},
   "outputs": [
    {
     "data": {
      "text/plain": [
       "10.0"
      ]
     },
     "execution_count": 162,
     "metadata": {},
     "output_type": "execute_result"
    }
   ],
   "source": [
    "A['xcenter'][ip]"
   ]
  },
  {
   "cell_type": "code",
   "execution_count": 147,
   "id": "c870451d-45b7-4d99-8896-2c624bf6075c",
   "metadata": {},
   "outputs": [
    {
     "data": {
      "text/plain": [
       "(2, 7)"
      ]
     },
     "execution_count": 147,
     "metadata": {},
     "output_type": "execute_result"
    }
   ],
   "source": [
    "m2 = np.zeros((2,7))\n",
    "m2[:,0] = A[variable]['constant'][level, ip:ip+2]\n",
    "m2[:,1:4] = A[variable]['sin'][level, ip:ip+2]\n",
    "m2[:,4:7] = A[variable]['cos'][level, ip:ip+2]    \n",
    "m2.shape"
   ]
  },
  {
   "cell_type": "code",
   "execution_count": 148,
   "id": "8af10626-d895-4b5f-bd4e-d193c7c0c46d",
   "metadata": {},
   "outputs": [
    {
     "data": {
      "text/plain": [
       "array([[15.08601338, 15.06415729]])"
      ]
     },
     "execution_count": 148,
     "metadata": {},
     "output_type": "execute_result"
    }
   ],
   "source": [
    "bracket = G[n:n+1,:] @ m2.T\n",
    "bracket"
   ]
  },
  {
   "cell_type": "code",
   "execution_count": 149,
   "id": "f6522343-8b5a-47d2-9193-8aa185659f14",
   "metadata": {},
   "outputs": [
    {
     "data": {
      "text/plain": [
       "(array([-4.]), array([1.]))"
      ]
     },
     "execution_count": 149,
     "metadata": {},
     "output_type": "execute_result"
    }
   ],
   "source": [
    "xx[ip], xx[ip+1]"
   ]
  },
  {
   "cell_type": "code",
   "execution_count": 165,
   "id": "72fa1f02-418c-4e5a-a572-5e847559c1c5",
   "metadata": {},
   "outputs": [
    {
     "data": {
      "text/plain": [
       "15.068528504274905"
      ]
     },
     "execution_count": 165,
     "metadata": {},
     "output_type": "execute_result"
    }
   ],
   "source": [
    "dx = np.diff(A['xcenter'])\n",
    "\n",
    "ans =  float(bracket @ [xx[ip+1], -xx[ip]]) / dx[ip]\n",
    "ans"
   ]
  },
  {
   "cell_type": "code",
   "execution_count": 166,
   "id": "46fa9361-6ccc-437f-8261-e104df9cc807",
   "metadata": {},
   "outputs": [
    {
     "data": {
      "text/plain": [
       "2"
      ]
     },
     "execution_count": 166,
     "metadata": {},
     "output_type": "execute_result"
    }
   ],
   "source": [
    "level"
   ]
  },
  {
   "cell_type": "markdown",
   "id": "18b8685c-2be7-4e0c-8a8a-4d0555b067d9",
   "metadata": {},
   "source": [
    "----"
   ]
  },
  {
   "cell_type": "markdown",
   "id": "b5f2cb46-c644-4c54-8908-6f8c33cad677",
   "metadata": {},
   "source": [
    "# Try with my method"
   ]
  },
  {
   "cell_type": "code",
   "execution_count": 15,
   "id": "ef46662c-3b41-406c-adf9-20ec57330cbb",
   "metadata": {
    "tags": []
   },
   "outputs": [],
   "source": [
    "A = anncyc90 = loadmat(anncyc90_file, variable_names=['A'])['A']"
   ]
  },
  {
   "cell_type": "code",
   "execution_count": 17,
   "id": "8afd0ff4-9ccd-4de3-b78a-065dbdebb752",
   "metadata": {
    "tags": []
   },
   "outputs": [
    {
     "ename": "NameError",
     "evalue": "name 'A' is not defined",
     "output_type": "error",
     "traceback": [
      "\u001b[0;31m---------------------------------------------------------------------------\u001b[0m",
      "\u001b[0;31mNameError\u001b[0m                                 Traceback (most recent call last)",
      "Cell \u001b[0;32mIn[17], line 8\u001b[0m\n\u001b[1;32m      6\u001b[0m \u001b[38;5;66;03m#\u001b[39;00m\n\u001b[1;32m      7\u001b[0m reload(annualcycle)\n\u001b[0;32m----> 8\u001b[0m \u001b[43mannualcycle\u001b[49m\u001b[38;5;241;43m.\u001b[39;49m\u001b[43mevaluate\u001b[49m\u001b[43m(\u001b[49m\u001b[43mA\u001b[49m\u001b[43m,\u001b[49m\u001b[43m \u001b[49m\u001b[43mvariable\u001b[49m\u001b[43m,\u001b[49m\u001b[43m \u001b[49m\u001b[43mlevel\u001b[49m\u001b[43m,\u001b[49m\u001b[43m \u001b[49m\u001b[43mtime\u001b[49m\u001b[43m,\u001b[49m\u001b[43m \u001b[49m\u001b[43mdist\u001b[49m\u001b[43m)\u001b[49m\n",
      "File \u001b[0;32m~/Projects/Oceanography/python/sio-sandbox/siosandbox/cugn/annualcycle.py:56\u001b[0m, in \u001b[0;36mevaluate\u001b[0;34m(Aarray, variable, level, time, dist)\u001b[0m\n\u001b[1;32m     54\u001b[0m ip \u001b[38;5;241m=\u001b[39m np\u001b[38;5;241m.\u001b[39mwhere(xx[:\u001b[38;5;241m-\u001b[39m\u001b[38;5;241m1\u001b[39m] \u001b[38;5;241m*\u001b[39m xx[\u001b[38;5;241m1\u001b[39m:] \u001b[38;5;241m<\u001b[39m\u001b[38;5;241m=\u001b[39m \u001b[38;5;241m0\u001b[39m)[\u001b[38;5;241m0\u001b[39m][\u001b[38;5;241m0\u001b[39m]\n\u001b[1;32m     55\u001b[0m \u001b[38;5;66;03m# Prep\u001b[39;00m\n\u001b[0;32m---> 56\u001b[0m m2 \u001b[38;5;241m=\u001b[39m \u001b[43mprep_m\u001b[49m\u001b[43m(\u001b[49m\u001b[43mA\u001b[49m\u001b[43m[\u001b[49m\u001b[43mvariable\u001b[49m\u001b[43m]\u001b[49m\u001b[43m,\u001b[49m\u001b[43m \u001b[49m\u001b[43mip\u001b[49m\u001b[43m,\u001b[49m\u001b[43m \u001b[49m\u001b[38;5;241;43m2\u001b[39;49m\u001b[43m)\u001b[49m\n\u001b[1;32m     57\u001b[0m \u001b[38;5;66;03m# Evaluate\u001b[39;00m\n\u001b[1;32m     58\u001b[0m bracket \u001b[38;5;241m=\u001b[39m G[n:n\u001b[38;5;241m+\u001b[39m\u001b[38;5;241m1\u001b[39m,:] \u001b[38;5;241m@\u001b[39m m2\u001b[38;5;241m.\u001b[39mT\n",
      "File \u001b[0;32m~/Projects/Oceanography/python/sio-sandbox/siosandbox/cugn/annualcycle.py:9\u001b[0m, in \u001b[0;36mprep_m\u001b[0;34m(Avar, ip, nvals)\u001b[0m\n\u001b[1;32m      6\u001b[0m maxharmonic \u001b[38;5;241m=\u001b[39m Avar[\u001b[38;5;124m'\u001b[39m\u001b[38;5;124msin\u001b[39m\u001b[38;5;124m'\u001b[39m]\u001b[38;5;241m.\u001b[39mshape[\u001b[38;5;241m2\u001b[39m]\n\u001b[1;32m      8\u001b[0m m \u001b[38;5;241m=\u001b[39m np\u001b[38;5;241m.\u001b[39mzeros((nvals, \u001b[38;5;241m1\u001b[39m \u001b[38;5;241m+\u001b[39m \u001b[38;5;241m2\u001b[39m\u001b[38;5;241m*\u001b[39mmaxharmonic))\n\u001b[0;32m----> 9\u001b[0m m[:,\u001b[38;5;241m0\u001b[39m] \u001b[38;5;241m=\u001b[39m \u001b[43mA\u001b[49m[variable][\u001b[38;5;124m'\u001b[39m\u001b[38;5;124mconstant\u001b[39m\u001b[38;5;124m'\u001b[39m][level, ip:ip\u001b[38;5;241m+\u001b[39mnvals]\n\u001b[1;32m     10\u001b[0m m[:,\u001b[38;5;241m1\u001b[39m:\u001b[38;5;241m1\u001b[39m\u001b[38;5;241m+\u001b[39mmaxharmonic] \u001b[38;5;241m=\u001b[39m Avar[\u001b[38;5;124m'\u001b[39m\u001b[38;5;124msin\u001b[39m\u001b[38;5;124m'\u001b[39m][level, ip:ip\u001b[38;5;241m+\u001b[39mnvals]\n\u001b[1;32m     11\u001b[0m m[:,\u001b[38;5;241m1\u001b[39m\u001b[38;5;241m+\u001b[39mmaxharmonic:] \u001b[38;5;241m=\u001b[39m Avar[\u001b[38;5;124m'\u001b[39m\u001b[38;5;124mcos\u001b[39m\u001b[38;5;124m'\u001b[39m][level, ip:ip\u001b[38;5;241m+\u001b[39mnvals] \n",
      "\u001b[0;31mNameError\u001b[0m: name 'A' is not defined"
     ]
    }
   ],
   "source": [
    "time = np.array([180., 200])\n",
    "dist = np.array([14., 79.])\n",
    "level = 2\n",
    "variable = 't'\n",
    "\n",
    "#\n",
    "reload(annualcycle)\n",
    "annualcycle.evaluate(A, variable, level, time, dist)"
   ]
  },
  {
   "cell_type": "code",
   "execution_count": null,
   "id": "5f57b6fd-e1b5-47c1-9527-22785490d387",
   "metadata": {},
   "outputs": [],
   "source": []
  }
 ],
 "metadata": {
  "kernelspec": {
   "display_name": "Python 3 (ipykernel)",
   "language": "python",
   "name": "python3"
  },
  "language_info": {
   "codemirror_mode": {
    "name": "ipython",
    "version": 3
   },
   "file_extension": ".py",
   "mimetype": "text/x-python",
   "name": "python",
   "nbconvert_exporter": "python",
   "pygments_lexer": "ipython3",
   "version": "3.10.9"
  }
 },
 "nbformat": 4,
 "nbformat_minor": 5
}
