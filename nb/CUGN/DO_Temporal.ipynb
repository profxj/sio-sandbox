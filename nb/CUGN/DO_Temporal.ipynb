{
 "cells": [
  {
   "cell_type": "markdown",
   "id": "d176b60a-4a56-4fd3-b4f7-415e25b6d9fd",
   "metadata": {},
   "source": [
    "# Seasonal/Hourly SO\n",
    "\n",
    "## Explore SO vs. month and vs. hour"
   ]
  },
  {
   "cell_type": "code",
   "execution_count": 1,
   "id": "e1658373-98f2-4686-967e-f2c862df45fe",
   "metadata": {
    "tags": []
   },
   "outputs": [],
   "source": [
    "# imports\n",
    "from importlib import reload\n",
    "\n",
    "import numpy as np\n",
    "\n",
    "import pandas\n",
    "\n",
    "from matplotlib import pyplot as plt\n",
    "import matplotlib as mpl\n",
    "import matplotlib.gridspec as gridspec\n",
    "\n",
    "import seaborn as sns\n",
    "\n",
    "from siosandbox.cugn import clusters\n",
    "from siosandbox.cugn import grid_utils"
   ]
  },
  {
   "cell_type": "markdown",
   "id": "86056b3e-c100-47e4-bf82-41a0b7d38c9f",
   "metadata": {},
   "source": [
    "# Load"
   ]
  },
  {
   "cell_type": "code",
   "execution_count": 2,
   "id": "8a7c589d-a599-453a-9b41-63c043f7c18b",
   "metadata": {
    "tags": []
   },
   "outputs": [],
   "source": [
    "line = '90'\n",
    "perc = 98."
   ]
  },
  {
   "cell_type": "markdown",
   "id": "9574f3db-e659-4523-a471-6e9453352a26",
   "metadata": {},
   "source": [
    "## Full dataset"
   ]
  },
  {
   "cell_type": "code",
   "execution_count": 3,
   "id": "c3483c1a-505f-4332-8f2a-f49ea5ed38a3",
   "metadata": {
    "tags": []
   },
   "outputs": [
    {
     "name": "stdout",
     "output_type": "stream",
     "text": [
      "Found 386 unique clusters\n"
     ]
    }
   ],
   "source": [
    "grid_outliers, grid_tbl, ds = grid_utils.gen_outliers(line, perc)\n",
    "clusters.generate_clusters(grid_outliers)"
   ]
  },
  {
   "cell_type": "code",
   "execution_count": 4,
   "id": "2011c6f6-f3da-4555-9906-b1ecbdb94273",
   "metadata": {
    "tags": []
   },
   "outputs": [],
   "source": [
    "reload(grid_utils)\n",
    "grid_utils.fill_in_grid(grid_tbl, ds)"
   ]
  },
  {
   "cell_type": "code",
   "execution_count": 5,
   "id": "21130089-2fb9-47b1-ad3c-4695cb63d79b",
   "metadata": {
    "tags": []
   },
   "outputs": [
    {
     "data": {
      "text/html": [
       "<div>\n",
       "<style scoped>\n",
       "    .dataframe tbody tr th:only-of-type {\n",
       "        vertical-align: middle;\n",
       "    }\n",
       "\n",
       "    .dataframe tbody tr th {\n",
       "        vertical-align: top;\n",
       "    }\n",
       "\n",
       "    .dataframe thead th {\n",
       "        text-align: right;\n",
       "    }\n",
       "</style>\n",
       "<table border=\"1\" class=\"dataframe\">\n",
       "  <thead>\n",
       "    <tr style=\"text-align: right;\">\n",
       "      <th></th>\n",
       "      <th>depth</th>\n",
       "      <th>profile</th>\n",
       "      <th>row</th>\n",
       "      <th>col</th>\n",
       "      <th>doxy</th>\n",
       "      <th>doxy_p</th>\n",
       "      <th>time</th>\n",
       "      <th>lon</th>\n",
       "      <th>z</th>\n",
       "      <th>CT</th>\n",
       "      <th>SA</th>\n",
       "      <th>sigma0</th>\n",
       "      <th>SO</th>\n",
       "      <th>chla</th>\n",
       "    </tr>\n",
       "  </thead>\n",
       "  <tbody>\n",
       "    <tr>\n",
       "      <th>0</th>\n",
       "      <td>0</td>\n",
       "      <td>32173</td>\n",
       "      <td>17</td>\n",
       "      <td>16</td>\n",
       "      <td>252.912731</td>\n",
       "      <td>88.939052</td>\n",
       "      <td>2016-12-14 19:52:21</td>\n",
       "      <td>-117.460120</td>\n",
       "      <td>10</td>\n",
       "      <td>16.249462</td>\n",
       "      <td>33.523891</td>\n",
       "      <td>24.446819</td>\n",
       "      <td>1.033524</td>\n",
       "      <td>0.169041</td>\n",
       "    </tr>\n",
       "    <tr>\n",
       "      <th>1</th>\n",
       "      <td>0</td>\n",
       "      <td>32174</td>\n",
       "      <td>17</td>\n",
       "      <td>16</td>\n",
       "      <td>252.951126</td>\n",
       "      <td>89.164786</td>\n",
       "      <td>2016-12-14 20:47:19</td>\n",
       "      <td>-117.463420</td>\n",
       "      <td>10</td>\n",
       "      <td>16.214990</td>\n",
       "      <td>33.522302</td>\n",
       "      <td>24.453442</td>\n",
       "      <td>1.032982</td>\n",
       "      <td>0.176322</td>\n",
       "    </tr>\n",
       "    <tr>\n",
       "      <th>2</th>\n",
       "      <td>0</td>\n",
       "      <td>32175</td>\n",
       "      <td>17</td>\n",
       "      <td>17</td>\n",
       "      <td>253.346587</td>\n",
       "      <td>80.334728</td>\n",
       "      <td>2016-12-14 21:38:13</td>\n",
       "      <td>-117.465688</td>\n",
       "      <td>10</td>\n",
       "      <td>16.158025</td>\n",
       "      <td>33.511012</td>\n",
       "      <td>24.457791</td>\n",
       "      <td>1.033375</td>\n",
       "      <td>0.252030</td>\n",
       "    </tr>\n",
       "    <tr>\n",
       "      <th>3</th>\n",
       "      <td>0</td>\n",
       "      <td>32176</td>\n",
       "      <td>17</td>\n",
       "      <td>17</td>\n",
       "      <td>254.551252</td>\n",
       "      <td>86.192469</td>\n",
       "      <td>2016-12-14 22:50:08</td>\n",
       "      <td>-117.471270</td>\n",
       "      <td>10</td>\n",
       "      <td>16.057278</td>\n",
       "      <td>33.502061</td>\n",
       "      <td>24.473762</td>\n",
       "      <td>1.036203</td>\n",
       "      <td>0.431141</td>\n",
       "    </tr>\n",
       "    <tr>\n",
       "      <th>4</th>\n",
       "      <td>0</td>\n",
       "      <td>32177</td>\n",
       "      <td>17</td>\n",
       "      <td>16</td>\n",
       "      <td>251.471860</td>\n",
       "      <td>85.101580</td>\n",
       "      <td>2016-12-15 00:11:51</td>\n",
       "      <td>-117.477442</td>\n",
       "      <td>10</td>\n",
       "      <td>16.372075</td>\n",
       "      <td>33.522704</td>\n",
       "      <td>24.417984</td>\n",
       "      <td>1.030055</td>\n",
       "      <td>0.267575</td>\n",
       "    </tr>\n",
       "  </tbody>\n",
       "</table>\n",
       "</div>"
      ],
      "text/plain": [
       "   depth  profile  row  col        doxy     doxy_p                time  \\\n",
       "0      0    32173   17   16  252.912731  88.939052 2016-12-14 19:52:21   \n",
       "1      0    32174   17   16  252.951126  89.164786 2016-12-14 20:47:19   \n",
       "2      0    32175   17   17  253.346587  80.334728 2016-12-14 21:38:13   \n",
       "3      0    32176   17   17  254.551252  86.192469 2016-12-14 22:50:08   \n",
       "4      0    32177   17   16  251.471860  85.101580 2016-12-15 00:11:51   \n",
       "\n",
       "          lon   z         CT         SA     sigma0        SO      chla  \n",
       "0 -117.460120  10  16.249462  33.523891  24.446819  1.033524  0.169041  \n",
       "1 -117.463420  10  16.214990  33.522302  24.453442  1.032982  0.176322  \n",
       "2 -117.465688  10  16.158025  33.511012  24.457791  1.033375  0.252030  \n",
       "3 -117.471270  10  16.057278  33.502061  24.473762  1.036203  0.431141  \n",
       "4 -117.477442  10  16.372075  33.522704  24.417984  1.030055  0.267575  "
      ]
     },
     "execution_count": 5,
     "metadata": {},
     "output_type": "execute_result"
    }
   ],
   "source": [
    "grid_tbl.head()"
   ]
  },
  {
   "cell_type": "markdown",
   "id": "6969f1fc-1d87-4563-a2bd-6a56142ef38b",
   "metadata": {},
   "source": [
    "## Times for convenience"
   ]
  },
  {
   "cell_type": "code",
   "execution_count": 6,
   "id": "c7d41166-6279-404f-b618-21d50f617d28",
   "metadata": {
    "tags": []
   },
   "outputs": [],
   "source": [
    "ptimes = pandas.to_datetime(grid_outliers.time.values)\n",
    "aptimes = pandas.to_datetime(grid_tbl.time.values)"
   ]
  },
  {
   "cell_type": "markdown",
   "id": "210530d5-96a6-4690-86f7-4bb66b371bfc",
   "metadata": {},
   "source": [
    "# Standard stats"
   ]
  },
  {
   "cell_type": "code",
   "execution_count": 7,
   "id": "66f3d489-b080-481e-b0ab-a817b3d2388d",
   "metadata": {
    "tags": []
   },
   "outputs": [
    {
     "data": {
      "text/html": [
       "<div>\n",
       "<style scoped>\n",
       "    .dataframe tbody tr th:only-of-type {\n",
       "        vertical-align: middle;\n",
       "    }\n",
       "\n",
       "    .dataframe tbody tr th {\n",
       "        vertical-align: top;\n",
       "    }\n",
       "\n",
       "    .dataframe thead th {\n",
       "        text-align: right;\n",
       "    }\n",
       "</style>\n",
       "<table border=\"1\" class=\"dataframe\">\n",
       "  <thead>\n",
       "    <tr style=\"text-align: right;\">\n",
       "      <th></th>\n",
       "      <th>z</th>\n",
       "      <th>lon</th>\n",
       "      <th>doxy</th>\n",
       "      <th>time</th>\n",
       "      <th>SA</th>\n",
       "      <th>CT</th>\n",
       "      <th>sigma0</th>\n",
       "      <th>SO</th>\n",
       "      <th>chla</th>\n",
       "      <th>max_doxy</th>\n",
       "      <th>max_SO</th>\n",
       "      <th>max_chla</th>\n",
       "      <th>N</th>\n",
       "      <th>cluster</th>\n",
       "    </tr>\n",
       "  </thead>\n",
       "  <tbody>\n",
       "    <tr>\n",
       "      <th>0</th>\n",
       "      <td>15.600000</td>\n",
       "      <td>-118.009290</td>\n",
       "      <td>278.942976</td>\n",
       "      <td>2017-03-17 05:13:22.506666752</td>\n",
       "      <td>33.417848</td>\n",
       "      <td>14.997837</td>\n",
       "      <td>24.640720</td>\n",
       "      <td>1.111353</td>\n",
       "      <td>0.376499</td>\n",
       "      <td>309.040496</td>\n",
       "      <td>1.237211</td>\n",
       "      <td>0.710987</td>\n",
       "      <td>75</td>\n",
       "      <td>0</td>\n",
       "    </tr>\n",
       "    <tr>\n",
       "      <th>1</th>\n",
       "      <td>12.500000</td>\n",
       "      <td>-117.987563</td>\n",
       "      <td>263.682135</td>\n",
       "      <td>2017-04-09 09:25:06.666666496</td>\n",
       "      <td>33.504671</td>\n",
       "      <td>16.216080</td>\n",
       "      <td>24.439004</td>\n",
       "      <td>1.076490</td>\n",
       "      <td>0.220169</td>\n",
       "      <td>271.135380</td>\n",
       "      <td>1.099654</td>\n",
       "      <td>0.319463</td>\n",
       "      <td>12</td>\n",
       "      <td>1</td>\n",
       "    </tr>\n",
       "    <tr>\n",
       "      <th>2</th>\n",
       "      <td>13.076923</td>\n",
       "      <td>-119.560430</td>\n",
       "      <td>268.295324</td>\n",
       "      <td>2017-04-15 22:35:44.923077120</td>\n",
       "      <td>33.545435</td>\n",
       "      <td>14.173875</td>\n",
       "      <td>24.914860</td>\n",
       "      <td>1.052789</td>\n",
       "      <td>1.522748</td>\n",
       "      <td>271.505720</td>\n",
       "      <td>1.060757</td>\n",
       "      <td>2.138465</td>\n",
       "      <td>13</td>\n",
       "      <td>2</td>\n",
       "    </tr>\n",
       "    <tr>\n",
       "      <th>3</th>\n",
       "      <td>19.375000</td>\n",
       "      <td>-119.904488</td>\n",
       "      <td>264.906934</td>\n",
       "      <td>2017-06-21 04:50:49.875000064</td>\n",
       "      <td>33.475110</td>\n",
       "      <td>15.639963</td>\n",
       "      <td>24.546332</td>\n",
       "      <td>1.069439</td>\n",
       "      <td>1.439475</td>\n",
       "      <td>267.124543</td>\n",
       "      <td>1.082783</td>\n",
       "      <td>2.477573</td>\n",
       "      <td>16</td>\n",
       "      <td>3</td>\n",
       "    </tr>\n",
       "    <tr>\n",
       "      <th>4</th>\n",
       "      <td>18.674699</td>\n",
       "      <td>-117.641209</td>\n",
       "      <td>295.869543</td>\n",
       "      <td>2017-07-07 12:29:09.132529664</td>\n",
       "      <td>33.563195</td>\n",
       "      <td>15.655587</td>\n",
       "      <td>24.601511</td>\n",
       "      <td>1.198933</td>\n",
       "      <td>0.920417</td>\n",
       "      <td>423.426695</td>\n",
       "      <td>1.806465</td>\n",
       "      <td>4.022911</td>\n",
       "      <td>83</td>\n",
       "      <td>4</td>\n",
       "    </tr>\n",
       "  </tbody>\n",
       "</table>\n",
       "</div>"
      ],
      "text/plain": [
       "           z         lon        doxy                          time         SA  \\\n",
       "0  15.600000 -118.009290  278.942976 2017-03-17 05:13:22.506666752  33.417848   \n",
       "1  12.500000 -117.987563  263.682135 2017-04-09 09:25:06.666666496  33.504671   \n",
       "2  13.076923 -119.560430  268.295324 2017-04-15 22:35:44.923077120  33.545435   \n",
       "3  19.375000 -119.904488  264.906934 2017-06-21 04:50:49.875000064  33.475110   \n",
       "4  18.674699 -117.641209  295.869543 2017-07-07 12:29:09.132529664  33.563195   \n",
       "\n",
       "          CT     sigma0        SO      chla    max_doxy    max_SO  max_chla  \\\n",
       "0  14.997837  24.640720  1.111353  0.376499  309.040496  1.237211  0.710987   \n",
       "1  16.216080  24.439004  1.076490  0.220169  271.135380  1.099654  0.319463   \n",
       "2  14.173875  24.914860  1.052789  1.522748  271.505720  1.060757  2.138465   \n",
       "3  15.639963  24.546332  1.069439  1.439475  267.124543  1.082783  2.477573   \n",
       "4  15.655587  24.601511  1.198933  0.920417  423.426695  1.806465  4.022911   \n",
       "\n",
       "    N  cluster  \n",
       "0  75        0  \n",
       "1  12        1  \n",
       "2  13        2  \n",
       "3  16        3  \n",
       "4  83        4  "
      ]
     },
     "execution_count": 7,
     "metadata": {},
     "output_type": "execute_result"
    }
   ],
   "source": [
    "cluster_stats = clusters.cluster_stats(grid_outliers)\n",
    "cluster_stats.head()"
   ]
  },
  {
   "cell_type": "markdown",
   "id": "8d1f9280-2cec-46c7-8e3d-3f332af9be7a",
   "metadata": {},
   "source": [
    "# Cluster durations"
   ]
  },
  {
   "cell_type": "markdown",
   "id": "69bb38e7-61ef-404a-9462-38ca3c33d53f",
   "metadata": {
    "tags": []
   },
   "source": [
    "## Find start/end times"
   ]
  },
  {
   "cell_type": "code",
   "execution_count": 8,
   "id": "53313ddc-e953-4c8d-ac35-2fe41677419b",
   "metadata": {
    "tags": []
   },
   "outputs": [
    {
     "data": {
      "text/plain": [
       "array([0, 1, 2, 3, 4, 5, 6, 7, 8, 9])"
      ]
     },
     "execution_count": 8,
     "metadata": {},
     "output_type": "execute_result"
    }
   ],
   "source": [
    "cluster_IDs = np.unique(grid_outliers.cluster.values[\n",
    "        grid_outliers.cluster.values >= 0])\n",
    "cluster_IDs[0:10]"
   ]
  },
  {
   "cell_type": "code",
   "execution_count": 9,
   "id": "024be144-c20d-4fc4-81ef-d72ae6f04efb",
   "metadata": {
    "tags": []
   },
   "outputs": [],
   "source": [
    "start_month, end_month = [], []\n",
    "\n",
    "for cluster_ID in cluster_IDs:\n",
    "    in_cluster = grid_outliers.cluster.values == cluster_ID\n",
    "    #\n",
    "    itimes = ptimes[in_cluster]\n",
    "    itstart = itimes.min()\n",
    "    itend = itimes.max()\n",
    "    # Save\n",
    "    start_month.append(itstart.month)\n",
    "    endm = itend.month + 12 * (itend.year-itstart.year)\n",
    "    end_month.append(endm)\n",
    "# Arrays\n",
    "start_month = np.array(start_month)\n",
    "end_month = np.array(end_month)"
   ]
  },
  {
   "cell_type": "code",
   "execution_count": 10,
   "id": "52cc625e-3b41-4b65-a106-be474dac7a59",
   "metadata": {
    "tags": []
   },
   "outputs": [
    {
     "data": {
      "text/plain": [
       "3"
      ]
     },
     "execution_count": 10,
     "metadata": {},
     "output_type": "execute_result"
    }
   ],
   "source": [
    "(end_month - start_month).max()"
   ]
  },
  {
   "cell_type": "markdown",
   "id": "50dacf48-098b-4f41-bb2f-8521d32b9df7",
   "metadata": {},
   "source": [
    "## Plot"
   ]
  },
  {
   "cell_type": "code",
   "execution_count": 11,
   "id": "5a07353a-21ac-42c2-993c-0d62b70ab570",
   "metadata": {
    "tags": []
   },
   "outputs": [
    {
     "data": {
      "image/png": "[encoded data removed]",
      "text/plain": [
       "<Figure size 640x480 with 2 Axes>"
      ]
     },
     "metadata": {},
     "output_type": "display_data"
    }
   ],
   "source": [
    "plt.clf()\n",
    "ax = plt.gca()\n",
    "# Average month\n",
    "avg_month = (start_month + end_month)/2.\n",
    "# Plot\n",
    "sc = ax.scatter(avg_month, cluster_stats['max_SO'], c=cluster_stats.z,\n",
    "               cmap='inferno')\n",
    "cb = plt.colorbar(sc)\n",
    "cb.set_label('Depth (m)')\n",
    "#\n",
    "ax.axhline(1., color='k', ls='--')\n",
    "ax.set_xlabel('Month')\n",
    "ax.set_ylabel('Max SO')\n",
    "plt.show()"
   ]
  },
  {
   "cell_type": "markdown",
   "id": "65e57608-10c7-4ab2-9134-463db6370cd2",
   "metadata": {},
   "source": [
    "----"
   ]
  },
  {
   "cell_type": "markdown",
   "id": "6dcf018e-1c18-4ade-a693-ec440b28afc4",
   "metadata": {},
   "source": [
    "# PDF"
   ]
  },
  {
   "cell_type": "markdown",
   "id": "d40004d3-fc47-43d3-b1ec-a6ca95cfd9e9",
   "metadata": {},
   "source": [
    "## Cut on SO"
   ]
  },
  {
   "cell_type": "code",
   "execution_count": 12,
   "id": "14326386-3ac3-4da5-a9d1-e57fe2ab7614",
   "metadata": {
    "tags": []
   },
   "outputs": [],
   "source": [
    "grid_tbl['month'] = aptimes.month"
   ]
  },
  {
   "cell_type": "code",
   "execution_count": 13,
   "id": "48fc1e53-e094-4e4b-a360-e22a0dbec02c",
   "metadata": {
    "tags": []
   },
   "outputs": [],
   "source": [
    "SO_cut = grid_tbl.SO >= 1."
   ]
  },
  {
   "cell_type": "code",
   "execution_count": 14,
   "id": "d0c82655-e918-4c1a-b4cb-3c8140b06ea1",
   "metadata": {
    "tags": []
   },
   "outputs": [
    {
     "data": {
      "text/plain": [
       "<Axes: xlabel='month', ylabel='Count'>"
      ]
     },
     "execution_count": 14,
     "metadata": {},
     "output_type": "execute_result"
    },
    {
     "data": {
      "image/png": "[encoded data removed]",
      "text/plain": [
       "<Figure size 640x480 with 1 Axes>"
      ]
     },
     "metadata": {},
     "output_type": "display_data"
    }
   ],
   "source": [
    "sns.histplot(grid_tbl[SO_cut], x='month')"
   ]
  },
  {
   "cell_type": "markdown",
   "id": "6ca382be-3c1f-4509-8667-a7b5c0c77b6f",
   "metadata": {},
   "source": [
    "## Hourly"
   ]
  },
  {
   "cell_type": "code",
   "execution_count": 15,
   "id": "58e6c8c6-5c41-48c1-a079-aae4208039ee",
   "metadata": {
    "tags": []
   },
   "outputs": [],
   "source": [
    "grid_tbl['hour'] = aptimes.hour"
   ]
  },
  {
   "cell_type": "code",
   "execution_count": 16,
   "id": "edb1138f-dbd1-4139-bd7d-4e0d73d73557",
   "metadata": {
    "tags": []
   },
   "outputs": [
    {
     "data": {
      "text/plain": [
       "<Axes: xlabel='hour', ylabel='Count'>"
      ]
     },
     "execution_count": 16,
     "metadata": {},
     "output_type": "execute_result"
    },
    {
     "data": {
      "image/png": "[encoded data removed]",
      "text/plain": [
       "<Figure size 640x480 with 1 Axes>"
      ]
     },
     "metadata": {},
     "output_type": "display_data"
    }
   ],
   "source": [
    "sns.histplot(grid_tbl[SO_cut], x='hour', color='g',bins=24)"
   ]
  },
  {
   "cell_type": "code",
   "execution_count": null,
   "id": "855f13f2-2a18-44b6-a473-f95ded5a68a9",
   "metadata": {},
   "outputs": [],
   "source": []
  }
 ],
 "metadata": {
  "kernelspec": {
   "display_name": "Python 3 (ipykernel)",
   "language": "python",
   "name": "python3"
  },
  "language_info": {
   "codemirror_mode": {
    "name": "ipython",
    "version": 3
   },
   "file_extension": ".py",
   "mimetype": "text/x-python",
   "name": "python",
   "nbconvert_exporter": "python",
   "pygments_lexer": "ipython3",
   "version": "3.10.9"
  }
 },
 "nbformat": 4,
 "nbformat_minor": 5
}
