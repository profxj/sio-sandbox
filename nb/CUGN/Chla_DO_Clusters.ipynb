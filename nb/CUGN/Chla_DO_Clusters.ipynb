{
 "cells": [
  {
   "cell_type": "markdown",
   "id": "91dcd762-2130-4a10-ad36-acbe91f1a3f1",
   "metadata": {},
   "source": [
    "# Explore Chla in DO Outlier Clusters"
   ]
  },
  {
   "cell_type": "code",
   "execution_count": 1,
   "id": "21abb4d8-aac7-4a9d-933e-a9186d875cc5",
   "metadata": {
    "tags": []
   },
   "outputs": [],
   "source": [
    "# imports\n",
    "from importlib import reload\n",
    "\n",
    "import numpy as np\n",
    "\n",
    "import pandas\n",
    "\n",
    "from matplotlib import pyplot as plt\n",
    "import matplotlib as mpl\n",
    "import matplotlib.gridspec as gridspec\n",
    "\n",
    "import seaborn as sns\n",
    "\n",
    "from siosandbox.cugn import clusters\n",
    "from siosandbox.cugn import grid_utils"
   ]
  },
  {
   "cell_type": "markdown",
   "id": "12800345-4c09-4f9b-8fbf-c9009dd18c3f",
   "metadata": {},
   "source": [
    "# Load"
   ]
  },
  {
   "cell_type": "code",
   "execution_count": 2,
   "id": "fc6733be-fd5d-4b6b-8193-054c1661fea8",
   "metadata": {
    "tags": []
   },
   "outputs": [],
   "source": [
    "line = '90'\n",
    "perc = 98."
   ]
  },
  {
   "cell_type": "code",
   "execution_count": 3,
   "id": "efb34b8c-88c2-44be-b043-ad9e978fa8da",
   "metadata": {
    "tags": []
   },
   "outputs": [
    {
     "name": "stdout",
     "output_type": "stream",
     "text": [
      "Found 386 unique clusters\n"
     ]
    }
   ],
   "source": [
    "grid_outliers, grid_tbl, ds = grid_utils.gen_outliers(line, perc)\n",
    "clusters.generate_clusters(grid_outliers)"
   ]
  },
  {
   "cell_type": "markdown",
   "id": "06cde3ae-184c-4f54-8b9a-7c398c2cc28a",
   "metadata": {
    "tags": []
   },
   "source": [
    "## Fill"
   ]
  },
  {
   "cell_type": "code",
   "execution_count": 10,
   "id": "fcfe6ef3-e1cd-4f8e-bdf0-126018de553e",
   "metadata": {
    "tags": []
   },
   "outputs": [],
   "source": [
    "grid_utils.fill_in_grid(grid_tbl, ds)"
   ]
  },
  {
   "cell_type": "code",
   "execution_count": 11,
   "id": "84c622f0-0a96-472d-a054-94003c6de3ce",
   "metadata": {
    "tags": []
   },
   "outputs": [
    {
     "data": {
      "text/html": [
       "<div>\n",
       "<style scoped>\n",
       "    .dataframe tbody tr th:only-of-type {\n",
       "        vertical-align: middle;\n",
       "    }\n",
       "\n",
       "    .dataframe tbody tr th {\n",
       "        vertical-align: top;\n",
       "    }\n",
       "\n",
       "    .dataframe thead th {\n",
       "        text-align: right;\n",
       "    }\n",
       "</style>\n",
       "<table border=\"1\" class=\"dataframe\">\n",
       "  <thead>\n",
       "    <tr style=\"text-align: right;\">\n",
       "      <th></th>\n",
       "      <th>depth</th>\n",
       "      <th>profile</th>\n",
       "      <th>row</th>\n",
       "      <th>col</th>\n",
       "      <th>doxy</th>\n",
       "      <th>doxy_p</th>\n",
       "      <th>time</th>\n",
       "      <th>lon</th>\n",
       "      <th>z</th>\n",
       "      <th>CT</th>\n",
       "      <th>SA</th>\n",
       "      <th>sigma0</th>\n",
       "      <th>SO</th>\n",
       "      <th>chla</th>\n",
       "    </tr>\n",
       "  </thead>\n",
       "  <tbody>\n",
       "    <tr>\n",
       "      <th>0</th>\n",
       "      <td>0</td>\n",
       "      <td>32173</td>\n",
       "      <td>17</td>\n",
       "      <td>16</td>\n",
       "      <td>252.912731</td>\n",
       "      <td>88.939052</td>\n",
       "      <td>2016-12-14 19:52:21</td>\n",
       "      <td>-117.460120</td>\n",
       "      <td>10</td>\n",
       "      <td>16.249462</td>\n",
       "      <td>33.523891</td>\n",
       "      <td>24.446819</td>\n",
       "      <td>1.033524</td>\n",
       "      <td>0.169041</td>\n",
       "    </tr>\n",
       "    <tr>\n",
       "      <th>1</th>\n",
       "      <td>0</td>\n",
       "      <td>32174</td>\n",
       "      <td>17</td>\n",
       "      <td>16</td>\n",
       "      <td>252.951126</td>\n",
       "      <td>89.164786</td>\n",
       "      <td>2016-12-14 20:47:19</td>\n",
       "      <td>-117.463420</td>\n",
       "      <td>10</td>\n",
       "      <td>16.214990</td>\n",
       "      <td>33.522302</td>\n",
       "      <td>24.453442</td>\n",
       "      <td>1.032982</td>\n",
       "      <td>0.176322</td>\n",
       "    </tr>\n",
       "    <tr>\n",
       "      <th>2</th>\n",
       "      <td>0</td>\n",
       "      <td>32175</td>\n",
       "      <td>17</td>\n",
       "      <td>17</td>\n",
       "      <td>253.346587</td>\n",
       "      <td>80.334728</td>\n",
       "      <td>2016-12-14 21:38:13</td>\n",
       "      <td>-117.465688</td>\n",
       "      <td>10</td>\n",
       "      <td>16.158025</td>\n",
       "      <td>33.511012</td>\n",
       "      <td>24.457791</td>\n",
       "      <td>1.033375</td>\n",
       "      <td>0.252030</td>\n",
       "    </tr>\n",
       "    <tr>\n",
       "      <th>3</th>\n",
       "      <td>0</td>\n",
       "      <td>32176</td>\n",
       "      <td>17</td>\n",
       "      <td>17</td>\n",
       "      <td>254.551252</td>\n",
       "      <td>86.192469</td>\n",
       "      <td>2016-12-14 22:50:08</td>\n",
       "      <td>-117.471270</td>\n",
       "      <td>10</td>\n",
       "      <td>16.057278</td>\n",
       "      <td>33.502061</td>\n",
       "      <td>24.473762</td>\n",
       "      <td>1.036203</td>\n",
       "      <td>0.431141</td>\n",
       "    </tr>\n",
       "    <tr>\n",
       "      <th>4</th>\n",
       "      <td>0</td>\n",
       "      <td>32177</td>\n",
       "      <td>17</td>\n",
       "      <td>16</td>\n",
       "      <td>251.471860</td>\n",
       "      <td>85.101580</td>\n",
       "      <td>2016-12-15 00:11:51</td>\n",
       "      <td>-117.477442</td>\n",
       "      <td>10</td>\n",
       "      <td>16.372075</td>\n",
       "      <td>33.522704</td>\n",
       "      <td>24.417984</td>\n",
       "      <td>1.030055</td>\n",
       "      <td>0.267575</td>\n",
       "    </tr>\n",
       "  </tbody>\n",
       "</table>\n",
       "</div>"
      ],
      "text/plain": [
       "   depth  profile  row  col        doxy     doxy_p                time  \\\n",
       "0      0    32173   17   16  252.912731  88.939052 2016-12-14 19:52:21   \n",
       "1      0    32174   17   16  252.951126  89.164786 2016-12-14 20:47:19   \n",
       "2      0    32175   17   17  253.346587  80.334728 2016-12-14 21:38:13   \n",
       "3      0    32176   17   17  254.551252  86.192469 2016-12-14 22:50:08   \n",
       "4      0    32177   17   16  251.471860  85.101580 2016-12-15 00:11:51   \n",
       "\n",
       "          lon   z         CT         SA     sigma0        SO      chla  \n",
       "0 -117.460120  10  16.249462  33.523891  24.446819  1.033524  0.169041  \n",
       "1 -117.463420  10  16.214990  33.522302  24.453442  1.032982  0.176322  \n",
       "2 -117.465688  10  16.158025  33.511012  24.457791  1.033375  0.252030  \n",
       "3 -117.471270  10  16.057278  33.502061  24.473762  1.036203  0.431141  \n",
       "4 -117.477442  10  16.372075  33.522704  24.417984  1.030055  0.267575  "
      ]
     },
     "execution_count": 11,
     "metadata": {},
     "output_type": "execute_result"
    }
   ],
   "source": [
    "grid_tbl.head()"
   ]
  },
  {
   "cell_type": "markdown",
   "id": "33a3c066-4fdc-45ab-a461-bde69c3aa028",
   "metadata": {},
   "source": [
    "# Stats"
   ]
  },
  {
   "cell_type": "markdown",
   "id": "e6e6dca1-40c0-4ee4-babb-af116bf2bc44",
   "metadata": {
    "tags": []
   },
   "source": [
    "## Cluster stats"
   ]
  },
  {
   "cell_type": "code",
   "execution_count": 5,
   "id": "944bccac-47a6-48d5-86e3-b3fa35bf6e02",
   "metadata": {
    "tags": []
   },
   "outputs": [],
   "source": [
    "cstats = clusters.cluster_stats(grid_outliers)"
   ]
  },
  {
   "cell_type": "markdown",
   "id": "5fa030ac-afe5-48a8-b4ed-5c60427bf2f6",
   "metadata": {},
   "source": [
    "## Control"
   ]
  },
  {
   "cell_type": "code",
   "execution_count": 39,
   "id": "efb3f621-98df-439e-ba0a-34d84741bdad",
   "metadata": {
    "tags": []
   },
   "outputs": [],
   "source": [
    "cluster_IDs = np.unique(grid_outliers.cluster.values[\n",
    "        grid_outliers.cluster.values >= 0])"
   ]
  },
  {
   "cell_type": "code",
   "execution_count": 45,
   "id": "271bc920-2281-470c-a556-74b8fa3071b9",
   "metadata": {
    "tags": []
   },
   "outputs": [],
   "source": [
    "control_chla = []\n",
    "for cluster_ID in cluster_IDs:\n",
    "    in_cluster = grid_outliers.cluster.values == cluster_ID\n",
    "    #\n",
    "    cluster = grid_outliers[in_cluster]\n",
    "    #\n",
    "    control_vals = grid_utils.grab_control_values(cluster, grid_tbl, 'chla')\n",
    "    # \n",
    "    control_chla.append(np.nanmean(control_vals))\n",
    "#\n",
    "control_chla = np.array(control_chla)"
   ]
  },
  {
   "cell_type": "markdown",
   "id": "f8e5c2b0-88fc-4868-bf3c-0b5f75c8ca59",
   "metadata": {},
   "source": [
    "# Plot"
   ]
  },
  {
   "cell_type": "code",
   "execution_count": 46,
   "id": "ffe63063-e053-4bca-88e9-ac0338273ff8",
   "metadata": {
    "tags": []
   },
   "outputs": [],
   "source": [
    "pchla = (cstats.chla - control_chla) / control_chla"
   ]
  },
  {
   "cell_type": "code",
   "execution_count": 53,
   "id": "c8489a5b-2f93-4afd-84ad-229b6cefd846",
   "metadata": {
    "tags": []
   },
   "outputs": [
    {
     "data": {
      "text/plain": [
       "z                                    10.0\n",
       "lon                           -117.642911\n",
       "doxy                           273.173536\n",
       "time        2021-04-06 01:54:39.777777664\n",
       "SA                              33.717084\n",
       "CT                              15.369791\n",
       "sigma0                          24.789754\n",
       "SO                               1.098964\n",
       "chla                            10.946043\n",
       "max_doxy                       277.088678\n",
       "max_SO                           1.116593\n",
       "max_chla                        11.865667\n",
       "N                                       9\n",
       "cluster                                25\n",
       "Name: 25, dtype: object"
      ]
     },
     "execution_count": 53,
     "metadata": {},
     "output_type": "execute_result"
    }
   ],
   "source": [
    "imax = np.argmax(pchla)\n",
    "cstats.iloc[imax]"
   ]
  },
  {
   "cell_type": "code",
   "execution_count": 52,
   "id": "afbe847c-562c-40e3-bb96-33207fd9bcd1",
   "metadata": {
    "tags": []
   },
   "outputs": [
    {
     "data": {
      "image/png": "[encoded data removed]",
      "text/plain": [
       "<Figure size 640x480 with 2 Axes>"
      ]
     },
     "metadata": {},
     "output_type": "display_data"
    }
   ],
   "source": [
    "plt.clf()\n",
    "ax = plt.gca()\n",
    "sc = ax.scatter(cstats.doxy, pchla, c=cstats.lon)\n",
    "plt.colorbar(sc)\n",
    "#\n",
    "ax.axhline(0., color='k', ls='--')\n",
    "#\n",
    "ax.set_xlabel('DO')\n",
    "ax.set_ylabel('Chla-<Chla>/<Chla>')\n",
    "#\n",
    "ax.set_xlim(200.,300.)\n",
    "plt.show()"
   ]
  },
  {
   "cell_type": "markdown",
   "id": "f72e04ed-0411-46aa-beb8-8cb6cb22810d",
   "metadata": {},
   "source": [
    "----"
   ]
  },
  {
   "cell_type": "markdown",
   "id": "f965f10a-8a46-4038-9a21-d7f9ba5412be",
   "metadata": {},
   "source": [
    "# Testing"
   ]
  },
  {
   "cell_type": "code",
   "execution_count": 32,
   "id": "1460ffcf-8fd4-4fe9-b4f3-07950e07dfa3",
   "metadata": {
    "tags": []
   },
   "outputs": [
    {
     "data": {
      "text/plain": [
       "864221"
      ]
     },
     "execution_count": 32,
     "metadata": {},
     "output_type": "execute_result"
    }
   ],
   "source": [
    "reload(grid_utils)\n",
    "in_cluster = grid_outliers.cluster.values == 0\n",
    "#\n",
    "test = grid_outliers[in_cluster]\n",
    "#\n",
    "final_vals = grid_utils.grab_control_values(test, grid_tbl, 'chla')\n",
    "final_vals = np.array(final_vals)\n",
    "final_vals.size"
   ]
  },
  {
   "cell_type": "markdown",
   "id": "2132de37-262c-408d-b5d4-b89d47c8b8d8",
   "metadata": {},
   "source": [
    "## Compare"
   ]
  },
  {
   "cell_type": "code",
   "execution_count": 38,
   "id": "bedbbd29-2683-4794-8437-e896c82a4240",
   "metadata": {
    "tags": []
   },
   "outputs": [
    {
     "data": {
      "image/png": "[encoded data removed]",
      "text/plain": [
       "<Figure size 640x480 with 1 Axes>"
      ]
     },
     "metadata": {},
     "output_type": "display_data"
    }
   ],
   "source": [
    "cut = final_vals > 0.\n",
    "plt.clf()\n",
    "ax = plt.gca()\n",
    "#\n",
    "ax.hist(np.log10(final_vals[cut]), bins=30, density=True)\n",
    "ax.hist(np.log10(test.chla), bins=10, density=True, alpha=0.5)\n",
    "#\n",
    "plt.show()"
   ]
  },
  {
   "cell_type": "code",
   "execution_count": null,
   "id": "31f7261c-41d1-4c08-8ada-d2e2ee307f5d",
   "metadata": {},
   "outputs": [],
   "source": []
  }
 ],
 "metadata": {
  "kernelspec": {
   "display_name": "Python 3 (ipykernel)",
   "language": "python",
   "name": "python3"
  },
  "language_info": {
   "codemirror_mode": {
    "name": "ipython",
    "version": 3
   },
   "file_extension": ".py",
   "mimetype": "text/x-python",
   "name": "python",
   "nbconvert_exporter": "python",
   "pygments_lexer": "ipython3",
   "version": "3.10.9"
  }
 },
 "nbformat": 4,
 "nbformat_minor": 5
}
