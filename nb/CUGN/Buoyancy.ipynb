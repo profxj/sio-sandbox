{
 "cells": [
  {
   "cell_type": "markdown",
   "id": "43f21d40-2a16-425c-b1a6-9b44ea676110",
   "metadata": {},
   "source": [
    "# Explore Buoyancy $N$"
   ]
  },
  {
   "cell_type": "code",
   "execution_count": 1,
   "id": "c3559386-3563-4416-9caa-518d225e51d8",
   "metadata": {
    "tags": []
   },
   "outputs": [],
   "source": [
    "# imports\n",
    "from importlib import reload\n",
    "\n",
    "import numpy as np\n",
    "\n",
    "import pandas\n",
    "\n",
    "from matplotlib import pyplot as plt\n",
    "import matplotlib as mpl\n",
    "import matplotlib.gridspec as gridspec\n",
    "\n",
    "import seaborn as sns\n",
    "\n",
    "from siosandbox.cugn import clusters\n",
    "from siosandbox.cugn import grid_utils"
   ]
  },
  {
   "cell_type": "markdown",
   "id": "6b254618-7aec-4a3d-99d0-41501e83cb4a",
   "metadata": {},
   "source": [
    "# Load up"
   ]
  },
  {
   "cell_type": "code",
   "execution_count": 2,
   "id": "8475790e-cf56-4c19-9cc1-8c7d5b09d468",
   "metadata": {
    "tags": []
   },
   "outputs": [],
   "source": [
    "line = '90'\n",
    "perc = 98."
   ]
  },
  {
   "cell_type": "code",
   "execution_count": 4,
   "id": "8ea2a382-1e3c-4327-aa5a-73bf86a94ff6",
   "metadata": {
    "tags": []
   },
   "outputs": [
    {
     "name": "stdout",
     "output_type": "stream",
     "text": [
      "Found 386 unique clusters\n"
     ]
    }
   ],
   "source": [
    "grid_outliers, grid_tbl, ds = grid_utils.gen_outliers(line, perc)\n",
    "clusters.generate_clusters(grid_outliers)"
   ]
  },
  {
   "cell_type": "markdown",
   "id": "757ee267-b5f8-4e85-84ff-7d368a1223ee",
   "metadata": {},
   "source": [
    "## Fill"
   ]
  },
  {
   "cell_type": "code",
   "execution_count": 5,
   "id": "46c2e262-a42c-4d3e-9ce7-42fd25d59a4a",
   "metadata": {
    "tags": []
   },
   "outputs": [],
   "source": [
    "grid_utils.fill_in_grid(grid_tbl, ds)"
   ]
  },
  {
   "cell_type": "markdown",
   "id": "314bf2fb-6f4b-430f-b42c-bb68d4ea2ba8",
   "metadata": {},
   "source": [
    "## Stats"
   ]
  },
  {
   "cell_type": "code",
   "execution_count": 7,
   "id": "c9eded9c-6f62-4a00-8b98-9fc1026fdbbd",
   "metadata": {
    "tags": []
   },
   "outputs": [],
   "source": [
    "cstats = clusters.cluster_stats(grid_outliers)"
   ]
  },
  {
   "cell_type": "markdown",
   "id": "0114e239-2a22-4089-a6f0-673e6d7e6242",
   "metadata": {},
   "source": [
    "# Explore"
   ]
  },
  {
   "cell_type": "markdown",
   "id": "cdcfbca8-a839-459c-b8ae-69a3a09dfcc5",
   "metadata": {},
   "source": [
    "## Max SO > 1"
   ]
  },
  {
   "cell_type": "code",
   "execution_count": 8,
   "id": "66d1ab07-affb-4057-ad83-89ee7d4c9c62",
   "metadata": {
    "tags": []
   },
   "outputs": [],
   "source": [
    "sogt1 = cstats.max_SO > 1."
   ]
  },
  {
   "cell_type": "markdown",
   "id": "f5cfc728-ef5a-492b-a638-722408418700",
   "metadata": {},
   "source": [
    "### Cut"
   ]
  },
  {
   "cell_type": "code",
   "execution_count": 11,
   "id": "7ef0a77e-20c5-4c19-a123-58366ab50d23",
   "metadata": {
    "tags": []
   },
   "outputs": [],
   "source": [
    "keep = np.zeros(len(grid_outliers), dtype=bool)\n",
    "for cluster_ID in np.where(sogt1)[0]:\n",
    "    keep[grid_outliers.cluster.values == cluster_ID] = True\n",
    "sogt1_outliers = grid_outliers[keep].copy()"
   ]
  },
  {
   "cell_type": "code",
   "execution_count": 12,
   "id": "6e2e10c1-d1fc-4c4b-9c94-ea87a1e640e2",
   "metadata": {
    "tags": []
   },
   "outputs": [
    {
     "data": {
      "text/html": [
       "<div>\n",
       "<style scoped>\n",
       "    .dataframe tbody tr th:only-of-type {\n",
       "        vertical-align: middle;\n",
       "    }\n",
       "\n",
       "    .dataframe tbody tr th {\n",
       "        vertical-align: top;\n",
       "    }\n",
       "\n",
       "    .dataframe thead th {\n",
       "        text-align: right;\n",
       "    }\n",
       "</style>\n",
       "<table border=\"1\" class=\"dataframe\">\n",
       "  <thead>\n",
       "    <tr style=\"text-align: right;\">\n",
       "      <th></th>\n",
       "      <th>depth</th>\n",
       "      <th>profile</th>\n",
       "      <th>row</th>\n",
       "      <th>col</th>\n",
       "      <th>doxy</th>\n",
       "      <th>doxy_p</th>\n",
       "      <th>time</th>\n",
       "      <th>lon</th>\n",
       "      <th>z</th>\n",
       "      <th>CT</th>\n",
       "      <th>SA</th>\n",
       "      <th>sigma0</th>\n",
       "      <th>SO</th>\n",
       "      <th>N</th>\n",
       "      <th>chla</th>\n",
       "      <th>cluster</th>\n",
       "    </tr>\n",
       "  </thead>\n",
       "  <tbody>\n",
       "    <tr>\n",
       "      <th>782</th>\n",
       "      <td>0</td>\n",
       "      <td>32958</td>\n",
       "      <td>15</td>\n",
       "      <td>18</td>\n",
       "      <td>277.438868</td>\n",
       "      <td>99.488491</td>\n",
       "      <td>2017-03-14 02:17:03</td>\n",
       "      <td>-118.227115</td>\n",
       "      <td>10</td>\n",
       "      <td>15.488374</td>\n",
       "      <td>33.434623</td>\n",
       "      <td>24.549290</td>\n",
       "      <td>1.116404</td>\n",
       "      <td>7.360446</td>\n",
       "      <td>0.285907</td>\n",
       "      <td>0</td>\n",
       "    </tr>\n",
       "    <tr>\n",
       "      <th>783</th>\n",
       "      <td>0</td>\n",
       "      <td>32959</td>\n",
       "      <td>15</td>\n",
       "      <td>18</td>\n",
       "      <td>276.052619</td>\n",
       "      <td>98.976982</td>\n",
       "      <td>2017-03-14 03:41:20</td>\n",
       "      <td>-118.217615</td>\n",
       "      <td>10</td>\n",
       "      <td>15.243413</td>\n",
       "      <td>33.434927</td>\n",
       "      <td>24.603163</td>\n",
       "      <td>1.105516</td>\n",
       "      <td>6.704290</td>\n",
       "      <td>0.271055</td>\n",
       "      <td>0</td>\n",
       "    </tr>\n",
       "    <tr>\n",
       "      <th>788</th>\n",
       "      <td>0</td>\n",
       "      <td>32964</td>\n",
       "      <td>15</td>\n",
       "      <td>19</td>\n",
       "      <td>298.647665</td>\n",
       "      <td>99.616858</td>\n",
       "      <td>2017-03-14 15:53:33</td>\n",
       "      <td>-118.129770</td>\n",
       "      <td>10</td>\n",
       "      <td>14.946715</td>\n",
       "      <td>33.443485</td>\n",
       "      <td>24.673905</td>\n",
       "      <td>1.189120</td>\n",
       "      <td>7.679979</td>\n",
       "      <td>0.324720</td>\n",
       "      <td>0</td>\n",
       "    </tr>\n",
       "    <tr>\n",
       "      <th>789</th>\n",
       "      <td>0</td>\n",
       "      <td>32965</td>\n",
       "      <td>13</td>\n",
       "      <td>19</td>\n",
       "      <td>292.036344</td>\n",
       "      <td>99.696970</td>\n",
       "      <td>2017-03-14 18:54:13</td>\n",
       "      <td>-118.106223</td>\n",
       "      <td>10</td>\n",
       "      <td>14.787911</td>\n",
       "      <td>33.351972</td>\n",
       "      <td>24.638233</td>\n",
       "      <td>1.158375</td>\n",
       "      <td>13.925959</td>\n",
       "      <td>0.397494</td>\n",
       "      <td>0</td>\n",
       "    </tr>\n",
       "    <tr>\n",
       "      <th>790</th>\n",
       "      <td>0</td>\n",
       "      <td>32966</td>\n",
       "      <td>13</td>\n",
       "      <td>17</td>\n",
       "      <td>309.040496</td>\n",
       "      <td>99.794239</td>\n",
       "      <td>2017-03-14 21:51:29</td>\n",
       "      <td>-118.080510</td>\n",
       "      <td>10</td>\n",
       "      <td>15.265308</td>\n",
       "      <td>33.331187</td>\n",
       "      <td>24.519477</td>\n",
       "      <td>1.237211</td>\n",
       "      <td>13.226413</td>\n",
       "      <td>0.369575</td>\n",
       "      <td>0</td>\n",
       "    </tr>\n",
       "  </tbody>\n",
       "</table>\n",
       "</div>"
      ],
      "text/plain": [
       "     depth  profile  row  col        doxy     doxy_p                time  \\\n",
       "782      0    32958   15   18  277.438868  99.488491 2017-03-14 02:17:03   \n",
       "783      0    32959   15   18  276.052619  98.976982 2017-03-14 03:41:20   \n",
       "788      0    32964   15   19  298.647665  99.616858 2017-03-14 15:53:33   \n",
       "789      0    32965   13   19  292.036344  99.696970 2017-03-14 18:54:13   \n",
       "790      0    32966   13   17  309.040496  99.794239 2017-03-14 21:51:29   \n",
       "\n",
       "            lon   z         CT         SA     sigma0        SO          N  \\\n",
       "782 -118.227115  10  15.488374  33.434623  24.549290  1.116404   7.360446   \n",
       "783 -118.217615  10  15.243413  33.434927  24.603163  1.105516   6.704290   \n",
       "788 -118.129770  10  14.946715  33.443485  24.673905  1.189120   7.679979   \n",
       "789 -118.106223  10  14.787911  33.351972  24.638233  1.158375  13.925959   \n",
       "790 -118.080510  10  15.265308  33.331187  24.519477  1.237211  13.226413   \n",
       "\n",
       "         chla  cluster  \n",
       "782  0.285907        0  \n",
       "783  0.271055        0  \n",
       "788  0.324720        0  \n",
       "789  0.397494        0  \n",
       "790  0.369575        0  "
      ]
     },
     "execution_count": 12,
     "metadata": {},
     "output_type": "execute_result"
    }
   ],
   "source": [
    "sogt1_outliers.head()"
   ]
  },
  {
   "cell_type": "markdown",
   "id": "1231f02c-36a5-422c-9cce-97a7b32dc127",
   "metadata": {},
   "source": [
    "### Control"
   ]
  },
  {
   "cell_type": "code",
   "execution_count": 13,
   "id": "3975a5ab-e518-4a00-82fd-90a77d6955e9",
   "metadata": {
    "tags": []
   },
   "outputs": [],
   "source": [
    "sogt1_control = np.array( grid_utils.grab_control_values(sogt1_outliers, grid_tbl, 'N'))"
   ]
  },
  {
   "cell_type": "code",
   "execution_count": 32,
   "id": "e060197b-d22a-459f-b454-50f93ea45851",
   "metadata": {
    "tags": []
   },
   "outputs": [],
   "source": [
    "srt_control = np.sort(sogt1_control[np.isfinite(sogt1_control)])\n",
    "y_cdf = np.arange(srt_control.size)/srt_control.size"
   ]
  },
  {
   "cell_type": "markdown",
   "id": "eff63051-5a19-4d12-b4c4-ed21b5601e07",
   "metadata": {},
   "source": [
    "### CDF"
   ]
  },
  {
   "cell_type": "code",
   "execution_count": 33,
   "id": "388fa080-1e80-4d81-9453-f464c6d26442",
   "metadata": {
    "tags": []
   },
   "outputs": [
    {
     "data": {
      "image/png": "[encoded data removed]",
      "text/plain": [
       "<Figure size 640x480 with 1 Axes>"
      ]
     },
     "metadata": {},
     "output_type": "display_data"
    }
   ],
   "source": [
    "plt.clf()\n",
    "ax = plt.gca()\n",
    "\n",
    "# Clusters\n",
    "sns.ecdfplot(x=sogt1_outliers.N, ax=ax, label='Clusters')\n",
    "#sns.ecdfplot(x=sogt1_control, ax=ax, label='Control')\n",
    "ax.plot(srt_control[::50], y_cdf[::50], label='Control', color='r')\n",
    "\n",
    "ax.legend()\n",
    "plt.show()"
   ]
  },
  {
   "cell_type": "markdown",
   "id": "0b8b0d1b-1534-4954-8bc8-4da2b00e6bb1",
   "metadata": {},
   "source": [
    "# But is $N$ highest in the upper 50m?"
   ]
  },
  {
   "cell_type": "code",
   "execution_count": 68,
   "id": "95e84b84-5c3e-43d7-b358-466f456ba2a3",
   "metadata": {
    "tags": []
   },
   "outputs": [
    {
     "data": {
      "text/plain": [
       "<Axes: xlabel='z', ylabel='Count'>"
      ]
     },
     "execution_count": 68,
     "metadata": {},
     "output_type": "execute_result"
    },
    {
     "data": {
      "image/png": "[encoded data removed]",
      "text/plain": [
       "<Figure size 640x480 with 1 Axes>"
      ]
     },
     "metadata": {},
     "output_type": "display_data"
    }
   ],
   "source": [
    "sns.histplot(sogt1_outliers, x='z',bins=20)"
   ]
  },
  {
   "cell_type": "markdown",
   "id": "5ea869f5-faea-4e6d-a180-4ce05043a801",
   "metadata": {},
   "source": [
    "## Restrict control to $z<30$ and lon>-119."
   ]
  },
  {
   "cell_type": "code",
   "execution_count": 79,
   "id": "85d13c63-7cff-421f-8fc3-cc3c7c14da71",
   "metadata": {
    "tags": []
   },
   "outputs": [],
   "source": [
    "shallow = (grid_tbl.z < 30.) & (grid_tbl.lon > -119.)"
   ]
  },
  {
   "cell_type": "code",
   "execution_count": 80,
   "id": "e2342926-6e31-41e7-a952-41d5e0c4a83a",
   "metadata": {
    "tags": []
   },
   "outputs": [],
   "source": [
    "reload(grid_utils)\n",
    "sogt1_shallow_control = np.array( grid_utils.grab_control_values(sogt1_outliers, grid_tbl[shallow], 'N'))"
   ]
  },
  {
   "cell_type": "code",
   "execution_count": 81,
   "id": "534ec3ea-5736-406a-a23a-bb7db1acddb0",
   "metadata": {
    "tags": []
   },
   "outputs": [],
   "source": [
    "srt_shallow_control = np.sort(sogt1_shallow_control[np.isfinite(sogt1_shallow_control)])\n",
    "y_cdf2 = np.arange(srt_shallow_control.size)/srt_shallow_control.size"
   ]
  },
  {
   "cell_type": "code",
   "execution_count": 82,
   "id": "4dcf640f-af6b-486e-939e-8e465bc15027",
   "metadata": {
    "tags": []
   },
   "outputs": [],
   "source": [
    "inshore = sogt1_outliers.lon > -119."
   ]
  },
  {
   "cell_type": "code",
   "execution_count": null,
   "id": "12c1c7cc-a5dd-44fd-ad96-37204d841486",
   "metadata": {},
   "outputs": [],
   "source": [
    "h"
   ]
  },
  {
   "cell_type": "code",
   "execution_count": 83,
   "id": "6e63c2c5-85e2-4bf7-bca1-d0b9f98e1b66",
   "metadata": {
    "tags": []
   },
   "outputs": [
    {
     "data": {
      "image/png": "[encoded data removed]",
      "text/plain": [
       "<Figure size 640x480 with 1 Axes>"
      ]
     },
     "metadata": {},
     "output_type": "display_data"
    }
   ],
   "source": [
    "plt.clf()\n",
    "ax = plt.gca()\n",
    "\n",
    "# Clusters\n",
    "sns.ecdfplot(x=sogt1_outliers.N, ax=ax, label='All Clusters')\n",
    "sns.ecdfplot(x=sogt1_outliers[inshore].N, ax=ax, label='Inshore Clusters')\n",
    "#sns.ecdfplot(x=sogt1_control, ax=ax, label='Control')\n",
    "ax.plot(srt_control[::50], y_cdf[::50], label='Control', color='r')\n",
    "ax.plot(srt_shallow_control[::50], y_cdf2[::50], label='Shallow+Inshore Control', color='pink')\n",
    "\n",
    "#\n",
    "ax.set_xlabel('Buoyancy frequency (cycles/hr)')\n",
    "\n",
    "ax.legend()\n",
    "plt.show()"
   ]
  },
  {
   "cell_type": "markdown",
   "id": "dfead6f7-12a2-4569-93d7-d2495daeb31b",
   "metadata": {
    "tags": []
   },
   "source": [
    "----"
   ]
  },
  {
   "cell_type": "markdown",
   "id": "0f4185d0-db91-453e-9d18-5195a89e5227",
   "metadata": {
    "tags": []
   },
   "source": [
    "\n",
    "# Calculate $N$"
   ]
  },
  {
   "cell_type": "code",
   "execution_count": 4,
   "id": "ab6eaa4e-0804-44af-89bd-8d3004f3a325",
   "metadata": {
    "tags": []
   },
   "outputs": [
    {
     "data": {
      "text/html": [
       "<div><svg style=\"position: absolute; width: 0; height: 0; overflow: hidden\">\n",
       "<defs>\n",
       "<symbol id=\"icon-database\" viewBox=\"0 0 32 32\">\n",
       "<path d=\"M16 0c-8.837 0-16 2.239-16 5v4c0 2.761 7.163 5 16 5s16-2.239 16-5v-4c0-2.761-7.163-5-16-5z\"></path>\n",
       "<path d=\"M16 17c-8.837 0-16-2.239-16-5v6c0 2.761 7.163 5 16 5s16-2.239 16-5v-6c0 2.761-7.163 5-16 5z\"></path>\n",
       "<path d=\"M16 26c-8.837 0-16-2.239-16-5v6c0 2.761 7.163 5 16 5s16-2.239 16-5v-6c0 2.761-7.163 5-16 5z\"></path>\n",
       "</symbol>\n",
       "<symbol id=\"icon-file-text2\" viewBox=\"0 0 32 32\">\n",
       "<path d=\"M28.681 7.159c-0.694-0.947-1.662-2.053-2.724-3.116s-2.169-2.030-3.116-2.724c-1.612-1.182-2.393-1.319-2.841-1.319h-15.5c-1.378 0-2.5 1.121-2.5 2.5v27c0 1.378 1.122 2.5 2.5 2.5h23c1.378 0 2.5-1.122 2.5-2.5v-19.5c0-0.448-0.137-1.23-1.319-2.841zM24.543 5.457c0.959 0.959 1.712 1.825 2.268 2.543h-4.811v-4.811c0.718 0.556 1.584 1.309 2.543 2.268zM28 29.5c0 0.271-0.229 0.5-0.5 0.5h-23c-0.271 0-0.5-0.229-0.5-0.5v-27c0-0.271 0.229-0.5 0.5-0.5 0 0 15.499-0 15.5 0v7c0 0.552 0.448 1 1 1h7v19.5z\"></path>\n",
       "<path d=\"M23 26h-14c-0.552 0-1-0.448-1-1s0.448-1 1-1h14c0.552 0 1 0.448 1 1s-0.448 1-1 1z\"></path>\n",
       "<path d=\"M23 22h-14c-0.552 0-1-0.448-1-1s0.448-1 1-1h14c0.552 0 1 0.448 1 1s-0.448 1-1 1z\"></path>\n",
       "<path d=\"M23 18h-14c-0.552 0-1-0.448-1-1s0.448-1 1-1h14c0.552 0 1 0.448 1 1s-0.448 1-1 1z\"></path>\n",
       "</symbol>\n",
       "</defs>\n",
       "</svg>\n",
       "<style>/* CSS stylesheet for displaying xarray objects in jupyterlab.\n",
       " *\n",
       " */\n",
       "\n",
       ":root {\n",
       "  --xr-font-color0: var(--jp-content-font-color0, rgba(0, 0, 0, 1));\n",
       "  --xr-font-color2: var(--jp-content-font-color2, rgba(0, 0, 0, 0.54));\n",
       "  --xr-font-color3: var(--jp-content-font-color3, rgba(0, 0, 0, 0.38));\n",
       "  --xr-border-color: var(--jp-border-color2, #e0e0e0);\n",
       "  --xr-disabled-color: var(--jp-layout-color3, #bdbdbd);\n",
       "  --xr-background-color: var(--jp-layout-color0, white);\n",
       "  --xr-background-color-row-even: var(--jp-layout-color1, white);\n",
       "  --xr-background-color-row-odd: var(--jp-layout-color2, #eeeeee);\n",
       "}\n",
       "\n",
       "html[theme=dark],\n",
       "body[data-theme=dark],\n",
       "body.vscode-dark {\n",
       "  --xr-font-color0: rgba(255, 255, 255, 1);\n",
       "  --xr-font-color2: rgba(255, 255, 255, 0.54);\n",
       "  --xr-font-color3: rgba(255, 255, 255, 0.38);\n",
       "  --xr-border-color: #1F1F1F;\n",
       "  --xr-disabled-color: #515151;\n",
       "  --xr-background-color: #111111;\n",
       "  --xr-background-color-row-even: #111111;\n",
       "  --xr-background-color-row-odd: #313131;\n",
       "}\n",
       "\n",
       ".xr-wrap {\n",
       "  display: block !important;\n",
       "  min-width: 300px;\n",
       "  max-width: 700px;\n",
       "}\n",
       "\n",
       ".xr-text-repr-fallback {\n",
       "  /* fallback to plain text repr when CSS is not injected (untrusted notebook) */\n",
       "  display: none;\n",
       "}\n",
       "\n",
       ".xr-header {\n",
       "  padding-top: 6px;\n",
       "  padding-bottom: 6px;\n",
       "  margin-bottom: 4px;\n",
       "  border-bottom: solid 1px var(--xr-border-color);\n",
       "}\n",
       "\n",
       ".xr-header > div,\n",
       ".xr-header > ul {\n",
       "  display: inline;\n",
       "  margin-top: 0;\n",
       "  margin-bottom: 0;\n",
       "}\n",
       "\n",
       ".xr-obj-type,\n",
       ".xr-array-name {\n",
       "  margin-left: 2px;\n",
       "  margin-right: 10px;\n",
       "}\n",
       "\n",
       ".xr-obj-type {\n",
       "  color: var(--xr-font-color2);\n",
       "}\n",
       "\n",
       ".xr-sections {\n",
       "  padding-left: 0 !important;\n",
       "  display: grid;\n",
       "  grid-template-columns: 150px auto auto 1fr 20px 20px;\n",
       "}\n",
       "\n",
       ".xr-section-item {\n",
       "  display: contents;\n",
       "}\n",
       "\n",
       ".xr-section-item input {\n",
       "  display: none;\n",
       "}\n",
       "\n",
       ".xr-section-item input + label {\n",
       "  color: var(--xr-disabled-color);\n",
       "}\n",
       "\n",
       ".xr-section-item input:enabled + label {\n",
       "  cursor: pointer;\n",
       "  color: var(--xr-font-color2);\n",
       "}\n",
       "\n",
       ".xr-section-item input:enabled + label:hover {\n",
       "  color: var(--xr-font-color0);\n",
       "}\n",
       "\n",
       ".xr-section-summary {\n",
       "  grid-column: 1;\n",
       "  color: var(--xr-font-color2);\n",
       "  font-weight: 500;\n",
       "}\n",
       "\n",
       ".xr-section-summary > span {\n",
       "  display: inline-block;\n",
       "  padding-left: 0.5em;\n",
       "}\n",
       "\n",
       ".xr-section-summary-in:disabled + label {\n",
       "  color: var(--xr-font-color2);\n",
       "}\n",
       "\n",
       ".xr-section-summary-in + label:before {\n",
       "  display: inline-block;\n",
       "  content: '►';\n",
       "  font-size: 11px;\n",
       "  width: 15px;\n",
       "  text-align: center;\n",
       "}\n",
       "\n",
       ".xr-section-summary-in:disabled + label:before {\n",
       "  color: var(--xr-disabled-color);\n",
       "}\n",
       "\n",
       ".xr-section-summary-in:checked + label:before {\n",
       "  content: '▼';\n",
       "}\n",
       "\n",
       ".xr-section-summary-in:checked + label > span {\n",
       "  display: none;\n",
       "}\n",
       "\n",
       ".xr-section-summary,\n",
       ".xr-section-inline-details {\n",
       "  padding-top: 4px;\n",
       "  padding-bottom: 4px;\n",
       "}\n",
       "\n",
       ".xr-section-inline-details {\n",
       "  grid-column: 2 / -1;\n",
       "}\n",
       "\n",
       ".xr-section-details {\n",
       "  display: none;\n",
       "  grid-column: 1 / -1;\n",
       "  margin-bottom: 5px;\n",
       "}\n",
       "\n",
       ".xr-section-summary-in:checked ~ .xr-section-details {\n",
       "  display: contents;\n",
       "}\n",
       "\n",
       ".xr-array-wrap {\n",
       "  grid-column: 1 / -1;\n",
       "  display: grid;\n",
       "  grid-template-columns: 20px auto;\n",
       "}\n",
       "\n",
       ".xr-array-wrap > label {\n",
       "  grid-column: 1;\n",
       "  vertical-align: top;\n",
       "}\n",
       "\n",
       ".xr-preview {\n",
       "  color: var(--xr-font-color3);\n",
       "}\n",
       "\n",
       ".xr-array-preview,\n",
       ".xr-array-data {\n",
       "  padding: 0 5px !important;\n",
       "  grid-column: 2;\n",
       "}\n",
       "\n",
       ".xr-array-data,\n",
       ".xr-array-in:checked ~ .xr-array-preview {\n",
       "  display: none;\n",
       "}\n",
       "\n",
       ".xr-array-in:checked ~ .xr-array-data,\n",
       ".xr-array-preview {\n",
       "  display: inline-block;\n",
       "}\n",
       "\n",
       ".xr-dim-list {\n",
       "  display: inline-block !important;\n",
       "  list-style: none;\n",
       "  padding: 0 !important;\n",
       "  margin: 0;\n",
       "}\n",
       "\n",
       ".xr-dim-list li {\n",
       "  display: inline-block;\n",
       "  padding: 0;\n",
       "  margin: 0;\n",
       "}\n",
       "\n",
       ".xr-dim-list:before {\n",
       "  content: '(';\n",
       "}\n",
       "\n",
       ".xr-dim-list:after {\n",
       "  content: ')';\n",
       "}\n",
       "\n",
       ".xr-dim-list li:not(:last-child):after {\n",
       "  content: ',';\n",
       "  padding-right: 5px;\n",
       "}\n",
       "\n",
       ".xr-has-index {\n",
       "  font-weight: bold;\n",
       "}\n",
       "\n",
       ".xr-var-list,\n",
       ".xr-var-item {\n",
       "  display: contents;\n",
       "}\n",
       "\n",
       ".xr-var-item > div,\n",
       ".xr-var-item label,\n",
       ".xr-var-item > .xr-var-name span {\n",
       "  background-color: var(--xr-background-color-row-even);\n",
       "  margin-bottom: 0;\n",
       "}\n",
       "\n",
       ".xr-var-item > .xr-var-name:hover span {\n",
       "  padding-right: 5px;\n",
       "}\n",
       "\n",
       ".xr-var-list > li:nth-child(odd) > div,\n",
       ".xr-var-list > li:nth-child(odd) > label,\n",
       ".xr-var-list > li:nth-child(odd) > .xr-var-name span {\n",
       "  background-color: var(--xr-background-color-row-odd);\n",
       "}\n",
       "\n",
       ".xr-var-name {\n",
       "  grid-column: 1;\n",
       "}\n",
       "\n",
       ".xr-var-dims {\n",
       "  grid-column: 2;\n",
       "}\n",
       "\n",
       ".xr-var-dtype {\n",
       "  grid-column: 3;\n",
       "  text-align: right;\n",
       "  color: var(--xr-font-color2);\n",
       "}\n",
       "\n",
       ".xr-var-preview {\n",
       "  grid-column: 4;\n",
       "}\n",
       "\n",
       ".xr-index-preview {\n",
       "  grid-column: 2 / 5;\n",
       "  color: var(--xr-font-color2);\n",
       "}\n",
       "\n",
       ".xr-var-name,\n",
       ".xr-var-dims,\n",
       ".xr-var-dtype,\n",
       ".xr-preview,\n",
       ".xr-attrs dt {\n",
       "  white-space: nowrap;\n",
       "  overflow: hidden;\n",
       "  text-overflow: ellipsis;\n",
       "  padding-right: 10px;\n",
       "}\n",
       "\n",
       ".xr-var-name:hover,\n",
       ".xr-var-dims:hover,\n",
       ".xr-var-dtype:hover,\n",
       ".xr-attrs dt:hover {\n",
       "  overflow: visible;\n",
       "  width: auto;\n",
       "  z-index: 1;\n",
       "}\n",
       "\n",
       ".xr-var-attrs,\n",
       ".xr-var-data,\n",
       ".xr-index-data {\n",
       "  display: none;\n",
       "  background-color: var(--xr-background-color) !important;\n",
       "  padding-bottom: 5px !important;\n",
       "}\n",
       "\n",
       ".xr-var-attrs-in:checked ~ .xr-var-attrs,\n",
       ".xr-var-data-in:checked ~ .xr-var-data,\n",
       ".xr-index-data-in:checked ~ .xr-index-data {\n",
       "  display: block;\n",
       "}\n",
       "\n",
       ".xr-var-data > table {\n",
       "  float: right;\n",
       "}\n",
       "\n",
       ".xr-var-name span,\n",
       ".xr-var-data,\n",
       ".xr-index-name div,\n",
       ".xr-index-data,\n",
       ".xr-attrs {\n",
       "  padding-left: 25px !important;\n",
       "}\n",
       "\n",
       ".xr-attrs,\n",
       ".xr-var-attrs,\n",
       ".xr-var-data,\n",
       ".xr-index-data {\n",
       "  grid-column: 1 / -1;\n",
       "}\n",
       "\n",
       "dl.xr-attrs {\n",
       "  padding: 0;\n",
       "  margin: 0;\n",
       "  display: grid;\n",
       "  grid-template-columns: 125px auto;\n",
       "}\n",
       "\n",
       ".xr-attrs dt,\n",
       ".xr-attrs dd {\n",
       "  padding: 0;\n",
       "  margin: 0;\n",
       "  float: left;\n",
       "  padding-right: 10px;\n",
       "  width: auto;\n",
       "}\n",
       "\n",
       ".xr-attrs dt {\n",
       "  font-weight: normal;\n",
       "  grid-column: 1;\n",
       "}\n",
       "\n",
       ".xr-attrs dt:hover span {\n",
       "  display: inline-block;\n",
       "  background: var(--xr-background-color);\n",
       "  padding-right: 10px;\n",
       "}\n",
       "\n",
       ".xr-attrs dd {\n",
       "  grid-column: 2;\n",
       "  white-space: pre-wrap;\n",
       "  word-break: break-all;\n",
       "}\n",
       "\n",
       ".xr-icon-database,\n",
       ".xr-icon-file-text2,\n",
       ".xr-no-icon {\n",
       "  display: inline-block;\n",
       "  vertical-align: middle;\n",
       "  width: 1em;\n",
       "  height: 1.5em !important;\n",
       "  stroke-width: 0;\n",
       "  stroke: currentColor;\n",
       "  fill: currentColor;\n",
       "}\n",
       "</style><pre class='xr-text-repr-fallback'>&lt;xarray.DataArray &#x27;sigma0&#x27; (depth: 50, profile: 54842)&gt;\n",
       "array([[24.06949374, 24.02510192, 24.05058573, ..., 24.40822373,\n",
       "        24.47847005, 24.50760209],\n",
       "       [24.53071978, 24.42085232, 24.40613009, ..., 25.03809127,\n",
       "        24.9720049 , 24.91478408],\n",
       "       [24.87939168, 24.70105013, 24.72793154, ..., 25.31719505,\n",
       "        25.14768034, 25.27253915],\n",
       "       ...,\n",
       "       [        nan,         nan,         nan, ...,         nan,\n",
       "                nan,         nan],\n",
       "       [        nan,         nan,         nan, ...,         nan,\n",
       "                nan,         nan],\n",
       "       [        nan,         nan,         nan, ...,         nan,\n",
       "                nan,         nan]])\n",
       "Coordinates:\n",
       "  * profile  (profile) int32 0 1 2 3 4 5 ... 54836 54837 54838 54839 54840 54841\n",
       "    lat      (profile) float64 33.44 33.44 33.44 33.44 ... 32.89 32.89 32.88\n",
       "    lon      (profile) float64 -117.7 -117.7 -117.7 ... -117.3 -117.3 -117.3\n",
       "    lat_uv   (profile) float64 33.44 33.44 33.44 33.44 ... 32.89 32.89 32.88\n",
       "    lon_uv   (profile) float64 -117.7 -117.7 -117.7 ... -117.3 -117.3 -117.3\n",
       "    time     (profile) datetime64[ns] 2006-10-19T17:51:00 ... 2023-03-20T15:4...\n",
       "    time_uv  (profile) datetime64[ns] 2006-10-19T17:41:00 ... 2023-03-20T15:3...\n",
       "  * depth    (depth) int32 10 20 30 40 50 60 70 ... 440 450 460 470 480 490 500\n",
       "Attributes:\n",
       "    units:      kg/m^3\n",
       "    long_name:  potential density anomaly</pre><div class='xr-wrap' style='display:none'><div class='xr-header'><div class='xr-obj-type'>xarray.DataArray</div><div class='xr-array-name'>'sigma0'</div><ul class='xr-dim-list'><li><span class='xr-has-index'>depth</span>: 50</li><li><span class='xr-has-index'>profile</span>: 54842</li></ul></div><ul class='xr-sections'><li class='xr-section-item'><div class='xr-array-wrap'><input id='section-cc9d781d-5ed7-498e-8efe-95596a520b9f' class='xr-array-in' type='checkbox' checked><label for='section-cc9d781d-5ed7-498e-8efe-95596a520b9f' title='Show/hide data repr'><svg class='icon xr-icon-database'><use xlink:href='#icon-database'></use></svg></label><div class='xr-array-preview xr-preview'><span>24.07 24.03 24.05 23.99 23.98 23.93 23.95 ... nan nan nan nan nan nan</span></div><div class='xr-array-data'><pre>array([[24.06949374, 24.02510192, 24.05058573, ..., 24.40822373,\n",
       "        24.47847005, 24.50760209],\n",
       "       [24.53071978, 24.42085232, 24.40613009, ..., 25.03809127,\n",
       "        24.9720049 , 24.91478408],\n",
       "       [24.87939168, 24.70105013, 24.72793154, ..., 25.31719505,\n",
       "        25.14768034, 25.27253915],\n",
       "       ...,\n",
       "       [        nan,         nan,         nan, ...,         nan,\n",
       "                nan,         nan],\n",
       "       [        nan,         nan,         nan, ...,         nan,\n",
       "                nan,         nan],\n",
       "       [        nan,         nan,         nan, ...,         nan,\n",
       "                nan,         nan]])</pre></div></div></li><li class='xr-section-item'><input id='section-12beef8a-cdbe-4f5f-9d15-01c429ef28d4' class='xr-section-summary-in' type='checkbox'  checked><label for='section-12beef8a-cdbe-4f5f-9d15-01c429ef28d4' class='xr-section-summary' >Coordinates: <span>(8)</span></label><div class='xr-section-inline-details'></div><div class='xr-section-details'><ul class='xr-var-list'><li class='xr-var-item'><div class='xr-var-name'><span class='xr-has-index'>profile</span></div><div class='xr-var-dims'>(profile)</div><div class='xr-var-dtype'>int32</div><div class='xr-var-preview xr-preview'>0 1 2 3 ... 54838 54839 54840 54841</div><input id='attrs-c44ef7e5-eece-4114-ac28-d23b09a6eb6c' class='xr-var-attrs-in' type='checkbox' ><label for='attrs-c44ef7e5-eece-4114-ac28-d23b09a6eb6c' title='Show/Hide attributes'><svg class='icon xr-icon-file-text2'><use xlink:href='#icon-file-text2'></use></svg></label><input id='data-af6fe0eb-5114-4d16-819b-b43c463bce45' class='xr-var-data-in' type='checkbox'><label for='data-af6fe0eb-5114-4d16-819b-b43c463bce45' title='Show/Hide data repr'><svg class='icon xr-icon-database'><use xlink:href='#icon-database'></use></svg></label><div class='xr-var-attrs'><dl class='xr-attrs'><dt><span>cf_role :</span></dt><dd>profile_id</dd></dl></div><div class='xr-var-data'><pre>array([    0,     1,     2, ..., 54839, 54840, 54841], dtype=int32)</pre></div></li><li class='xr-var-item'><div class='xr-var-name'><span>lat</span></div><div class='xr-var-dims'>(profile)</div><div class='xr-var-dtype'>float64</div><div class='xr-var-preview xr-preview'>33.44 33.44 33.44 ... 32.89 32.88</div><input id='attrs-b9146178-969b-4b5d-93b6-5c059ff49b6e' class='xr-var-attrs-in' type='checkbox' ><label for='attrs-b9146178-969b-4b5d-93b6-5c059ff49b6e' title='Show/Hide attributes'><svg class='icon xr-icon-file-text2'><use xlink:href='#icon-file-text2'></use></svg></label><input id='data-29c89aab-9f8d-4390-8b20-8bafc7e8d753' class='xr-var-data-in' type='checkbox'><label for='data-29c89aab-9f8d-4390-8b20-8bafc7e8d753' title='Show/Hide data repr'><svg class='icon xr-icon-database'><use xlink:href='#icon-database'></use></svg></label><div class='xr-var-attrs'><dl class='xr-attrs'><dt><span>long_name :</span></dt><dd>Latitude</dd><dt><span>standard_name :</span></dt><dd>latitude</dd><dt><span>units :</span></dt><dd>degrees_north</dd><dt><span>coverage_content_type :</span></dt><dd>coordinate</dd><dt><span>comment :</span></dt><dd>The estimated latitude of the midpoint of the profile.\n",
       "For a glider profiling continuously, this latitude is 3/4 of the way between GPS fixes at the beginning and end of dives.  This is the latitude to use with the temperature and salinity variables, which are measured on the ascent only.</dd></dl></div><div class='xr-var-data'><pre>array([33.43725  , 33.43589  , 33.43557  , ..., 32.8913425, 32.8867575,\n",
       "       32.8817875])</pre></div></li><li class='xr-var-item'><div class='xr-var-name'><span>lon</span></div><div class='xr-var-dims'>(profile)</div><div class='xr-var-dtype'>float64</div><div class='xr-var-preview xr-preview'>-117.7 -117.7 ... -117.3 -117.3</div><input id='attrs-9fdd9480-23c9-43e6-8b58-016b43de32f5' class='xr-var-attrs-in' type='checkbox' ><label for='attrs-9fdd9480-23c9-43e6-8b58-016b43de32f5' title='Show/Hide attributes'><svg class='icon xr-icon-file-text2'><use xlink:href='#icon-file-text2'></use></svg></label><input id='data-b455234f-6eee-41e9-a55f-a9799d2954a7' class='xr-var-data-in' type='checkbox'><label for='data-b455234f-6eee-41e9-a55f-a9799d2954a7' title='Show/Hide data repr'><svg class='icon xr-icon-database'><use xlink:href='#icon-database'></use></svg></label><div class='xr-var-attrs'><dl class='xr-attrs'><dt><span>long_name :</span></dt><dd>Longitude</dd><dt><span>standard_name :</span></dt><dd>longitude</dd><dt><span>units :</span></dt><dd>degrees_east</dd><dt><span>coverage_content_type :</span></dt><dd>coordinate</dd><dt><span>comment :</span></dt><dd>The estimated longitude of the midpoint of the profile.\n",
       "For a glider profiling continuously, this longitude is 3/4 of the way between GPS fixes at the beginning and end of dives.  This is the longitude to use with the temperature and salinity variables, which are measured on the ascent only.</dd></dl></div><div class='xr-var-data'><pre>array([-117.72813  , -117.73344  , -117.743385 , ..., -117.288985 ,\n",
       "       -117.2876075, -117.2857675])</pre></div></li><li class='xr-var-item'><div class='xr-var-name'><span>lat_uv</span></div><div class='xr-var-dims'>(profile)</div><div class='xr-var-dtype'>float64</div><div class='xr-var-preview xr-preview'>33.44 33.44 33.44 ... 32.89 32.88</div><input id='attrs-e4269e2e-6a3a-4370-9889-d45799b4c9f9' class='xr-var-attrs-in' type='checkbox' ><label for='attrs-e4269e2e-6a3a-4370-9889-d45799b4c9f9' title='Show/Hide attributes'><svg class='icon xr-icon-file-text2'><use xlink:href='#icon-file-text2'></use></svg></label><input id='data-bc6aad29-fabf-48a6-9f71-7be146b23533' class='xr-var-data-in' type='checkbox'><label for='data-bc6aad29-fabf-48a6-9f71-7be146b23533' title='Show/Hide data repr'><svg class='icon xr-icon-database'><use xlink:href='#icon-database'></use></svg></label><div class='xr-var-attrs'><dl class='xr-attrs'><dt><span>long_name :</span></dt><dd>Latitude</dd><dt><span>standard_name :</span></dt><dd>latitude</dd><dt><span>units :</span></dt><dd>degrees_north</dd><dt><span>coverage_content_type :</span></dt><dd>coordinate</dd><dt><span>comment :</span></dt><dd>The estimated latitude of the midpoint of the dive.\n",
       "For a glider profiling continuously, this latitude is 1/2 of the way between GPS fixes at the beginning and end of dives.  This is the latitude to use with depth-averaged velocity (u_depth_mean, v_depth_mean) which is an average throughout the dive</dd></dl></div><div class='xr-var-data'><pre>array([33.43778 , 33.43605 , 33.43552 , ..., 32.892395, 32.887945,\n",
       "       32.883045])</pre></div></li><li class='xr-var-item'><div class='xr-var-name'><span>lon_uv</span></div><div class='xr-var-dims'>(profile)</div><div class='xr-var-dtype'>float64</div><div class='xr-var-preview xr-preview'>-117.7 -117.7 ... -117.3 -117.3</div><input id='attrs-707a29d9-d9ad-4dee-8c45-cc16919249bb' class='xr-var-attrs-in' type='checkbox' ><label for='attrs-707a29d9-d9ad-4dee-8c45-cc16919249bb' title='Show/Hide attributes'><svg class='icon xr-icon-file-text2'><use xlink:href='#icon-file-text2'></use></svg></label><input id='data-78bba4c5-0179-4fa9-9049-6406caab6d8e' class='xr-var-data-in' type='checkbox'><label for='data-78bba4c5-0179-4fa9-9049-6406caab6d8e' title='Show/Hide data repr'><svg class='icon xr-icon-database'><use xlink:href='#icon-database'></use></svg></label><div class='xr-var-attrs'><dl class='xr-attrs'><dt><span>long_name :</span></dt><dd>Longitude</dd><dt><span>standard_name :</span></dt><dd>longitude</dd><dt><span>units :</span></dt><dd>degrees_east</dd><dt><span>coverage_content_type :</span></dt><dd>coordinate</dd><dt><span>comment :</span></dt><dd>The estimated longitude of the midpoint of the dive.\n",
       "For a glider profiling continuously, this longitude is 1/2 of the way between GPS fixes at the beginning and end of dives.  This is the longitude to use with depth-averaged velocity (u_depth_mean, v_depth_mean) which is an average throughout the dive</dd></dl></div><div class='xr-var-data'><pre>array([-117.72707 , -117.73193 , -117.74045 , ..., -117.28927 ,\n",
       "       -117.287865, -117.286225])</pre></div></li><li class='xr-var-item'><div class='xr-var-name'><span>time</span></div><div class='xr-var-dims'>(profile)</div><div class='xr-var-dtype'>datetime64[ns]</div><div class='xr-var-preview xr-preview'>2006-10-19T17:51:00 ... 2023-03-...</div><input id='attrs-0043d52d-20b5-41f1-835c-c07e377ebcc3' class='xr-var-attrs-in' type='checkbox' ><label for='attrs-0043d52d-20b5-41f1-835c-c07e377ebcc3' title='Show/Hide attributes'><svg class='icon xr-icon-file-text2'><use xlink:href='#icon-file-text2'></use></svg></label><input id='data-99db6781-f440-480f-b3c2-417b5e457f80' class='xr-var-data-in' type='checkbox'><label for='data-99db6781-f440-480f-b3c2-417b5e457f80' title='Show/Hide data repr'><svg class='icon xr-icon-database'><use xlink:href='#icon-database'></use></svg></label><div class='xr-var-attrs'><dl class='xr-attrs'><dt><span>standard_name :</span></dt><dd>time</dd><dt><span>long_name :</span></dt><dd>Time</dd><dt><span>axis :</span></dt><dd>T</dd><dt><span>coverage_content_type :</span></dt><dd>coordinate</dd><dt><span>comment :</span></dt><dd>The estimated time of the midpoint of the profile.\n",
       "For a glider profiling continuously, this time is 3/4 of the way between GPS fixes at the beginning and end of dives.  This is the time to use with the temperature and salinity variables, which are measured on the ascent only.</dd></dl></div><div class='xr-var-data'><pre>array([&#x27;2006-10-19T17:51:00.000000000&#x27;, &#x27;2006-10-19T18:32:02.000000000&#x27;,\n",
       "       &#x27;2006-10-19T19:34:28.000000000&#x27;, ...,\n",
       "       &#x27;2023-03-20T14:06:54.000000000&#x27;, &#x27;2023-03-20T14:55:10.000000000&#x27;,\n",
       "       &#x27;2023-03-20T15:42:26.000000000&#x27;], dtype=&#x27;datetime64[ns]&#x27;)</pre></div></li><li class='xr-var-item'><div class='xr-var-name'><span>time_uv</span></div><div class='xr-var-dims'>(profile)</div><div class='xr-var-dtype'>datetime64[ns]</div><div class='xr-var-preview xr-preview'>2006-10-19T17:41:00 ... 2023-03-...</div><input id='attrs-3b30be18-3653-42cf-b074-3f9e22b75039' class='xr-var-attrs-in' type='checkbox' ><label for='attrs-3b30be18-3653-42cf-b074-3f9e22b75039' title='Show/Hide attributes'><svg class='icon xr-icon-file-text2'><use xlink:href='#icon-file-text2'></use></svg></label><input id='data-c4e74db1-d820-40b4-9c22-e1eb2891ed81' class='xr-var-data-in' type='checkbox'><label for='data-c4e74db1-d820-40b4-9c22-e1eb2891ed81' title='Show/Hide data repr'><svg class='icon xr-icon-database'><use xlink:href='#icon-database'></use></svg></label><div class='xr-var-attrs'><dl class='xr-attrs'><dt><span>standard_name :</span></dt><dd>time</dd><dt><span>long_name :</span></dt><dd>Time</dd><dt><span>axis :</span></dt><dd>T</dd><dt><span>coverage_content_type :</span></dt><dd>coordinate</dd><dt><span>comment :</span></dt><dd>The estimated time of the midpoint of the dive.\n",
       "For a glider profiling continuously, this time is 1/2 of the way between GPS fixes at the beginning and end of dives.  This is the time to use with depth-averaged velocity (u_depth_mean, v_depth_mean) which is an average throughout the dive.</dd></dl></div><div class='xr-var-data'><pre>array([&#x27;2006-10-19T17:41:00.000000000&#x27;, &#x27;2006-10-19T18:22:36.000000000&#x27;,\n",
       "       &#x27;2006-10-19T19:17:54.000000000&#x27;, ...,\n",
       "       &#x27;2023-03-20T13:55:37.000000000&#x27;, &#x27;2023-03-20T14:43:55.000000000&#x27;,\n",
       "       &#x27;2023-03-20T15:31:20.000000000&#x27;], dtype=&#x27;datetime64[ns]&#x27;)</pre></div></li><li class='xr-var-item'><div class='xr-var-name'><span class='xr-has-index'>depth</span></div><div class='xr-var-dims'>(depth)</div><div class='xr-var-dtype'>int32</div><div class='xr-var-preview xr-preview'>10 20 30 40 50 ... 470 480 490 500</div><input id='attrs-5d6553e4-5c25-4f3d-8fbc-4f3603e9d192' class='xr-var-attrs-in' type='checkbox' ><label for='attrs-5d6553e4-5c25-4f3d-8fbc-4f3603e9d192' title='Show/Hide attributes'><svg class='icon xr-icon-file-text2'><use xlink:href='#icon-file-text2'></use></svg></label><input id='data-a3347fd0-95d5-4726-8b45-966886c5b312' class='xr-var-data-in' type='checkbox'><label for='data-a3347fd0-95d5-4726-8b45-966886c5b312' title='Show/Hide data repr'><svg class='icon xr-icon-database'><use xlink:href='#icon-database'></use></svg></label><div class='xr-var-attrs'><dl class='xr-attrs'><dt><span>long_name :</span></dt><dd>Depth</dd><dt><span>standard_name :</span></dt><dd>depth</dd><dt><span>units :</span></dt><dd>m</dd><dt><span>positive :</span></dt><dd>down</dd><dt><span>coverage_content_type :</span></dt><dd>coordinate</dd></dl></div><div class='xr-var-data'><pre>array([ 10,  20,  30,  40,  50,  60,  70,  80,  90, 100, 110, 120, 130, 140,\n",
       "       150, 160, 170, 180, 190, 200, 210, 220, 230, 240, 250, 260, 270, 280,\n",
       "       290, 300, 310, 320, 330, 340, 350, 360, 370, 380, 390, 400, 410, 420,\n",
       "       430, 440, 450, 460, 470, 480, 490, 500], dtype=int32)</pre></div></li></ul></div></li><li class='xr-section-item'><input id='section-9bce29d9-294f-40e4-af81-bca082bcbacb' class='xr-section-summary-in' type='checkbox'  ><label for='section-9bce29d9-294f-40e4-af81-bca082bcbacb' class='xr-section-summary' >Indexes: <span>(2)</span></label><div class='xr-section-inline-details'></div><div class='xr-section-details'><ul class='xr-var-list'><li class='xr-var-item'><div class='xr-index-name'><div>profile</div></div><div class='xr-index-preview'>PandasIndex</div><div></div><input id='index-6b97833e-556a-4738-9040-163dc6c04afd' class='xr-index-data-in' type='checkbox'/><label for='index-6b97833e-556a-4738-9040-163dc6c04afd' title='Show/Hide index repr'><svg class='icon xr-icon-database'><use xlink:href='#icon-database'></use></svg></label><div class='xr-index-data'><pre>PandasIndex(Int64Index([    0,     1,     2,     3,     4,     5,     6,     7,     8,\n",
       "                9,\n",
       "            ...\n",
       "            54832, 54833, 54834, 54835, 54836, 54837, 54838, 54839, 54840,\n",
       "            54841],\n",
       "           dtype=&#x27;int64&#x27;, name=&#x27;profile&#x27;, length=54842))</pre></div></li><li class='xr-var-item'><div class='xr-index-name'><div>depth</div></div><div class='xr-index-preview'>PandasIndex</div><div></div><input id='index-9c55aacb-502f-4421-9ee0-3e9feb82e826' class='xr-index-data-in' type='checkbox'/><label for='index-9c55aacb-502f-4421-9ee0-3e9feb82e826' title='Show/Hide index repr'><svg class='icon xr-icon-database'><use xlink:href='#icon-database'></use></svg></label><div class='xr-index-data'><pre>PandasIndex(Int64Index([ 10,  20,  30,  40,  50,  60,  70,  80,  90, 100, 110, 120, 130,\n",
       "            140, 150, 160, 170, 180, 190, 200, 210, 220, 230, 240, 250, 260,\n",
       "            270, 280, 290, 300, 310, 320, 330, 340, 350, 360, 370, 380, 390,\n",
       "            400, 410, 420, 430, 440, 450, 460, 470, 480, 490, 500],\n",
       "           dtype=&#x27;int64&#x27;, name=&#x27;depth&#x27;))</pre></div></li></ul></div></li><li class='xr-section-item'><input id='section-7f6ac627-4ea3-4e61-9e65-416d7d7c1f92' class='xr-section-summary-in' type='checkbox'  checked><label for='section-7f6ac627-4ea3-4e61-9e65-416d7d7c1f92' class='xr-section-summary' >Attributes: <span>(2)</span></label><div class='xr-section-inline-details'></div><div class='xr-section-details'><dl class='xr-attrs'><dt><span>units :</span></dt><dd>kg/m^3</dd><dt><span>long_name :</span></dt><dd>potential density anomaly</dd></dl></div></li></ul></div></div>"
      ],
      "text/plain": [
       "<xarray.DataArray 'sigma0' (depth: 50, profile: 54842)>\n",
       "array([[24.06949374, 24.02510192, 24.05058573, ..., 24.40822373,\n",
       "        24.47847005, 24.50760209],\n",
       "       [24.53071978, 24.42085232, 24.40613009, ..., 25.03809127,\n",
       "        24.9720049 , 24.91478408],\n",
       "       [24.87939168, 24.70105013, 24.72793154, ..., 25.31719505,\n",
       "        25.14768034, 25.27253915],\n",
       "       ...,\n",
       "       [        nan,         nan,         nan, ...,         nan,\n",
       "                nan,         nan],\n",
       "       [        nan,         nan,         nan, ...,         nan,\n",
       "                nan,         nan],\n",
       "       [        nan,         nan,         nan, ...,         nan,\n",
       "                nan,         nan]])\n",
       "Coordinates:\n",
       "  * profile  (profile) int32 0 1 2 3 4 5 ... 54836 54837 54838 54839 54840 54841\n",
       "    lat      (profile) float64 33.44 33.44 33.44 33.44 ... 32.89 32.89 32.88\n",
       "    lon      (profile) float64 -117.7 -117.7 -117.7 ... -117.3 -117.3 -117.3\n",
       "    lat_uv   (profile) float64 33.44 33.44 33.44 33.44 ... 32.89 32.89 32.88\n",
       "    lon_uv   (profile) float64 -117.7 -117.7 -117.7 ... -117.3 -117.3 -117.3\n",
       "    time     (profile) datetime64[ns] 2006-10-19T17:51:00 ... 2023-03-20T15:4...\n",
       "    time_uv  (profile) datetime64[ns] 2006-10-19T17:41:00 ... 2023-03-20T15:3...\n",
       "  * depth    (depth) int32 10 20 30 40 50 60 70 ... 440 450 460 470 480 490 500\n",
       "Attributes:\n",
       "    units:      kg/m^3\n",
       "    long_name:  potential density anomaly"
      ]
     },
     "execution_count": 4,
     "metadata": {},
     "output_type": "execute_result"
    }
   ],
   "source": [
    "ds.sigma0"
   ]
  },
  {
   "cell_type": "code",
   "execution_count": 19,
   "id": "f6e15017-5304-489b-b426-22bc6350fa07",
   "metadata": {
    "tags": []
   },
   "outputs": [],
   "source": [
    "dsigmadz, _ = np.gradient(ds.sigma0.data, 10.)"
   ]
  },
  {
   "cell_type": "code",
   "execution_count": 20,
   "id": "b87ddd56-3cce-4b9d-8c3d-c00dc062451c",
   "metadata": {
    "tags": []
   },
   "outputs": [
    {
     "data": {
      "text/plain": [
       "(50, 54842)"
      ]
     },
     "execution_count": 20,
     "metadata": {},
     "output_type": "execute_result"
    }
   ],
   "source": [
    "dsigmadz.shape"
   ]
  },
  {
   "cell_type": "code",
   "execution_count": 21,
   "id": "8919945b-adfe-40f6-8e75-8d01f376a1e7",
   "metadata": {
    "tags": []
   },
   "outputs": [
    {
     "data": {
      "text/plain": [
       "0.0461226030873604"
      ]
     },
     "execution_count": 21,
     "metadata": {},
     "output_type": "execute_result"
    }
   ],
   "source": [
    "dsigmadz.data[0,0]"
   ]
  },
  {
   "cell_type": "code",
   "execution_count": 22,
   "id": "67369d93-44c8-43fe-812d-64fd62643f64",
   "metadata": {
    "tags": []
   },
   "outputs": [
    {
     "data": {
      "text/plain": [
       "array([24.06949374, 24.53071978])"
      ]
     },
     "execution_count": 22,
     "metadata": {},
     "output_type": "execute_result"
    }
   ],
   "source": [
    "ds.sigma0.data[0:2, 0]"
   ]
  },
  {
   "cell_type": "code",
   "execution_count": 25,
   "id": "bf93a64c-03ee-4863-9d68-79b567c5f933",
   "metadata": {
    "tags": []
   },
   "outputs": [
    {
     "data": {
      "text/plain": [
       "0.0461229000000003"
      ]
     },
     "execution_count": 25,
     "metadata": {},
     "output_type": "execute_result"
    }
   ],
   "source": [
    "(24.530719-24.06949)/10."
   ]
  },
  {
   "cell_type": "code",
   "execution_count": null,
   "id": "ffeb6af4-fde1-405a-8bf3-5cea233aad85",
   "metadata": {},
   "outputs": [],
   "source": []
  }
 ],
 "metadata": {
  "kernelspec": {
   "display_name": "Python 3 (ipykernel)",
   "language": "python",
   "name": "python3"
  },
  "language_info": {
   "codemirror_mode": {
    "name": "ipython",
    "version": 3
   },
   "file_extension": ".py",
   "mimetype": "text/x-python",
   "name": "python",
   "nbconvert_exporter": "python",
   "pygments_lexer": "ipython3",
   "version": "3.10.9"
  }
 },
 "nbformat": 4,
 "nbformat_minor": 5
}
