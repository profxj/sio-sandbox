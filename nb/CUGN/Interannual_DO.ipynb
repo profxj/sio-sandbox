{
 "cells": [
  {
   "cell_type": "markdown",
   "id": "b47cea93-5b47-4bda-a768-6c910ebc383e",
   "metadata": {},
   "source": [
    "# InterAnnual DO"
   ]
  },
  {
   "cell_type": "code",
   "execution_count": 1,
   "id": "8540f819-7bf9-4e9a-9494-bf49a38fc705",
   "metadata": {
    "tags": []
   },
   "outputs": [],
   "source": [
    "# imports\n",
    "from importlib import reload\n",
    "\n",
    "import numpy as np\n",
    "from scipy.interpolate import interp1d\n",
    "\n",
    "import pandas\n",
    "\n",
    "from matplotlib import pyplot as plt\n",
    "import matplotlib as mpl\n",
    "import matplotlib.gridspec as gridspec\n",
    "\n",
    "import seaborn as sns\n",
    "\n",
    "from siosandbox.cugn import clusters\n",
    "from siosandbox.cugn import grid_utils\n",
    "from siosandbox.cugn import io as cugn_io\n",
    "from siosandbox import plot_utils\n",
    "\n",
    "from gsw import conversions, density\n",
    "import gsw"
   ]
  },
  {
   "cell_type": "markdown",
   "id": "a47dd1fa-ea7c-4ee5-92cd-ff9914876d4d",
   "metadata": {},
   "source": [
    "# Load"
   ]
  },
  {
   "cell_type": "code",
   "execution_count": 2,
   "id": "a80592b8-459d-486b-8315-27c78e35e190",
   "metadata": {
    "tags": []
   },
   "outputs": [],
   "source": [
    "line = '90'\n",
    "\n",
    "# Load\n",
    "items = cugn_io.load_line(line)\n",
    "grid_tbl = items['grid_tbl']\n",
    "ds = items['ds']\n",
    "\n",
    "# Fill\n",
    "grid_utils.fill_in_grid(grid_tbl, ds)"
   ]
  },
  {
   "cell_type": "markdown",
   "id": "aea85268-408f-48ce-a5f4-f90dd583592e",
   "metadata": {},
   "source": [
    "## Episodes"
   ]
  },
  {
   "cell_type": "code",
   "execution_count": 17,
   "id": "337a8cdc-60fe-4b0e-832a-0a650f8dbc15",
   "metadata": {
    "tags": []
   },
   "outputs": [
    {
     "name": "stdout",
     "output_type": "stream",
     "text": [
      "Found 386 unique clusters\n"
     ]
    }
   ],
   "source": [
    "perc = 98.\n",
    "grid_outliers, grid_tbl, ds = grid_utils.gen_outliers(line, perc)\n",
    "clusters.generate_clusters(grid_outliers)\n",
    "\n",
    "cstats = clusters.cluster_stats(grid_outliers)"
   ]
  },
  {
   "cell_type": "code",
   "execution_count": 18,
   "id": "80a7eeb6-4a35-4ca3-9d51-990f00a76145",
   "metadata": {
    "tags": []
   },
   "outputs": [
    {
     "data": {
      "text/html": [
       "<div>\n",
       "<style scoped>\n",
       "    .dataframe tbody tr th:only-of-type {\n",
       "        vertical-align: middle;\n",
       "    }\n",
       "\n",
       "    .dataframe tbody tr th {\n",
       "        vertical-align: top;\n",
       "    }\n",
       "\n",
       "    .dataframe thead th {\n",
       "        text-align: right;\n",
       "    }\n",
       "</style>\n",
       "<table border=\"1\" class=\"dataframe\">\n",
       "  <thead>\n",
       "    <tr style=\"text-align: right;\">\n",
       "      <th></th>\n",
       "      <th>z</th>\n",
       "      <th>lon</th>\n",
       "      <th>doxy</th>\n",
       "      <th>time</th>\n",
       "      <th>SA</th>\n",
       "      <th>CT</th>\n",
       "      <th>sigma0</th>\n",
       "      <th>SO</th>\n",
       "      <th>chla</th>\n",
       "      <th>max_doxy</th>\n",
       "      <th>max_SO</th>\n",
       "      <th>max_chla</th>\n",
       "      <th>N</th>\n",
       "      <th>cluster</th>\n",
       "    </tr>\n",
       "  </thead>\n",
       "  <tbody>\n",
       "    <tr>\n",
       "      <th>0</th>\n",
       "      <td>15.600000</td>\n",
       "      <td>-118.009290</td>\n",
       "      <td>278.942976</td>\n",
       "      <td>2017-03-17 05:13:22.506666752</td>\n",
       "      <td>33.417848</td>\n",
       "      <td>14.997837</td>\n",
       "      <td>24.640720</td>\n",
       "      <td>1.111353</td>\n",
       "      <td>0.376499</td>\n",
       "      <td>309.040496</td>\n",
       "      <td>1.237211</td>\n",
       "      <td>0.710987</td>\n",
       "      <td>75</td>\n",
       "      <td>0</td>\n",
       "    </tr>\n",
       "    <tr>\n",
       "      <th>1</th>\n",
       "      <td>12.500000</td>\n",
       "      <td>-117.987563</td>\n",
       "      <td>263.682135</td>\n",
       "      <td>2017-04-09 09:25:06.666666496</td>\n",
       "      <td>33.504671</td>\n",
       "      <td>16.216080</td>\n",
       "      <td>24.439004</td>\n",
       "      <td>1.076490</td>\n",
       "      <td>0.220169</td>\n",
       "      <td>271.135380</td>\n",
       "      <td>1.099654</td>\n",
       "      <td>0.319463</td>\n",
       "      <td>12</td>\n",
       "      <td>1</td>\n",
       "    </tr>\n",
       "    <tr>\n",
       "      <th>2</th>\n",
       "      <td>13.076923</td>\n",
       "      <td>-119.560430</td>\n",
       "      <td>268.295324</td>\n",
       "      <td>2017-04-15 22:35:44.923077120</td>\n",
       "      <td>33.545435</td>\n",
       "      <td>14.173875</td>\n",
       "      <td>24.914860</td>\n",
       "      <td>1.052789</td>\n",
       "      <td>1.522748</td>\n",
       "      <td>271.505720</td>\n",
       "      <td>1.060757</td>\n",
       "      <td>2.138465</td>\n",
       "      <td>13</td>\n",
       "      <td>2</td>\n",
       "    </tr>\n",
       "    <tr>\n",
       "      <th>3</th>\n",
       "      <td>19.375000</td>\n",
       "      <td>-119.904488</td>\n",
       "      <td>264.906934</td>\n",
       "      <td>2017-06-21 04:50:49.875000064</td>\n",
       "      <td>33.475110</td>\n",
       "      <td>15.639963</td>\n",
       "      <td>24.546332</td>\n",
       "      <td>1.069439</td>\n",
       "      <td>1.439475</td>\n",
       "      <td>267.124543</td>\n",
       "      <td>1.082783</td>\n",
       "      <td>2.477573</td>\n",
       "      <td>16</td>\n",
       "      <td>3</td>\n",
       "    </tr>\n",
       "    <tr>\n",
       "      <th>4</th>\n",
       "      <td>18.674699</td>\n",
       "      <td>-117.641209</td>\n",
       "      <td>295.869543</td>\n",
       "      <td>2017-07-07 12:29:09.132529664</td>\n",
       "      <td>33.563195</td>\n",
       "      <td>15.655587</td>\n",
       "      <td>24.601511</td>\n",
       "      <td>1.198933</td>\n",
       "      <td>0.920417</td>\n",
       "      <td>423.426695</td>\n",
       "      <td>1.806465</td>\n",
       "      <td>4.022911</td>\n",
       "      <td>83</td>\n",
       "      <td>4</td>\n",
       "    </tr>\n",
       "  </tbody>\n",
       "</table>\n",
       "</div>"
      ],
      "text/plain": [
       "           z         lon        doxy                          time         SA  \\\n",
       "0  15.600000 -118.009290  278.942976 2017-03-17 05:13:22.506666752  33.417848   \n",
       "1  12.500000 -117.987563  263.682135 2017-04-09 09:25:06.666666496  33.504671   \n",
       "2  13.076923 -119.560430  268.295324 2017-04-15 22:35:44.923077120  33.545435   \n",
       "3  19.375000 -119.904488  264.906934 2017-06-21 04:50:49.875000064  33.475110   \n",
       "4  18.674699 -117.641209  295.869543 2017-07-07 12:29:09.132529664  33.563195   \n",
       "\n",
       "          CT     sigma0        SO      chla    max_doxy    max_SO  max_chla  \\\n",
       "0  14.997837  24.640720  1.111353  0.376499  309.040496  1.237211  0.710987   \n",
       "1  16.216080  24.439004  1.076490  0.220169  271.135380  1.099654  0.319463   \n",
       "2  14.173875  24.914860  1.052789  1.522748  271.505720  1.060757  2.138465   \n",
       "3  15.639963  24.546332  1.069439  1.439475  267.124543  1.082783  2.477573   \n",
       "4  15.655587  24.601511  1.198933  0.920417  423.426695  1.806465  4.022911   \n",
       "\n",
       "    N  cluster  \n",
       "0  75        0  \n",
       "1  12        1  \n",
       "2  13        2  \n",
       "3  16        3  \n",
       "4  83        4  "
      ]
     },
     "execution_count": 18,
     "metadata": {},
     "output_type": "execute_result"
    }
   ],
   "source": [
    "cstats.head()"
   ]
  },
  {
   "cell_type": "markdown",
   "id": "59cb5124-7389-4a2b-9372-85f7d2a00b1d",
   "metadata": {},
   "source": [
    "# In-shore + Shallow"
   ]
  },
  {
   "cell_type": "code",
   "execution_count": 3,
   "id": "c56f4119-4b6b-41a8-b599-e4f738c12deb",
   "metadata": {
    "tags": []
   },
   "outputs": [
    {
     "data": {
      "text/plain": [
       "20073"
      ]
     },
     "execution_count": 3,
     "metadata": {},
     "output_type": "execute_result"
    }
   ],
   "source": [
    "cut_in = grid_tbl.lon > -119.\n",
    "cut_depth = grid_tbl.z < 40.\n",
    "#\n",
    "grid_ins = grid_tbl[cut_depth & cut_in]\n",
    "len(grid_ins)"
   ]
  },
  {
   "cell_type": "code",
   "execution_count": 4,
   "id": "1a6e7262-0541-4695-a07c-81722dd7d549",
   "metadata": {
    "tags": []
   },
   "outputs": [
    {
     "data": {
      "text/html": [
       "<div>\n",
       "<style scoped>\n",
       "    .dataframe tbody tr th:only-of-type {\n",
       "        vertical-align: middle;\n",
       "    }\n",
       "\n",
       "    .dataframe tbody tr th {\n",
       "        vertical-align: top;\n",
       "    }\n",
       "\n",
       "    .dataframe thead th {\n",
       "        text-align: right;\n",
       "    }\n",
       "</style>\n",
       "<table border=\"1\" class=\"dataframe\">\n",
       "  <thead>\n",
       "    <tr style=\"text-align: right;\">\n",
       "      <th></th>\n",
       "      <th>depth</th>\n",
       "      <th>profile</th>\n",
       "      <th>row</th>\n",
       "      <th>col</th>\n",
       "      <th>doxy</th>\n",
       "      <th>doxy_p</th>\n",
       "      <th>time</th>\n",
       "      <th>lon</th>\n",
       "      <th>z</th>\n",
       "      <th>CT</th>\n",
       "      <th>SA</th>\n",
       "      <th>sigma0</th>\n",
       "      <th>SO</th>\n",
       "      <th>N</th>\n",
       "      <th>chla</th>\n",
       "      <th>T</th>\n",
       "    </tr>\n",
       "  </thead>\n",
       "  <tbody>\n",
       "    <tr>\n",
       "      <th>0</th>\n",
       "      <td>0</td>\n",
       "      <td>32173</td>\n",
       "      <td>17</td>\n",
       "      <td>16</td>\n",
       "      <td>252.912731</td>\n",
       "      <td>88.939052</td>\n",
       "      <td>2016-12-14 19:52:21</td>\n",
       "      <td>-117.460120</td>\n",
       "      <td>10</td>\n",
       "      <td>16.249462</td>\n",
       "      <td>33.523891</td>\n",
       "      <td>24.446819</td>\n",
       "      <td>1.033524</td>\n",
       "      <td>6.383201</td>\n",
       "      <td>0.169041</td>\n",
       "      <td>16.217727</td>\n",
       "    </tr>\n",
       "    <tr>\n",
       "      <th>1</th>\n",
       "      <td>0</td>\n",
       "      <td>32174</td>\n",
       "      <td>17</td>\n",
       "      <td>16</td>\n",
       "      <td>252.951126</td>\n",
       "      <td>89.164786</td>\n",
       "      <td>2016-12-14 20:47:19</td>\n",
       "      <td>-117.463420</td>\n",
       "      <td>10</td>\n",
       "      <td>16.214990</td>\n",
       "      <td>33.522302</td>\n",
       "      <td>24.453442</td>\n",
       "      <td>1.032982</td>\n",
       "      <td>5.148775</td>\n",
       "      <td>0.176322</td>\n",
       "      <td>16.183300</td>\n",
       "    </tr>\n",
       "    <tr>\n",
       "      <th>2</th>\n",
       "      <td>0</td>\n",
       "      <td>32175</td>\n",
       "      <td>17</td>\n",
       "      <td>17</td>\n",
       "      <td>253.346587</td>\n",
       "      <td>80.334728</td>\n",
       "      <td>2016-12-14 21:38:13</td>\n",
       "      <td>-117.465688</td>\n",
       "      <td>10</td>\n",
       "      <td>16.158025</td>\n",
       "      <td>33.511012</td>\n",
       "      <td>24.457791</td>\n",
       "      <td>1.033375</td>\n",
       "      <td>6.983573</td>\n",
       "      <td>0.252030</td>\n",
       "      <td>16.126182</td>\n",
       "    </tr>\n",
       "    <tr>\n",
       "      <th>3</th>\n",
       "      <td>0</td>\n",
       "      <td>32176</td>\n",
       "      <td>17</td>\n",
       "      <td>17</td>\n",
       "      <td>254.551252</td>\n",
       "      <td>86.192469</td>\n",
       "      <td>2016-12-14 22:50:08</td>\n",
       "      <td>-117.471270</td>\n",
       "      <td>10</td>\n",
       "      <td>16.057278</td>\n",
       "      <td>33.502061</td>\n",
       "      <td>24.473762</td>\n",
       "      <td>1.036203</td>\n",
       "      <td>5.451822</td>\n",
       "      <td>0.431141</td>\n",
       "      <td>16.025455</td>\n",
       "    </tr>\n",
       "    <tr>\n",
       "      <th>4</th>\n",
       "      <td>0</td>\n",
       "      <td>32177</td>\n",
       "      <td>17</td>\n",
       "      <td>16</td>\n",
       "      <td>251.471860</td>\n",
       "      <td>85.101580</td>\n",
       "      <td>2016-12-15 00:11:51</td>\n",
       "      <td>-117.477442</td>\n",
       "      <td>10</td>\n",
       "      <td>16.372075</td>\n",
       "      <td>33.522704</td>\n",
       "      <td>24.417984</td>\n",
       "      <td>1.030055</td>\n",
       "      <td>5.484878</td>\n",
       "      <td>0.267575</td>\n",
       "      <td>16.340000</td>\n",
       "    </tr>\n",
       "  </tbody>\n",
       "</table>\n",
       "</div>"
      ],
      "text/plain": [
       "   depth  profile  row  col        doxy     doxy_p                time  \\\n",
       "0      0    32173   17   16  252.912731  88.939052 2016-12-14 19:52:21   \n",
       "1      0    32174   17   16  252.951126  89.164786 2016-12-14 20:47:19   \n",
       "2      0    32175   17   17  253.346587  80.334728 2016-12-14 21:38:13   \n",
       "3      0    32176   17   17  254.551252  86.192469 2016-12-14 22:50:08   \n",
       "4      0    32177   17   16  251.471860  85.101580 2016-12-15 00:11:51   \n",
       "\n",
       "          lon   z         CT         SA     sigma0        SO         N  \\\n",
       "0 -117.460120  10  16.249462  33.523891  24.446819  1.033524  6.383201   \n",
       "1 -117.463420  10  16.214990  33.522302  24.453442  1.032982  5.148775   \n",
       "2 -117.465688  10  16.158025  33.511012  24.457791  1.033375  6.983573   \n",
       "3 -117.471270  10  16.057278  33.502061  24.473762  1.036203  5.451822   \n",
       "4 -117.477442  10  16.372075  33.522704  24.417984  1.030055  5.484878   \n",
       "\n",
       "       chla          T  \n",
       "0  0.169041  16.217727  \n",
       "1  0.176322  16.183300  \n",
       "2  0.252030  16.126182  \n",
       "3  0.431141  16.025455  \n",
       "4  0.267575  16.340000  "
      ]
     },
     "execution_count": 4,
     "metadata": {},
     "output_type": "execute_result"
    }
   ],
   "source": [
    "grid_ins.head()"
   ]
  },
  {
   "cell_type": "markdown",
   "id": "a3cc1fb8-a930-46f8-b0a5-aca958be02da",
   "metadata": {},
   "source": [
    "# Time series"
   ]
  },
  {
   "cell_type": "code",
   "execution_count": 5,
   "id": "d692354d-074d-4681-b234-f391d8b82ed7",
   "metadata": {
    "tags": []
   },
   "outputs": [
    {
     "data": {
      "image/png": "[encoded data removed]",
      "text/plain": [
       "<Figure size 640x480 with 1 Axes>"
      ]
     },
     "metadata": {},
     "output_type": "display_data"
    }
   ],
   "source": [
    "plt.clf()\n",
    "ax = plt.gca()\n",
    "\n",
    "ax.scatter(grid_ins.time, grid_ins.doxy, s=0.1)\n",
    "\n",
    "# OC\n",
    "ax.scatter(grid_ins.time, grid_ins.doxy/grid_ins.SO, s=0.1, color='g')\n",
    "\n",
    "#ax.set_xlim(2017., 2019.)\n",
    "ax.set_xlim(pandas.Timestamp('2017-01-01'), pandas.Timestamp('2017-08-01'))\n",
    "plt.show()"
   ]
  },
  {
   "cell_type": "markdown",
   "id": "adc41eca-4187-42b7-96ee-db21e2c51d45",
   "metadata": {},
   "source": [
    "## Resample"
   ]
  },
  {
   "cell_type": "code",
   "execution_count": 75,
   "id": "f1105e3a-a8ea-443c-abbd-f9a10cb316bf",
   "metadata": {
    "tags": []
   },
   "outputs": [],
   "source": [
    "grid_resample = grid_ins[['time', 'doxy', 'SO', 'N', 'T', 'z', 'SA']]\n",
    "grid_resample = grid_resample.set_index('time').resample('7D').mean().dropna().reset_index()\n",
    "grid_resample_max = grid_ins[['time', 'doxy', 'SO', 'N', 'T', 'z', 'SA']]\n",
    "grid_resample_max = grid_resample_max.set_index('time').resample('7D').apply(lambda x: max(x,key=abs,default=np.NaN)).dropna().reset_index()"
   ]
  },
  {
   "cell_type": "code",
   "execution_count": 76,
   "id": "b715cdee-4dc4-4640-9e2b-6f07161d1c9d",
   "metadata": {
    "tags": []
   },
   "outputs": [
    {
     "data": {
      "text/html": [
       "<div>\n",
       "<style scoped>\n",
       "    .dataframe tbody tr th:only-of-type {\n",
       "        vertical-align: middle;\n",
       "    }\n",
       "\n",
       "    .dataframe tbody tr th {\n",
       "        vertical-align: top;\n",
       "    }\n",
       "\n",
       "    .dataframe thead th {\n",
       "        text-align: right;\n",
       "    }\n",
       "</style>\n",
       "<table border=\"1\" class=\"dataframe\">\n",
       "  <thead>\n",
       "    <tr style=\"text-align: right;\">\n",
       "      <th></th>\n",
       "      <th>time</th>\n",
       "      <th>doxy</th>\n",
       "      <th>SO</th>\n",
       "      <th>N</th>\n",
       "      <th>T</th>\n",
       "      <th>z</th>\n",
       "      <th>SA</th>\n",
       "    </tr>\n",
       "  </thead>\n",
       "  <tbody>\n",
       "    <tr>\n",
       "      <th>0</th>\n",
       "      <td>2016-12-14</td>\n",
       "      <td>241.971500</td>\n",
       "      <td>0.979083</td>\n",
       "      <td>5.187918</td>\n",
       "      <td>15.694493</td>\n",
       "      <td>20.0</td>\n",
       "      <td>33.514862</td>\n",
       "    </tr>\n",
       "    <tr>\n",
       "      <th>1</th>\n",
       "      <td>2016-12-21</td>\n",
       "      <td>242.440260</td>\n",
       "      <td>0.960138</td>\n",
       "      <td>5.411151</td>\n",
       "      <td>14.583128</td>\n",
       "      <td>20.0</td>\n",
       "      <td>33.555173</td>\n",
       "    </tr>\n",
       "    <tr>\n",
       "      <th>2</th>\n",
       "      <td>2017-01-25</td>\n",
       "      <td>250.788548</td>\n",
       "      <td>0.993761</td>\n",
       "      <td>2.504907</td>\n",
       "      <td>14.658572</td>\n",
       "      <td>20.0</td>\n",
       "      <td>33.486924</td>\n",
       "    </tr>\n",
       "    <tr>\n",
       "      <th>3</th>\n",
       "      <td>2017-02-01</td>\n",
       "      <td>247.284594</td>\n",
       "      <td>0.980292</td>\n",
       "      <td>5.151956</td>\n",
       "      <td>14.686198</td>\n",
       "      <td>20.0</td>\n",
       "      <td>33.420055</td>\n",
       "    </tr>\n",
       "    <tr>\n",
       "      <th>4</th>\n",
       "      <td>2017-03-08</td>\n",
       "      <td>258.254440</td>\n",
       "      <td>1.022077</td>\n",
       "      <td>5.562913</td>\n",
       "      <td>14.576843</td>\n",
       "      <td>20.0</td>\n",
       "      <td>33.469051</td>\n",
       "    </tr>\n",
       "  </tbody>\n",
       "</table>\n",
       "</div>"
      ],
      "text/plain": [
       "        time        doxy        SO         N          T     z         SA\n",
       "0 2016-12-14  241.971500  0.979083  5.187918  15.694493  20.0  33.514862\n",
       "1 2016-12-21  242.440260  0.960138  5.411151  14.583128  20.0  33.555173\n",
       "2 2017-01-25  250.788548  0.993761  2.504907  14.658572  20.0  33.486924\n",
       "3 2017-02-01  247.284594  0.980292  5.151956  14.686198  20.0  33.420055\n",
       "4 2017-03-08  258.254440  1.022077  5.562913  14.576843  20.0  33.469051"
      ]
     },
     "execution_count": 76,
     "metadata": {},
     "output_type": "execute_result"
    }
   ],
   "source": [
    "grid_resample.head()"
   ]
  },
  {
   "cell_type": "code",
   "execution_count": 77,
   "id": "18d0b1bd-5b41-4b3b-93c3-8a2b8d036a8b",
   "metadata": {
    "tags": []
   },
   "outputs": [
    {
     "data": {
      "text/html": [
       "<div>\n",
       "<style scoped>\n",
       "    .dataframe tbody tr th:only-of-type {\n",
       "        vertical-align: middle;\n",
       "    }\n",
       "\n",
       "    .dataframe tbody tr th {\n",
       "        vertical-align: top;\n",
       "    }\n",
       "\n",
       "    .dataframe thead th {\n",
       "        text-align: right;\n",
       "    }\n",
       "</style>\n",
       "<table border=\"1\" class=\"dataframe\">\n",
       "  <thead>\n",
       "    <tr style=\"text-align: right;\">\n",
       "      <th></th>\n",
       "      <th>time</th>\n",
       "      <th>doxy</th>\n",
       "      <th>SO</th>\n",
       "      <th>N</th>\n",
       "      <th>T</th>\n",
       "      <th>z</th>\n",
       "      <th>SA</th>\n",
       "    </tr>\n",
       "  </thead>\n",
       "  <tbody>\n",
       "    <tr>\n",
       "      <th>0</th>\n",
       "      <td>2016-12-14</td>\n",
       "      <td>254.551252</td>\n",
       "      <td>1.036203</td>\n",
       "      <td>10.477194</td>\n",
       "      <td>16.845917</td>\n",
       "      <td>30.0</td>\n",
       "      <td>33.571935</td>\n",
       "    </tr>\n",
       "    <tr>\n",
       "      <th>1</th>\n",
       "      <td>2016-12-21</td>\n",
       "      <td>256.737353</td>\n",
       "      <td>1.020499</td>\n",
       "      <td>10.683402</td>\n",
       "      <td>15.434455</td>\n",
       "      <td>30.0</td>\n",
       "      <td>33.578573</td>\n",
       "    </tr>\n",
       "    <tr>\n",
       "      <th>2</th>\n",
       "      <td>2017-01-25</td>\n",
       "      <td>261.365342</td>\n",
       "      <td>1.036299</td>\n",
       "      <td>7.464123</td>\n",
       "      <td>15.102636</td>\n",
       "      <td>30.0</td>\n",
       "      <td>33.545356</td>\n",
       "    </tr>\n",
       "    <tr>\n",
       "      <th>3</th>\n",
       "      <td>2017-02-01</td>\n",
       "      <td>271.433326</td>\n",
       "      <td>1.072125</td>\n",
       "      <td>10.690585</td>\n",
       "      <td>15.735200</td>\n",
       "      <td>30.0</td>\n",
       "      <td>33.559239</td>\n",
       "    </tr>\n",
       "    <tr>\n",
       "      <th>4</th>\n",
       "      <td>2017-03-08</td>\n",
       "      <td>309.040496</td>\n",
       "      <td>1.237211</td>\n",
       "      <td>13.925959</td>\n",
       "      <td>15.636583</td>\n",
       "      <td>30.0</td>\n",
       "      <td>33.624340</td>\n",
       "    </tr>\n",
       "  </tbody>\n",
       "</table>\n",
       "</div>"
      ],
      "text/plain": [
       "        time        doxy        SO          N          T     z         SA\n",
       "0 2016-12-14  254.551252  1.036203  10.477194  16.845917  30.0  33.571935\n",
       "1 2016-12-21  256.737353  1.020499  10.683402  15.434455  30.0  33.578573\n",
       "2 2017-01-25  261.365342  1.036299   7.464123  15.102636  30.0  33.545356\n",
       "3 2017-02-01  271.433326  1.072125  10.690585  15.735200  30.0  33.559239\n",
       "4 2017-03-08  309.040496  1.237211  13.925959  15.636583  30.0  33.624340"
      ]
     },
     "execution_count": 77,
     "metadata": {},
     "output_type": "execute_result"
    }
   ],
   "source": [
    "grid_resample_max.head()"
   ]
  },
  {
   "cell_type": "code",
   "execution_count": 78,
   "id": "611b88e1-a06c-478a-9832-aad0353f8389",
   "metadata": {
    "tags": []
   },
   "outputs": [
    {
     "data": {
      "text/plain": [
       "0.9999557805871544"
      ]
     },
     "execution_count": 78,
     "metadata": {},
     "output_type": "execute_result"
    }
   ],
   "source": [
    "grid_resample_max.SO.min()"
   ]
  },
  {
   "cell_type": "code",
   "execution_count": 74,
   "id": "26870d01-2177-48dc-a01a-9ddfa8ab2ac8",
   "metadata": {
    "tags": []
   },
   "outputs": [
    {
     "data": {
      "text/plain": [
       "(154, 327)"
      ]
     },
     "execution_count": 74,
     "metadata": {},
     "output_type": "execute_result"
    }
   ],
   "source": [
    "len(grid_resample), len(grid_resample_max)"
   ]
  },
  {
   "cell_type": "code",
   "execution_count": 51,
   "id": "e54712d7-8698-4ca4-8fc4-7c4e7378df06",
   "metadata": {
    "tags": []
   },
   "outputs": [
    {
     "data": {
      "image/png": "[encoded data removed]",
      "text/plain": [
       "<Figure size 1200x800 with 1 Axes>"
      ]
     },
     "metadata": {},
     "output_type": "display_data"
    }
   ],
   "source": [
    "grid = grid_resample\n",
    "sval = 15.0\n",
    "\n",
    "fig = plt.figure(figsize=(12,8))\n",
    "plt.clf()\n",
    "ax = plt.gca()\n",
    "\n",
    "ax.scatter(grid.time, grid.doxy, s=sval)\n",
    "\n",
    "# OC\n",
    "# Split by gt/lt\n",
    "sat_lim = 1.0\n",
    "saturated = grid.SO > sat_lim\n",
    "ax.scatter(grid.time[saturated], (grid.doxy/grid.SO)[saturated], s=sval, color='r', marker='*')\n",
    "ax.scatter(grid.time[~saturated], (grid.doxy/grid.SO)[~saturated], s=sval, color='pink', marker='*')\n",
    "\n",
    "# Episodes\n",
    "'''\n",
    "gd_clusters = (cstats.SO > 1.) & (cstats.lon > -119.) & (cstats.z < 50.)\n",
    "cluster_IDs = cstats[gd_clusters].cluster.values\n",
    "for cluster_ID in cluster_IDs:\n",
    "    in_cluster = grid_outliers.cluster == cluster_ID\n",
    "    # Take the mean time\n",
    "    ctime = grid_outliers[in_cluster].time.mean()\n",
    "    # \n",
    "    ax.axvline(ctime, color='r', ls='--')\n",
    "'''\n",
    "\n",
    "# N>XX\n",
    "N_lim = 9.\n",
    "idx_Nex = np.where(grid.N > N_lim)[0]\n",
    "for idx in idx_Nex:\n",
    "    ctime = grid.iloc[idx].time\n",
    "    ax.axvline(ctime, color='gray', ls=':')\n",
    "\n",
    "#ax.set_xlim(2017., 2019.)\n",
    "ax.set_xlim(pandas.Timestamp('2017-01-01'), pandas.Timestamp('2022-08-01'))\n",
    "ax.xaxis.set_major_locator(mpl.dates.YearLocator(base=1))\n",
    "\n",
    "plt.show()"
   ]
  },
  {
   "cell_type": "markdown",
   "id": "ac417237-9364-40de-a1df-94d2bd2199e5",
   "metadata": {},
   "source": [
    "## Winter 2020"
   ]
  },
  {
   "cell_type": "code",
   "execution_count": 52,
   "id": "ef6ac3e8-fb8d-466a-a9c0-6b1be139d22a",
   "metadata": {
    "tags": []
   },
   "outputs": [
    {
     "data": {
      "text/html": [
       "<div>\n",
       "<style scoped>\n",
       "    .dataframe tbody tr th:only-of-type {\n",
       "        vertical-align: middle;\n",
       "    }\n",
       "\n",
       "    .dataframe tbody tr th {\n",
       "        vertical-align: top;\n",
       "    }\n",
       "\n",
       "    .dataframe thead th {\n",
       "        text-align: right;\n",
       "    }\n",
       "</style>\n",
       "<table border=\"1\" class=\"dataframe\">\n",
       "  <thead>\n",
       "    <tr style=\"text-align: right;\">\n",
       "      <th></th>\n",
       "      <th>time</th>\n",
       "      <th>doxy</th>\n",
       "      <th>SO</th>\n",
       "      <th>N</th>\n",
       "      <th>T</th>\n",
       "      <th>z</th>\n",
       "      <th>SA</th>\n",
       "    </tr>\n",
       "  </thead>\n",
       "  <tbody>\n",
       "    <tr>\n",
       "      <th>67</th>\n",
       "      <td>2020-02-12</td>\n",
       "      <td>248.863672</td>\n",
       "      <td>0.996547</td>\n",
       "      <td>4.085104</td>\n",
       "      <td>15.138633</td>\n",
       "      <td>20.0</td>\n",
       "      <td>33.638227</td>\n",
       "    </tr>\n",
       "    <tr>\n",
       "      <th>68</th>\n",
       "      <td>2020-02-19</td>\n",
       "      <td>249.447959</td>\n",
       "      <td>1.002756</td>\n",
       "      <td>5.164965</td>\n",
       "      <td>15.340003</td>\n",
       "      <td>20.0</td>\n",
       "      <td>33.622870</td>\n",
       "    </tr>\n",
       "    <tr>\n",
       "      <th>69</th>\n",
       "      <td>2020-02-26</td>\n",
       "      <td>255.497919</td>\n",
       "      <td>1.029693</td>\n",
       "      <td>5.595081</td>\n",
       "      <td>15.449272</td>\n",
       "      <td>20.0</td>\n",
       "      <td>33.663921</td>\n",
       "    </tr>\n",
       "    <tr>\n",
       "      <th>70</th>\n",
       "      <td>2020-03-04</td>\n",
       "      <td>255.033165</td>\n",
       "      <td>1.027148</td>\n",
       "      <td>3.741156</td>\n",
       "      <td>15.434405</td>\n",
       "      <td>20.0</td>\n",
       "      <td>33.633420</td>\n",
       "    </tr>\n",
       "    <tr>\n",
       "      <th>71</th>\n",
       "      <td>2020-04-08</td>\n",
       "      <td>256.196694</td>\n",
       "      <td>1.023467</td>\n",
       "      <td>4.749464</td>\n",
       "      <td>15.012775</td>\n",
       "      <td>20.0</td>\n",
       "      <td>33.653732</td>\n",
       "    </tr>\n",
       "    <tr>\n",
       "      <th>72</th>\n",
       "      <td>2020-04-15</td>\n",
       "      <td>254.459866</td>\n",
       "      <td>1.018560</td>\n",
       "      <td>8.116430</td>\n",
       "      <td>14.980267</td>\n",
       "      <td>20.0</td>\n",
       "      <td>33.674313</td>\n",
       "    </tr>\n",
       "    <tr>\n",
       "      <th>73</th>\n",
       "      <td>2020-04-22</td>\n",
       "      <td>258.023481</td>\n",
       "      <td>1.038423</td>\n",
       "      <td>6.882458</td>\n",
       "      <td>15.376231</td>\n",
       "      <td>20.0</td>\n",
       "      <td>33.677503</td>\n",
       "    </tr>\n",
       "  </tbody>\n",
       "</table>\n",
       "</div>"
      ],
      "text/plain": [
       "         time        doxy        SO         N          T     z         SA\n",
       "67 2020-02-12  248.863672  0.996547  4.085104  15.138633  20.0  33.638227\n",
       "68 2020-02-19  249.447959  1.002756  5.164965  15.340003  20.0  33.622870\n",
       "69 2020-02-26  255.497919  1.029693  5.595081  15.449272  20.0  33.663921\n",
       "70 2020-03-04  255.033165  1.027148  3.741156  15.434405  20.0  33.633420\n",
       "71 2020-04-08  256.196694  1.023467  4.749464  15.012775  20.0  33.653732\n",
       "72 2020-04-15  254.459866  1.018560  8.116430  14.980267  20.0  33.674313\n",
       "73 2020-04-22  258.023481  1.038423  6.882458  15.376231  20.0  33.677503"
      ]
     },
     "execution_count": 52,
     "metadata": {},
     "output_type": "execute_result"
    }
   ],
   "source": [
    "w2020 = (grid_resample.time > pandas.Timestamp('2020-02-01')) & (\n",
    "    grid_resample.time < pandas.Timestamp('2020-05-01'))\n",
    "#\n",
    "grid_resample[w2020]"
   ]
  },
  {
   "cell_type": "markdown",
   "id": "8c77853f-0f15-4141-aa86-c5d7992a9139",
   "metadata": {},
   "source": [
    "## Summer 2017"
   ]
  },
  {
   "cell_type": "code",
   "execution_count": 45,
   "id": "ce3343b0-6f1c-4de3-bd52-ff80f17a2419",
   "metadata": {
    "tags": []
   },
   "outputs": [
    {
     "data": {
      "text/html": [
       "<div>\n",
       "<style scoped>\n",
       "    .dataframe tbody tr th:only-of-type {\n",
       "        vertical-align: middle;\n",
       "    }\n",
       "\n",
       "    .dataframe tbody tr th {\n",
       "        vertical-align: top;\n",
       "    }\n",
       "\n",
       "    .dataframe thead th {\n",
       "        text-align: right;\n",
       "    }\n",
       "</style>\n",
       "<table border=\"1\" class=\"dataframe\">\n",
       "  <thead>\n",
       "    <tr style=\"text-align: right;\">\n",
       "      <th></th>\n",
       "      <th>time</th>\n",
       "      <th>doxy</th>\n",
       "      <th>SO</th>\n",
       "      <th>N</th>\n",
       "      <th>T</th>\n",
       "      <th>z</th>\n",
       "      <th>SA</th>\n",
       "    </tr>\n",
       "  </thead>\n",
       "  <tbody>\n",
       "    <tr>\n",
       "      <th>10</th>\n",
       "      <td>2017-05-24</td>\n",
       "      <td>240.322405</td>\n",
       "      <td>0.951731</td>\n",
       "      <td>9.809560</td>\n",
       "      <td>14.410001</td>\n",
       "      <td>20.0000</td>\n",
       "      <td>33.632378</td>\n",
       "    </tr>\n",
       "    <tr>\n",
       "      <th>11</th>\n",
       "      <td>2017-05-31</td>\n",
       "      <td>248.011983</td>\n",
       "      <td>0.991274</td>\n",
       "      <td>9.450391</td>\n",
       "      <td>14.970403</td>\n",
       "      <td>20.0000</td>\n",
       "      <td>33.637658</td>\n",
       "    </tr>\n",
       "    <tr>\n",
       "      <th>12</th>\n",
       "      <td>2017-06-21</td>\n",
       "      <td>244.826003</td>\n",
       "      <td>0.985816</td>\n",
       "      <td>10.193658</td>\n",
       "      <td>15.378991</td>\n",
       "      <td>20.0000</td>\n",
       "      <td>33.620605</td>\n",
       "    </tr>\n",
       "    <tr>\n",
       "      <th>13</th>\n",
       "      <td>2017-06-28</td>\n",
       "      <td>251.183337</td>\n",
       "      <td>1.015559</td>\n",
       "      <td>10.828744</td>\n",
       "      <td>15.586107</td>\n",
       "      <td>20.0000</td>\n",
       "      <td>33.557114</td>\n",
       "    </tr>\n",
       "    <tr>\n",
       "      <th>14</th>\n",
       "      <td>2017-07-05</td>\n",
       "      <td>260.390238</td>\n",
       "      <td>1.043751</td>\n",
       "      <td>12.859383</td>\n",
       "      <td>14.955173</td>\n",
       "      <td>21.4375</td>\n",
       "      <td>33.560628</td>\n",
       "    </tr>\n",
       "  </tbody>\n",
       "</table>\n",
       "</div>"
      ],
      "text/plain": [
       "         time        doxy        SO          N          T        z         SA\n",
       "10 2017-05-24  240.322405  0.951731   9.809560  14.410001  20.0000  33.632378\n",
       "11 2017-05-31  248.011983  0.991274   9.450391  14.970403  20.0000  33.637658\n",
       "12 2017-06-21  244.826003  0.985816  10.193658  15.378991  20.0000  33.620605\n",
       "13 2017-06-28  251.183337  1.015559  10.828744  15.586107  20.0000  33.557114\n",
       "14 2017-07-05  260.390238  1.043751  12.859383  14.955173  21.4375  33.560628"
      ]
     },
     "execution_count": 45,
     "metadata": {},
     "output_type": "execute_result"
    }
   ],
   "source": [
    "s2017 = (grid_resample.time > pandas.Timestamp('2017-05-01')) & (\n",
    "    grid_resample.time < pandas.Timestamp('2017-09-01'))\n",
    "#\n",
    "grid_resample[s2017]"
   ]
  },
  {
   "cell_type": "markdown",
   "id": "81c48715-0fc9-4d93-9772-41852490591d",
   "metadata": {},
   "source": [
    "## Explore Summer 2018"
   ]
  },
  {
   "cell_type": "code",
   "execution_count": 44,
   "id": "6e8919e8-1840-4b1b-bf40-9ea7e68f34e2",
   "metadata": {
    "tags": []
   },
   "outputs": [
    {
     "data": {
      "text/html": [
       "<div>\n",
       "<style scoped>\n",
       "    .dataframe tbody tr th:only-of-type {\n",
       "        vertical-align: middle;\n",
       "    }\n",
       "\n",
       "    .dataframe tbody tr th {\n",
       "        vertical-align: top;\n",
       "    }\n",
       "\n",
       "    .dataframe thead th {\n",
       "        text-align: right;\n",
       "    }\n",
       "</style>\n",
       "<table border=\"1\" class=\"dataframe\">\n",
       "  <thead>\n",
       "    <tr style=\"text-align: right;\">\n",
       "      <th></th>\n",
       "      <th>time</th>\n",
       "      <th>doxy</th>\n",
       "      <th>SO</th>\n",
       "      <th>N</th>\n",
       "      <th>T</th>\n",
       "      <th>z</th>\n",
       "      <th>SA</th>\n",
       "    </tr>\n",
       "  </thead>\n",
       "  <tbody>\n",
       "    <tr>\n",
       "      <th>27</th>\n",
       "      <td>2018-06-06</td>\n",
       "      <td>238.218345</td>\n",
       "      <td>0.962596</td>\n",
       "      <td>10.248119</td>\n",
       "      <td>15.366556</td>\n",
       "      <td>20.000000</td>\n",
       "      <td>33.797932</td>\n",
       "    </tr>\n",
       "    <tr>\n",
       "      <th>28</th>\n",
       "      <td>2018-06-13</td>\n",
       "      <td>240.379490</td>\n",
       "      <td>0.959342</td>\n",
       "      <td>12.850296</td>\n",
       "      <td>14.479609</td>\n",
       "      <td>20.000000</td>\n",
       "      <td>33.770520</td>\n",
       "    </tr>\n",
       "    <tr>\n",
       "      <th>29</th>\n",
       "      <td>2018-06-20</td>\n",
       "      <td>253.029920</td>\n",
       "      <td>1.018316</td>\n",
       "      <td>13.058065</td>\n",
       "      <td>15.131495</td>\n",
       "      <td>20.973451</td>\n",
       "      <td>33.761712</td>\n",
       "    </tr>\n",
       "    <tr>\n",
       "      <th>30</th>\n",
       "      <td>2018-06-27</td>\n",
       "      <td>248.461070</td>\n",
       "      <td>1.002483</td>\n",
       "      <td>12.688027</td>\n",
       "      <td>15.045781</td>\n",
       "      <td>20.116279</td>\n",
       "      <td>33.775810</td>\n",
       "    </tr>\n",
       "    <tr>\n",
       "      <th>31</th>\n",
       "      <td>2018-08-01</td>\n",
       "      <td>265.194734</td>\n",
       "      <td>1.101328</td>\n",
       "      <td>11.745944</td>\n",
       "      <td>17.004724</td>\n",
       "      <td>24.545455</td>\n",
       "      <td>33.715371</td>\n",
       "    </tr>\n",
       "    <tr>\n",
       "      <th>32</th>\n",
       "      <td>2018-08-08</td>\n",
       "      <td>262.129637</td>\n",
       "      <td>1.081167</td>\n",
       "      <td>12.060396</td>\n",
       "      <td>16.613936</td>\n",
       "      <td>23.943662</td>\n",
       "      <td>33.725739</td>\n",
       "    </tr>\n",
       "    <tr>\n",
       "      <th>33</th>\n",
       "      <td>2018-08-15</td>\n",
       "      <td>258.549017</td>\n",
       "      <td>1.064387</td>\n",
       "      <td>10.493393</td>\n",
       "      <td>16.565817</td>\n",
       "      <td>22.631579</td>\n",
       "      <td>33.699059</td>\n",
       "    </tr>\n",
       "  </tbody>\n",
       "</table>\n",
       "</div>"
      ],
      "text/plain": [
       "         time        doxy        SO          N          T          z  \\\n",
       "27 2018-06-06  238.218345  0.962596  10.248119  15.366556  20.000000   \n",
       "28 2018-06-13  240.379490  0.959342  12.850296  14.479609  20.000000   \n",
       "29 2018-06-20  253.029920  1.018316  13.058065  15.131495  20.973451   \n",
       "30 2018-06-27  248.461070  1.002483  12.688027  15.045781  20.116279   \n",
       "31 2018-08-01  265.194734  1.101328  11.745944  17.004724  24.545455   \n",
       "32 2018-08-08  262.129637  1.081167  12.060396  16.613936  23.943662   \n",
       "33 2018-08-15  258.549017  1.064387  10.493393  16.565817  22.631579   \n",
       "\n",
       "           SA  \n",
       "27  33.797932  \n",
       "28  33.770520  \n",
       "29  33.761712  \n",
       "30  33.775810  \n",
       "31  33.715371  \n",
       "32  33.725739  \n",
       "33  33.699059  "
      ]
     },
     "execution_count": 44,
     "metadata": {},
     "output_type": "execute_result"
    }
   ],
   "source": [
    "s2018 = (grid_resample.time > pandas.Timestamp('2018-05-01')) & (\n",
    "    grid_resample.time < pandas.Timestamp('2018-09-01'))\n",
    "#\n",
    "grid_resample[s2018]"
   ]
  },
  {
   "cell_type": "markdown",
   "id": "c62ea6bd-84ae-41f9-90c8-6c68273d38c0",
   "metadata": {},
   "source": [
    "## Spring 2021"
   ]
  },
  {
   "cell_type": "code",
   "execution_count": 43,
   "id": "a32eab3e-41df-4b14-b8a9-22da9baf82b4",
   "metadata": {
    "tags": []
   },
   "outputs": [
    {
     "data": {
      "text/html": [
       "<div>\n",
       "<style scoped>\n",
       "    .dataframe tbody tr th:only-of-type {\n",
       "        vertical-align: middle;\n",
       "    }\n",
       "\n",
       "    .dataframe tbody tr th {\n",
       "        vertical-align: top;\n",
       "    }\n",
       "\n",
       "    .dataframe thead th {\n",
       "        text-align: right;\n",
       "    }\n",
       "</style>\n",
       "<table border=\"1\" class=\"dataframe\">\n",
       "  <thead>\n",
       "    <tr style=\"text-align: right;\">\n",
       "      <th></th>\n",
       "      <th>time</th>\n",
       "      <th>doxy</th>\n",
       "      <th>SO</th>\n",
       "      <th>N</th>\n",
       "      <th>T</th>\n",
       "      <th>z</th>\n",
       "      <th>SA</th>\n",
       "    </tr>\n",
       "  </thead>\n",
       "  <tbody>\n",
       "    <tr>\n",
       "      <th>95</th>\n",
       "      <td>2021-03-24</td>\n",
       "      <td>252.861500</td>\n",
       "      <td>0.990460</td>\n",
       "      <td>5.104572</td>\n",
       "      <td>13.978396</td>\n",
       "      <td>20.0</td>\n",
       "      <td>33.736065</td>\n",
       "    </tr>\n",
       "    <tr>\n",
       "      <th>96</th>\n",
       "      <td>2021-03-31</td>\n",
       "      <td>217.018900</td>\n",
       "      <td>0.843218</td>\n",
       "      <td>9.738898</td>\n",
       "      <td>13.295688</td>\n",
       "      <td>20.0</td>\n",
       "      <td>33.760159</td>\n",
       "    </tr>\n",
       "    <tr>\n",
       "      <th>97</th>\n",
       "      <td>2021-04-07</td>\n",
       "      <td>225.064320</td>\n",
       "      <td>0.882555</td>\n",
       "      <td>10.392769</td>\n",
       "      <td>13.840391</td>\n",
       "      <td>20.0</td>\n",
       "      <td>33.726371</td>\n",
       "    </tr>\n",
       "    <tr>\n",
       "      <th>98</th>\n",
       "      <td>2021-04-14</td>\n",
       "      <td>200.278704</td>\n",
       "      <td>0.772177</td>\n",
       "      <td>10.370310</td>\n",
       "      <td>12.830250</td>\n",
       "      <td>20.0</td>\n",
       "      <td>33.788678</td>\n",
       "    </tr>\n",
       "    <tr>\n",
       "      <th>99</th>\n",
       "      <td>2021-04-21</td>\n",
       "      <td>229.271732</td>\n",
       "      <td>0.899338</td>\n",
       "      <td>10.306009</td>\n",
       "      <td>13.851107</td>\n",
       "      <td>20.0</td>\n",
       "      <td>33.720069</td>\n",
       "    </tr>\n",
       "    <tr>\n",
       "      <th>100</th>\n",
       "      <td>2021-04-28</td>\n",
       "      <td>238.334196</td>\n",
       "      <td>0.936764</td>\n",
       "      <td>9.026291</td>\n",
       "      <td>14.064103</td>\n",
       "      <td>20.0</td>\n",
       "      <td>33.799112</td>\n",
       "    </tr>\n",
       "  </tbody>\n",
       "</table>\n",
       "</div>"
      ],
      "text/plain": [
       "          time        doxy        SO          N          T     z         SA\n",
       "95  2021-03-24  252.861500  0.990460   5.104572  13.978396  20.0  33.736065\n",
       "96  2021-03-31  217.018900  0.843218   9.738898  13.295688  20.0  33.760159\n",
       "97  2021-04-07  225.064320  0.882555  10.392769  13.840391  20.0  33.726371\n",
       "98  2021-04-14  200.278704  0.772177  10.370310  12.830250  20.0  33.788678\n",
       "99  2021-04-21  229.271732  0.899338  10.306009  13.851107  20.0  33.720069\n",
       "100 2021-04-28  238.334196  0.936764   9.026291  14.064103  20.0  33.799112"
      ]
     },
     "execution_count": 43,
     "metadata": {},
     "output_type": "execute_result"
    }
   ],
   "source": [
    "sp2021 = (grid_resample.time > pandas.Timestamp('2021-03-01')) & (\n",
    "    grid_resample.time < pandas.Timestamp('2021-05-01'))\n",
    "#\n",
    "grid_resample[sp2021]"
   ]
  },
  {
   "cell_type": "markdown",
   "id": "3441593b-739b-4ba0-a7bf-b9d649a5812d",
   "metadata": {},
   "source": [
    "----"
   ]
  },
  {
   "cell_type": "markdown",
   "id": "8d5b8ef2-b09c-446c-95d2-288e9edb1778",
   "metadata": {
    "tags": []
   },
   "source": [
    "# N and T"
   ]
  },
  {
   "cell_type": "code",
   "execution_count": 91,
   "id": "def0da47-770b-4831-94e9-49388bd6a30d",
   "metadata": {
    "tags": []
   },
   "outputs": [
    {
     "data": {
      "image/png": "[encoded data removed]",
      "text/plain": [
       "<Figure size 1200x800 with 1 Axes>"
      ]
     },
     "metadata": {},
     "output_type": "display_data"
    }
   ],
   "source": [
    "grid = grid_resample_max\n",
    "sval = 15.0\n",
    "\n",
    "fig = plt.figure(figsize=(12,8))\n",
    "plt.clf()\n",
    "ax = plt.gca()\n",
    "\n",
    "#ax.scatter(grid.time, grid.doxy, s=sval)\n",
    "\n",
    "# OC\n",
    "# Split by gt/lt\n",
    "sat_lim = 1.1\n",
    "#saturated = grid_resample_max.SO > sat_lim\n",
    "saturated = grid.SO > sat_lim\n",
    "ax.scatter(grid.time[saturated], grid.N[saturated], s=sval, color='green', marker='*')\n",
    "ax.scatter(grid.time[~saturated], grid.N[~saturated], s=sval, color='lightgreen', marker='*')\n",
    "\n",
    "ax.set_xlim(pandas.Timestamp('2017-01-01'), pandas.Timestamp('2023-08-01'))\n",
    "ax.xaxis.set_major_locator(mpl.dates.YearLocator(base=1))\n",
    "\n",
    "ax.set_ylabel('Buoyancy Frequency')\n",
    "\n",
    "plt.show()"
   ]
  },
  {
   "cell_type": "code",
   "execution_count": 92,
   "id": "f302a087-b987-470c-ba3f-fd99dc84462a",
   "metadata": {
    "tags": []
   },
   "outputs": [
    {
     "data": {
      "image/png": "[encoded data removed]",
      "text/plain": [
       "<Figure size 1200x800 with 1 Axes>"
      ]
     },
     "metadata": {},
     "output_type": "display_data"
    }
   ],
   "source": [
    "grid = grid_resample_max\n",
    "sval = 15.0\n",
    "\n",
    "fig = plt.figure(figsize=(12,8))\n",
    "plt.clf()\n",
    "ax = plt.gca()\n",
    "\n",
    "#ax.scatter(grid.time, grid.doxy, s=sval)\n",
    "\n",
    "# OC\n",
    "# Split by gt/lt\n",
    "sat_lim = 1.1\n",
    "#saturated = grid_resample_max.SO > sat_lim\n",
    "saturated = grid.SO > sat_lim\n",
    "ax.scatter(grid.time[saturated], grid['T'][saturated], s=sval, color='blue', marker='*')\n",
    "ax.scatter(grid.time[~saturated], grid['T'][~saturated], s=sval, color='cyan', marker='*')\n",
    "\n",
    "ax.set_xlim(pandas.Timestamp('2017-01-01'), pandas.Timestamp('2023-08-01'))\n",
    "ax.xaxis.set_major_locator(mpl.dates.YearLocator(base=1))\n",
    "\n",
    "ax.set_ylabel('Temperature')\n",
    "\n",
    "plt.show()"
   ]
  },
  {
   "cell_type": "code",
   "execution_count": null,
   "id": "d5b06e2e-34ec-406f-b597-0a702db4834d",
   "metadata": {},
   "outputs": [],
   "source": []
  }
 ],
 "metadata": {
  "kernelspec": {
   "display_name": "Python 3 (ipykernel)",
   "language": "python",
   "name": "python3"
  },
  "language_info": {
   "codemirror_mode": {
    "name": "ipython",
    "version": 3
   },
   "file_extension": ".py",
   "mimetype": "text/x-python",
   "name": "python",
   "nbconvert_exporter": "python",
   "pygments_lexer": "ipython3",
   "version": "3.10.9"
  }
 },
 "nbformat": 4,
 "nbformat_minor": 5
}
