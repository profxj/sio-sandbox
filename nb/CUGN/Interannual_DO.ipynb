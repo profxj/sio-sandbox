{
 "cells": [
  {
   "cell_type": "markdown",
   "id": "b47cea93-5b47-4bda-a768-6c910ebc383e",
   "metadata": {},
   "source": [
    "# InterAnnual DO"
   ]
  },
  {
   "cell_type": "code",
   "execution_count": 1,
   "id": "8540f819-7bf9-4e9a-9494-bf49a38fc705",
   "metadata": {},
   "outputs": [],
   "source": [
    "# imports\n",
    "from importlib import reload\n",
    "\n",
    "import numpy as np\n",
    "from scipy.interpolate import interp1d\n",
    "\n",
    "import pandas\n",
    "\n",
    "from matplotlib import pyplot as plt\n",
    "import matplotlib as mpl\n",
    "import matplotlib.gridspec as gridspec\n",
    "\n",
    "import seaborn as sns\n",
    "\n",
    "from siosandbox.cugn import clusters\n",
    "from siosandbox.cugn import grid_utils\n",
    "from siosandbox.cugn import io as cugn_io\n",
    "from siosandbox import plot_utils\n",
    "\n",
    "from gsw import conversions, density\n",
    "import gsw"
   ]
  },
  {
   "cell_type": "markdown",
   "id": "a47dd1fa-ea7c-4ee5-92cd-ff9914876d4d",
   "metadata": {},
   "source": [
    "# Load"
   ]
  },
  {
   "cell_type": "code",
   "execution_count": 2,
   "id": "a80592b8-459d-486b-8315-27c78e35e190",
   "metadata": {},
   "outputs": [],
   "source": [
    "line = '90'\n",
    "\n",
    "# Load\n",
    "items = cugn_io.load_line(line)\n",
    "grid_tbl = items['grid_tbl']\n",
    "ds = items['ds']\n",
    "\n",
    "# Fill\n",
    "grid_utils.fill_in_grid(grid_tbl, ds)"
   ]
  },
  {
   "cell_type": "markdown",
   "id": "59cb5124-7389-4a2b-9372-85f7d2a00b1d",
   "metadata": {},
   "source": [
    "# In-shore + Shallow"
   ]
  },
  {
   "cell_type": "code",
   "execution_count": 15,
   "id": "c56f4119-4b6b-41a8-b599-e4f738c12deb",
   "metadata": {},
   "outputs": [
    {
     "data": {
      "text/plain": [
       "20073"
      ]
     },
     "execution_count": 15,
     "metadata": {},
     "output_type": "execute_result"
    }
   ],
   "source": [
    "cut_in = grid_tbl.lon > -119.\n",
    "cut_depth = grid_tbl.z < 40.\n",
    "#\n",
    "grid_ins = grid_tbl[cut_depth & cut_in]\n",
    "len(grid_ins)"
   ]
  },
  {
   "cell_type": "code",
   "execution_count": 16,
   "id": "1a6e7262-0541-4695-a07c-81722dd7d549",
   "metadata": {},
   "outputs": [
    {
     "data": {
      "text/html": [
       "<div>\n",
       "<style scoped>\n",
       "    .dataframe tbody tr th:only-of-type {\n",
       "        vertical-align: middle;\n",
       "    }\n",
       "\n",
       "    .dataframe tbody tr th {\n",
       "        vertical-align: top;\n",
       "    }\n",
       "\n",
       "    .dataframe thead th {\n",
       "        text-align: right;\n",
       "    }\n",
       "</style>\n",
       "<table border=\"1\" class=\"dataframe\">\n",
       "  <thead>\n",
       "    <tr style=\"text-align: right;\">\n",
       "      <th></th>\n",
       "      <th>depth</th>\n",
       "      <th>profile</th>\n",
       "      <th>row</th>\n",
       "      <th>col</th>\n",
       "      <th>doxy</th>\n",
       "      <th>doxy_p</th>\n",
       "      <th>time</th>\n",
       "      <th>lon</th>\n",
       "      <th>z</th>\n",
       "      <th>CT</th>\n",
       "      <th>SA</th>\n",
       "      <th>sigma0</th>\n",
       "      <th>SO</th>\n",
       "      <th>N</th>\n",
       "      <th>chla</th>\n",
       "      <th>T</th>\n",
       "    </tr>\n",
       "  </thead>\n",
       "  <tbody>\n",
       "    <tr>\n",
       "      <th>0</th>\n",
       "      <td>0</td>\n",
       "      <td>32173</td>\n",
       "      <td>17</td>\n",
       "      <td>16</td>\n",
       "      <td>252.912731</td>\n",
       "      <td>88.939052</td>\n",
       "      <td>2016-12-14 19:52:21</td>\n",
       "      <td>-117.460120</td>\n",
       "      <td>10</td>\n",
       "      <td>16.249462</td>\n",
       "      <td>33.523891</td>\n",
       "      <td>24.446819</td>\n",
       "      <td>1.033524</td>\n",
       "      <td>6.383201</td>\n",
       "      <td>0.169041</td>\n",
       "      <td>16.217727</td>\n",
       "    </tr>\n",
       "    <tr>\n",
       "      <th>1</th>\n",
       "      <td>0</td>\n",
       "      <td>32174</td>\n",
       "      <td>17</td>\n",
       "      <td>16</td>\n",
       "      <td>252.951126</td>\n",
       "      <td>89.164786</td>\n",
       "      <td>2016-12-14 20:47:19</td>\n",
       "      <td>-117.463420</td>\n",
       "      <td>10</td>\n",
       "      <td>16.214990</td>\n",
       "      <td>33.522302</td>\n",
       "      <td>24.453442</td>\n",
       "      <td>1.032982</td>\n",
       "      <td>5.148775</td>\n",
       "      <td>0.176322</td>\n",
       "      <td>16.183300</td>\n",
       "    </tr>\n",
       "    <tr>\n",
       "      <th>2</th>\n",
       "      <td>0</td>\n",
       "      <td>32175</td>\n",
       "      <td>17</td>\n",
       "      <td>17</td>\n",
       "      <td>253.346587</td>\n",
       "      <td>80.334728</td>\n",
       "      <td>2016-12-14 21:38:13</td>\n",
       "      <td>-117.465688</td>\n",
       "      <td>10</td>\n",
       "      <td>16.158025</td>\n",
       "      <td>33.511012</td>\n",
       "      <td>24.457791</td>\n",
       "      <td>1.033375</td>\n",
       "      <td>6.983573</td>\n",
       "      <td>0.252030</td>\n",
       "      <td>16.126182</td>\n",
       "    </tr>\n",
       "    <tr>\n",
       "      <th>3</th>\n",
       "      <td>0</td>\n",
       "      <td>32176</td>\n",
       "      <td>17</td>\n",
       "      <td>17</td>\n",
       "      <td>254.551252</td>\n",
       "      <td>86.192469</td>\n",
       "      <td>2016-12-14 22:50:08</td>\n",
       "      <td>-117.471270</td>\n",
       "      <td>10</td>\n",
       "      <td>16.057278</td>\n",
       "      <td>33.502061</td>\n",
       "      <td>24.473762</td>\n",
       "      <td>1.036203</td>\n",
       "      <td>5.451822</td>\n",
       "      <td>0.431141</td>\n",
       "      <td>16.025455</td>\n",
       "    </tr>\n",
       "    <tr>\n",
       "      <th>4</th>\n",
       "      <td>0</td>\n",
       "      <td>32177</td>\n",
       "      <td>17</td>\n",
       "      <td>16</td>\n",
       "      <td>251.471860</td>\n",
       "      <td>85.101580</td>\n",
       "      <td>2016-12-15 00:11:51</td>\n",
       "      <td>-117.477442</td>\n",
       "      <td>10</td>\n",
       "      <td>16.372075</td>\n",
       "      <td>33.522704</td>\n",
       "      <td>24.417984</td>\n",
       "      <td>1.030055</td>\n",
       "      <td>5.484878</td>\n",
       "      <td>0.267575</td>\n",
       "      <td>16.340000</td>\n",
       "    </tr>\n",
       "  </tbody>\n",
       "</table>\n",
       "</div>"
      ],
      "text/plain": [
       "   depth  profile  row  col        doxy     doxy_p                time   \n",
       "0      0    32173   17   16  252.912731  88.939052 2016-12-14 19:52:21  \\\n",
       "1      0    32174   17   16  252.951126  89.164786 2016-12-14 20:47:19   \n",
       "2      0    32175   17   17  253.346587  80.334728 2016-12-14 21:38:13   \n",
       "3      0    32176   17   17  254.551252  86.192469 2016-12-14 22:50:08   \n",
       "4      0    32177   17   16  251.471860  85.101580 2016-12-15 00:11:51   \n",
       "\n",
       "          lon   z         CT         SA     sigma0        SO         N   \n",
       "0 -117.460120  10  16.249462  33.523891  24.446819  1.033524  6.383201  \\\n",
       "1 -117.463420  10  16.214990  33.522302  24.453442  1.032982  5.148775   \n",
       "2 -117.465688  10  16.158025  33.511012  24.457791  1.033375  6.983573   \n",
       "3 -117.471270  10  16.057278  33.502061  24.473762  1.036203  5.451822   \n",
       "4 -117.477442  10  16.372075  33.522704  24.417984  1.030055  5.484878   \n",
       "\n",
       "       chla          T  \n",
       "0  0.169041  16.217727  \n",
       "1  0.176322  16.183300  \n",
       "2  0.252030  16.126182  \n",
       "3  0.431141  16.025455  \n",
       "4  0.267575  16.340000  "
      ]
     },
     "execution_count": 16,
     "metadata": {},
     "output_type": "execute_result"
    }
   ],
   "source": [
    "grid_ins.head()"
   ]
  },
  {
   "cell_type": "markdown",
   "id": "a3cc1fb8-a930-46f8-b0a5-aca958be02da",
   "metadata": {},
   "source": [
    "# Time series"
   ]
  },
  {
   "cell_type": "code",
   "execution_count": 17,
   "id": "d692354d-074d-4681-b234-f391d8b82ed7",
   "metadata": {},
   "outputs": [
    {
     "data": {
      "image/png": "[encoded data removed]",
      "text/plain": [
       "<Figure size 640x480 with 1 Axes>"
      ]
     },
     "metadata": {},
     "output_type": "display_data"
    }
   ],
   "source": [
    "plt.clf()\n",
    "ax = plt.gca()\n",
    "\n",
    "ax.scatter(grid_ins.time, grid_ins.doxy, s=0.1)\n",
    "\n",
    "# OC\n",
    "ax.scatter(grid_ins.time, grid_ins.doxy/grid_ins.SO, s=0.1, color='g')\n",
    "\n",
    "#ax.set_xlim(2017., 2019.)\n",
    "ax.set_xlim(pandas.Timestamp('2017-01-01'), pandas.Timestamp('2017-08-01'))\n",
    "plt.show()"
   ]
  },
  {
   "cell_type": "markdown",
   "id": "adc41eca-4187-42b7-96ee-db21e2c51d45",
   "metadata": {},
   "source": [
    "## Resample"
   ]
  },
  {
   "cell_type": "code",
   "execution_count": 21,
   "id": "f1105e3a-a8ea-443c-abbd-f9a10cb316bf",
   "metadata": {},
   "outputs": [],
   "source": [
    "grid_resample = grid_ins[['time', 'doxy', 'SO']]\n",
    "grid_resample = grid_resample.set_index('time').resample('7D').mean().dropna().reset_index()"
   ]
  },
  {
   "cell_type": "code",
   "execution_count": 22,
   "id": "b715cdee-4dc4-4640-9e2b-6f07161d1c9d",
   "metadata": {},
   "outputs": [
    {
     "data": {
      "text/html": [
       "<div>\n",
       "<style scoped>\n",
       "    .dataframe tbody tr th:only-of-type {\n",
       "        vertical-align: middle;\n",
       "    }\n",
       "\n",
       "    .dataframe tbody tr th {\n",
       "        vertical-align: top;\n",
       "    }\n",
       "\n",
       "    .dataframe thead th {\n",
       "        text-align: right;\n",
       "    }\n",
       "</style>\n",
       "<table border=\"1\" class=\"dataframe\">\n",
       "  <thead>\n",
       "    <tr style=\"text-align: right;\">\n",
       "      <th></th>\n",
       "      <th>time</th>\n",
       "      <th>doxy</th>\n",
       "      <th>SO</th>\n",
       "    </tr>\n",
       "  </thead>\n",
       "  <tbody>\n",
       "    <tr>\n",
       "      <th>0</th>\n",
       "      <td>2016-12-14</td>\n",
       "      <td>241.971500</td>\n",
       "      <td>0.979083</td>\n",
       "    </tr>\n",
       "    <tr>\n",
       "      <th>1</th>\n",
       "      <td>2016-12-21</td>\n",
       "      <td>242.440260</td>\n",
       "      <td>0.960138</td>\n",
       "    </tr>\n",
       "    <tr>\n",
       "      <th>2</th>\n",
       "      <td>2017-01-25</td>\n",
       "      <td>250.788548</td>\n",
       "      <td>0.993761</td>\n",
       "    </tr>\n",
       "    <tr>\n",
       "      <th>3</th>\n",
       "      <td>2017-02-01</td>\n",
       "      <td>247.284594</td>\n",
       "      <td>0.980292</td>\n",
       "    </tr>\n",
       "    <tr>\n",
       "      <th>4</th>\n",
       "      <td>2017-03-08</td>\n",
       "      <td>258.254440</td>\n",
       "      <td>1.022077</td>\n",
       "    </tr>\n",
       "  </tbody>\n",
       "</table>\n",
       "</div>"
      ],
      "text/plain": [
       "        time        doxy        SO\n",
       "0 2016-12-14  241.971500  0.979083\n",
       "1 2016-12-21  242.440260  0.960138\n",
       "2 2017-01-25  250.788548  0.993761\n",
       "3 2017-02-01  247.284594  0.980292\n",
       "4 2017-03-08  258.254440  1.022077"
      ]
     },
     "execution_count": 22,
     "metadata": {},
     "output_type": "execute_result"
    }
   ],
   "source": [
    "grid_resample.head()"
   ]
  },
  {
   "cell_type": "code",
   "execution_count": 30,
   "id": "e54712d7-8698-4ca4-8fc4-7c4e7378df06",
   "metadata": {},
   "outputs": [
    {
     "data": {
      "image/png": "[encoded data removed]",
      "text/plain": [
       "<Figure size 640x480 with 1 Axes>"
      ]
     },
     "metadata": {},
     "output_type": "display_data"
    }
   ],
   "source": [
    "grid = grid_resample\n",
    "sval = 15.0\n",
    "plt.clf()\n",
    "ax = plt.gca()\n",
    "\n",
    "ax.scatter(grid.time, grid.doxy, s=sval)\n",
    "\n",
    "# OC\n",
    "ax.scatter(grid.time, grid.doxy/grid.SO, s=sval, color='r', marker='*')\n",
    "\n",
    "#ax.set_xlim(2017., 2019.)\n",
    "ax.set_xlim(pandas.Timestamp('2017-01-01'), pandas.Timestamp('2021-08-01'))\n",
    "plt.show()"
   ]
  },
  {
   "cell_type": "code",
   "execution_count": null,
   "id": "5774da89-10d8-4568-90b1-4de58087e453",
   "metadata": {},
   "outputs": [],
   "source": []
  }
 ],
 "metadata": {
  "kernelspec": {
   "display_name": "Python 3 (ipykernel)",
   "language": "python",
   "name": "python3"
  },
  "language_info": {
   "codemirror_mode": {
    "name": "ipython",
    "version": 3
   },
   "file_extension": ".py",
   "mimetype": "text/x-python",
   "name": "python",
   "nbconvert_exporter": "python",
   "pygments_lexer": "ipython3",
   "version": "3.10.10"
  }
 },
 "nbformat": 4,
 "nbformat_minor": 5
}
