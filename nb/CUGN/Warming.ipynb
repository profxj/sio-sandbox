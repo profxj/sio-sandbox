{
 "cells": [
  {
   "cell_type": "markdown",
   "id": "2efa18d1-bf30-422d-845b-1087b00c1025",
   "metadata": {},
   "source": [
    "# Warming"
   ]
  },
  {
   "cell_type": "code",
   "execution_count": 43,
   "id": "878e4c98-debf-41fb-b83b-ffab38f193db",
   "metadata": {
    "tags": []
   },
   "outputs": [],
   "source": [
    "# imports\n",
    "from importlib import reload\n",
    "\n",
    "import numpy as np\n",
    "from scipy.interpolate import interp1d\n",
    "\n",
    "import pandas\n",
    "\n",
    "from matplotlib import pyplot as plt\n",
    "import matplotlib as mpl\n",
    "import matplotlib.gridspec as gridspec\n",
    "\n",
    "import seaborn as sns\n",
    "\n",
    "from siosandbox.cugn import clusters\n",
    "from siosandbox.cugn import grid_utils\n",
    "from siosandbox.cugn import io as cugn_io\n",
    "from siosandbox import plot_utils\n",
    "\n",
    "from gsw import conversions, density\n",
    "import gsw"
   ]
  },
  {
   "cell_type": "markdown",
   "id": "e6e3acd3-0a8f-4b9b-80da-28016adf4422",
   "metadata": {},
   "source": [
    "# Load"
   ]
  },
  {
   "cell_type": "code",
   "execution_count": 4,
   "id": "67164544-fdbd-41e2-a2b5-7d148cfbe85a",
   "metadata": {
    "tags": []
   },
   "outputs": [],
   "source": [
    "line = '90'\n",
    "\n",
    "# Load\n",
    "items = cugn_io.load_line(line)\n",
    "grid_tbl = items['grid_tbl']\n",
    "ds = items['ds']\n",
    "\n",
    "# Fill\n",
    "grid_utils.fill_in_grid(grid_tbl, ds)"
   ]
  },
  {
   "cell_type": "markdown",
   "id": "d1c68ace-8132-4831-8bfd-55adbeae8ede",
   "metadata": {},
   "source": [
    "# Quick stats"
   ]
  },
  {
   "cell_type": "code",
   "execution_count": 7,
   "id": "01fd5f23-75f5-4a51-a1a1-9a787d8079cc",
   "metadata": {
    "tags": []
   },
   "outputs": [],
   "source": [
    "highSO = grid_tbl.SO > 1.05"
   ]
  },
  {
   "cell_type": "code",
   "execution_count": 8,
   "id": "eb23f637-e910-4e2a-8f63-ac74b1e28b82",
   "metadata": {
    "tags": []
   },
   "outputs": [],
   "source": [
    "highSO_tbl = grid_tbl[highSO]"
   ]
  },
  {
   "cell_type": "code",
   "execution_count": 10,
   "id": "e6d44548-586a-4dbe-bc33-42144f47db3c",
   "metadata": {
    "tags": []
   },
   "outputs": [
    {
     "data": {
      "text/plain": [
       "(33.66594681984536, 16.14458515958494)"
      ]
     },
     "execution_count": 10,
     "metadata": {},
     "output_type": "execute_result"
    }
   ],
   "source": [
    "np.nanmedian(highSO_tbl.SA),  np.nanmedian(highSO_tbl.CT) "
   ]
  },
  {
   "cell_type": "markdown",
   "id": "f8547653-38df-4290-adcc-d1c3df47c2fb",
   "metadata": {},
   "source": [
    "# SO curve"
   ]
  },
  {
   "cell_type": "markdown",
   "id": "98dd641d-b6b8-4100-9a1e-30e1e1431f8d",
   "metadata": {},
   "source": [
    "## Static items"
   ]
  },
  {
   "cell_type": "code",
   "execution_count": 12,
   "id": "bcfd79c8-36f8-4df2-b95d-85bea9ac0624",
   "metadata": {
    "tags": []
   },
   "outputs": [],
   "source": [
    "lat = np.nanmedian(ds.lat.data)\n",
    "lon = np.nanmedian(ds.lon.data)\n",
    "z = 10.\n",
    "\n",
    "p = conversions.p_from_z(-z, lat)\n",
    "SA = 33.7"
   ]
  },
  {
   "cell_type": "markdown",
   "id": "571b166d-3a8b-459f-a91a-9cc7bcf080b2",
   "metadata": {},
   "source": [
    "## OC"
   ]
  },
  {
   "cell_type": "code",
   "execution_count": 37,
   "id": "727adf0b-6dce-4e79-90a0-efbc59e4ffe5",
   "metadata": {
    "tags": []
   },
   "outputs": [],
   "source": [
    "CTs = np.linspace(12., 25., 100)\n",
    "OCs = gsw.O2sol(SA, CTs, p, lon, lat)"
   ]
  },
  {
   "cell_type": "markdown",
   "id": "d4aa6057-ddfb-4d94-9a8d-e5fb42d06aa9",
   "metadata": {},
   "source": [
    "## OC plot"
   ]
  },
  {
   "cell_type": "code",
   "execution_count": 30,
   "id": "643b0aff-76cb-47dc-8ed3-a5173ac73659",
   "metadata": {
    "tags": []
   },
   "outputs": [
    {
     "data": {
      "image/png": "[encoded data removed]",
      "text/plain": [
       "<Figure size 640x480 with 1 Axes>"
      ]
     },
     "metadata": {},
     "output_type": "display_data"
    }
   ],
   "source": [
    "plt.clf()\n",
    "ax = plt.gca()\n",
    "\n",
    "ax.plot(CTs, OCs)\n",
    "ax.set_xlabel('CT (deg C)')\n",
    "ax.set_ylabel('OC')\n",
    "\n",
    "plt.show()"
   ]
  },
  {
   "cell_type": "markdown",
   "id": "86029ae5-1cdc-4202-b424-1fc59ba04669",
   "metadata": {},
   "source": [
    "## Interpolate"
   ]
  },
  {
   "cell_type": "code",
   "execution_count": 31,
   "id": "c0fbecbc-0ed3-4b6a-9ee3-9cf1cf4fd055",
   "metadata": {
    "tags": []
   },
   "outputs": [],
   "source": [
    "f_T_OC = interp1d(CTs, OCs)\n",
    "f_OC_T = interp1d(OCs, CTs)"
   ]
  },
  {
   "cell_type": "markdown",
   "id": "433d58b1-85c5-4128-9b50-bba82ecae2c3",
   "metadata": {},
   "source": [
    "# SO vs DO"
   ]
  },
  {
   "cell_type": "code",
   "execution_count": 32,
   "id": "c639cf35-7658-4b0d-91c0-b7d6c9429a04",
   "metadata": {
    "tags": []
   },
   "outputs": [
    {
     "data": {
      "text/plain": [
       "array([17.19920422, 17.14372858, 17.0883406 , 17.03310681, 16.97796722,\n",
       "       16.9229136 , 16.86800244, 16.813195  , 16.75847184, 16.70388225])"
      ]
     },
     "execution_count": 32,
     "metadata": {},
     "output_type": "execute_result"
    }
   ],
   "source": [
    "doxys = np.linspace(240., 265., 100)\n",
    "SO1_Ts = f_OC_T(doxys)\n",
    "SO1_Ts[0:10]"
   ]
  },
  {
   "cell_type": "markdown",
   "id": "ce848040-ec57-4000-a511-b059aaad4627",
   "metadata": {},
   "source": [
    "## Add 1C"
   ]
  },
  {
   "cell_type": "code",
   "execution_count": 34,
   "id": "e0f3317d-b532-45f3-a737-7fce260170b9",
   "metadata": {
    "tags": []
   },
   "outputs": [],
   "source": [
    "T1_Ts = SO1_Ts + 1.\n",
    "T1_OCs = f_T_OC(T1_Ts)\n",
    "T1_SOs = doxys / T1_OCs"
   ]
  },
  {
   "cell_type": "markdown",
   "id": "fe207886-f2b5-484e-856c-609133262ac0",
   "metadata": {},
   "source": [
    "## Figure"
   ]
  },
  {
   "cell_type": "code",
   "execution_count": 44,
   "id": "86350053-f2bb-431f-827d-8b0a92c70cdf",
   "metadata": {
    "tags": []
   },
   "outputs": [
    {
     "data": {
      "image/png": "[encoded data removed]",
      "text/plain": [
       "<Figure size 1000x1000 with 1 Axes>"
      ]
     },
     "metadata": {},
     "output_type": "display_data"
    }
   ],
   "source": [
    "fig = plt.figure(figsize=(10,10))\n",
    "plt.clf()\n",
    "ax = plt.gca()\n",
    "\n",
    "sns.histplot(highSO_tbl, x='doxy', y='SO', ax=ax)\n",
    "\n",
    "# T1\n",
    "for DT, clr in zip([1., 2.], ['r', 'g']):\n",
    "    DT_Ts = SO1_Ts + DT\n",
    "    DT_OCs = f_T_OC(DT_Ts)\n",
    "    DT_SOs = doxys / DT_OCs\n",
    "    ax.plot(doxys, DT_SOs, color=clr, label=f'T+{DT}')\n",
    "\n",
    "ax.legend(loc='upper left', fontsize=15.)\n",
    "\n",
    "plot_utils.set_fontsize(ax, 17.)\n",
    "\n",
    "plt.show()"
   ]
  },
  {
   "cell_type": "code",
   "execution_count": null,
   "id": "ad4839d5-6c54-46d7-baca-c3ebc7cd7fcb",
   "metadata": {},
   "outputs": [],
   "source": []
  }
 ],
 "metadata": {
  "kernelspec": {
   "display_name": "Python 3 (ipykernel)",
   "language": "python",
   "name": "python3"
  },
  "language_info": {
   "codemirror_mode": {
    "name": "ipython",
    "version": 3
   },
   "file_extension": ".py",
   "mimetype": "text/x-python",
   "name": "python",
   "nbconvert_exporter": "python",
   "pygments_lexer": "ipython3",
   "version": "3.10.9"
  }
 },
 "nbformat": 4,
 "nbformat_minor": 5
}
