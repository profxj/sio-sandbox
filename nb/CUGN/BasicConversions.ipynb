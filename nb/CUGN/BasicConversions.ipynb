{
 "cells": [
  {
   "cell_type": "markdown",
   "id": "42ea2614-c1f9-48bb-a6a5-131ada91aedf",
   "metadata": {},
   "source": [
    "# Basic Conversions"
   ]
  },
  {
   "cell_type": "code",
   "execution_count": 20,
   "id": "66eb066a-c908-418b-88a0-29d11e5ad952",
   "metadata": {},
   "outputs": [],
   "source": [
    "# imports\n",
    "import xarray\n",
    "\n",
    "import numpy as np\n",
    "from scipy import stats\n",
    "\n",
    "from matplotlib import pyplot as plt\n",
    "import seaborn as sns\n",
    "\n",
    "import pandas\n",
    "\n",
    "from gsw import conversions, density"
   ]
  },
  {
   "cell_type": "markdown",
   "id": "1ce5ba5c-9259-46ee-b7fa-5001d7f12bd6",
   "metadata": {},
   "source": [
    "# Load up some Spray data"
   ]
  },
  {
   "cell_type": "code",
   "execution_count": 2,
   "id": "9254953a-d81e-4583-8a8d-0b5fb38fba62",
   "metadata": {},
   "outputs": [],
   "source": [
    "datafile = 'CUGN_line_90.nc'\n",
    "ds = xarray.load_dataset(datafile)"
   ]
  },
  {
   "cell_type": "code",
   "execution_count": 9,
   "id": "32acde76-082c-450d-8aaf-90976601b518",
   "metadata": {},
   "outputs": [],
   "source": [
    "t_surface = ds.temperature.data[0,:]\n",
    "s_surface = ds.salinity.data[0,:]\n",
    "o_surface = ds.doxy.data[0,:]"
   ]
  },
  {
   "cell_type": "code",
   "execution_count": 10,
   "id": "53b9a713-664e-4322-8f13-1ae672594918",
   "metadata": {},
   "outputs": [],
   "source": [
    "gd = np.isfinite(t_surface) & np.isfinite(s_surface) & np.isfinite(o_surface)"
   ]
  },
  {
   "cell_type": "code",
   "execution_count": 11,
   "id": "837646ae-6a50-4fc5-97ca-02f21f355bf2",
   "metadata": {},
   "outputs": [],
   "source": [
    "df_s = pandas.DataFrame()\n",
    "df_s['Temp'] = t_surface[gd]\n",
    "df_s['S'] = s_surface[gd]\n",
    "df_s['O'] = o_surface[gd]"
   ]
  },
  {
   "cell_type": "markdown",
   "id": "71f311d4-6ebd-450f-bc22-0493f91b240d",
   "metadata": {},
   "source": [
    "# Pressure"
   ]
  },
  {
   "cell_type": "code",
   "execution_count": 7,
   "id": "0250346c-9daf-4760-83fd-1887bf051e7b",
   "metadata": {},
   "outputs": [],
   "source": [
    "depths = -1*np.arange(10, 510, 10.)"
   ]
  },
  {
   "cell_type": "code",
   "execution_count": 12,
   "id": "9d90ef73-6807-458b-ab95-9bb024541386",
   "metadata": {},
   "outputs": [
    {
     "data": {
      "text/plain": [
       "array([ 10.07123594,  20.14296442,  30.21518535,  40.28789866,\n",
       "        50.36110426,  60.43480207,  70.50899202,  80.58367401,\n",
       "        90.65884798, 100.73451384, 110.8106715 , 120.88732089,\n",
       "       130.96446193, 141.04209454, 151.12021862, 161.19883412,\n",
       "       171.27794093, 181.35753898, 191.4376282 , 201.51820849,\n",
       "       211.59927979, 221.680842  , 231.76289504, 241.84543884,\n",
       "       251.92847332, 262.01199838, 272.09601396, 282.18051997,\n",
       "       292.26551633, 302.35100295, 312.43697977, 322.52344668,\n",
       "       332.61040362, 342.69785051, 352.78578726, 362.87421378,\n",
       "       372.96313001, 383.05253585, 393.14243123, 403.23281607,\n",
       "       413.32369028, 423.41505378, 433.5069065 , 443.59924834,\n",
       "       453.69207923, 463.78539909, 473.87920784, 483.97350539,\n",
       "       494.06829166, 504.16356657])"
      ]
     },
     "execution_count": 12,
     "metadata": {},
     "output_type": "execute_result"
    }
   ],
   "source": [
    "lat = 33.\n",
    "lon = -117.\n",
    "ps = conversions.p_from_z(depths, lat)\n",
    "ps"
   ]
  },
  {
   "cell_type": "markdown",
   "id": "88a9fed8-2f63-4c05-93e9-b8894698f417",
   "metadata": {},
   "source": [
    "# Absolute Salinity"
   ]
  },
  {
   "cell_type": "code",
   "execution_count": 15,
   "id": "950e46fd-da49-4726-b040-181c466f9dd7",
   "metadata": {},
   "outputs": [
    {
     "data": {
      "text/plain": [
       "array([33.52390461, 33.52231532, 33.51102584, ..., 32.95951189,\n",
       "       33.01864566, 33.04357405])"
      ]
     },
     "execution_count": 15,
     "metadata": {},
     "output_type": "execute_result"
    }
   ],
   "source": [
    "SP = ds.salinity.data[0,:]\n",
    "SA = conversions.SA_from_SP(df_s.S.values, ps[0], lon, lat)\n",
    "SA"
   ]
  },
  {
   "cell_type": "markdown",
   "id": "b0a98ffe-9eb9-4b39-9880-008890b3df6c",
   "metadata": {},
   "source": [
    "# Conservative Temperature"
   ]
  },
  {
   "cell_type": "code",
   "execution_count": 17,
   "id": "069d42d7-554f-42a7-85c7-eebdf0d8489e",
   "metadata": {},
   "outputs": [
    {
     "data": {
      "text/plain": [
       "array([16.24946162, 16.21498956, 16.15802432, ..., 14.46099193,\n",
       "       14.34062763, 14.2920515 ])"
      ]
     },
     "execution_count": 17,
     "metadata": {},
     "output_type": "execute_result"
    }
   ],
   "source": [
    "CT = conversions.CT_from_t(SA, df_s.Temp.values, ps[0])\n",
    "CT"
   ]
  },
  {
   "cell_type": "code",
   "execution_count": 19,
   "id": "ce8b498f-523a-4414-a543-f9840c4ab95c",
   "metadata": {},
   "outputs": [
    {
     "data": {
      "text/plain": [
       "array([0.03173435, 0.03168956, 0.0318425 , ..., 0.04099193, 0.03922763,\n",
       "       0.03849595])"
      ]
     },
     "execution_count": 19,
     "metadata": {},
     "output_type": "execute_result"
    }
   ],
   "source": [
    "CT - df_s.Temp.values"
   ]
  },
  {
   "cell_type": "markdown",
   "id": "f03d2dee-dfb8-43be-99ac-540ddd0dbfe7",
   "metadata": {},
   "source": [
    "# Potential Density"
   ]
  },
  {
   "cell_type": "code",
   "execution_count": 22,
   "id": "e18fa18c-f6c2-46ca-a3f9-750ca5253b65",
   "metadata": {},
   "outputs": [
    {
     "data": {
      "text/plain": [
       "array([24.44682892, 24.45345253, 24.45780154, ..., 24.40823388,\n",
       "       24.47848022, 24.50761227])"
      ]
     },
     "execution_count": 22,
     "metadata": {},
     "output_type": "execute_result"
    }
   ],
   "source": [
    "sigma0 = density.sigma0(SA, CT)\n",
    "sigma0"
   ]
  },
  {
   "cell_type": "code",
   "execution_count": null,
   "id": "0ae67fc5-32ab-4740-a2b4-f2fd4f3e1951",
   "metadata": {},
   "outputs": [],
   "source": []
  }
 ],
 "metadata": {
  "kernelspec": {
   "display_name": "Python 3 (ipykernel)",
   "language": "python",
   "name": "python3"
  },
  "language_info": {
   "codemirror_mode": {
    "name": "ipython",
    "version": 3
   },
   "file_extension": ".py",
   "mimetype": "text/x-python",
   "name": "python",
   "nbconvert_exporter": "python",
   "pygments_lexer": "ipython3",
   "version": "3.10.10"
  }
 },
 "nbformat": 4,
 "nbformat_minor": 5
}
